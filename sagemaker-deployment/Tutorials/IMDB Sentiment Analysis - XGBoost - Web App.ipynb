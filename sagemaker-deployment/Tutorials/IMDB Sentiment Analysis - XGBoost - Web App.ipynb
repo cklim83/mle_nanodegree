{
 "cells": [
  {
   "cell_type": "markdown",
   "metadata": {},
   "source": [
    "# Sentiment Analysis Web App\n",
    "\n",
    "_Deep Learning Nanodegree Program | Deployment_\n",
    "\n",
    "---\n",
    "\n",
    "In this notebook we will use Amazon's SageMaker service to construct a random tree model to predict the sentiment of a movie review. In addition, we will deploy this model to an endpoint and construct a very simple web app which will interact with our model's deployed endpoint.\n",
    "\n",
    "## General Outline\n",
    "\n",
    "Typically, when using a notebook instance with SageMaker, you will proceed through the following steps. Of course, not every step will need to be done with each project. Also, there is quite a lot of room for variation in many of the steps, as you will see throughout these lessons.\n",
    "\n",
    "1. Download or otherwise retrieve the data.\n",
    "2. Process / Prepare the data.\n",
    "3. Upload the processed data to S3.\n",
    "4. Train a chosen model.\n",
    "5. Test the trained model (typically using a batch transform job).\n",
    "6. Deploy the trained model.\n",
    "7. Use the deployed model.\n",
    "\n",
    "In this notebook we will progress through each of the steps above. We will also see that the final step, using the deployed model, can be quite challenging."
   ]
  },
  {
   "cell_type": "markdown",
   "metadata": {},
   "source": [
    "## Step 1: Downloading the data\n",
    "\n",
    "The dataset we are going to use is very popular among researchers in Natural Language Processing, usually referred to as the [IMDb dataset](http://ai.stanford.edu/~amaas/data/sentiment/). It consists of movie reviews from the website [imdb.com](http://www.imdb.com/), each labeled as either '**pos**itive', if the reviewer enjoyed the film, or '**neg**ative' otherwise.\n",
    "\n",
    "> Maas, Andrew L., et al. [Learning Word Vectors for Sentiment Analysis](http://ai.stanford.edu/~amaas/data/sentiment/). In _Proceedings of the 49th Annual Meeting of the Association for Computational Linguistics: Human Language Technologies_. Association for Computational Linguistics, 2011.\n",
    "\n",
    "We begin by using some Jupyter Notebook magic to download and extract the dataset."
   ]
  },
  {
   "cell_type": "code",
   "execution_count": 1,
   "metadata": {},
   "outputs": [
    {
     "name": "stdout",
     "output_type": "stream",
     "text": [
      "--2020-01-01 11:05:07--  http://ai.stanford.edu/~amaas/data/sentiment/aclImdb_v1.tar.gz\n",
      "Resolving ai.stanford.edu (ai.stanford.edu)... 171.64.68.10\n",
      "Connecting to ai.stanford.edu (ai.stanford.edu)|171.64.68.10|:80... connected.\n",
      "HTTP request sent, awaiting response... 200 OK\n",
      "Length: 84125825 (80M) [application/x-gzip]\n",
      "Saving to: ‘../data/aclImdb_v1.tar.gz’\n",
      "\n",
      "../data/aclImdb_v1. 100%[===================>]  80.23M  23.1MB/s    in 4.2s    \n",
      "\n",
      "2020-01-01 11:05:12 (19.1 MB/s) - ‘../data/aclImdb_v1.tar.gz’ saved [84125825/84125825]\n",
      "\n"
     ]
    }
   ],
   "source": [
    "%mkdir ../data\n",
    "!wget -O ../data/aclImdb_v1.tar.gz http://ai.stanford.edu/~amaas/data/sentiment/aclImdb_v1.tar.gz\n",
    "!tar -zxf ../data/aclImdb_v1.tar.gz -C ../data"
   ]
  },
  {
   "cell_type": "markdown",
   "metadata": {},
   "source": [
    "## Step 2: Preparing and Processing the data\n",
    "\n",
    "The data we have downloaded is split into various files, each of which contains a single review. It will be much easier going forward if we combine these individual files into two large files, one for training and one for testing."
   ]
  },
  {
   "cell_type": "code",
   "execution_count": 2,
   "metadata": {},
   "outputs": [],
   "source": [
    "import os\n",
    "import glob\n",
    "\n",
    "def read_imdb_data(data_dir='../data/aclImdb'):\n",
    "    data = {}\n",
    "    labels = {}\n",
    "    \n",
    "    for data_type in ['train', 'test']:\n",
    "        data[data_type] = {}\n",
    "        labels[data_type] = {}\n",
    "        \n",
    "        for sentiment in ['pos', 'neg']:\n",
    "            data[data_type][sentiment] = []\n",
    "            labels[data_type][sentiment] = []\n",
    "            \n",
    "            path = os.path.join(data_dir, data_type, sentiment, '*.txt')\n",
    "            files = glob.glob(path)\n",
    "            \n",
    "            for f in files:\n",
    "                with open(f) as review:\n",
    "                    data[data_type][sentiment].append(review.read())\n",
    "                    # Here we represent a positive review by '1' and a negative review by '0'\n",
    "                    labels[data_type][sentiment].append(1 if sentiment == 'pos' else 0)\n",
    "                    \n",
    "            assert len(data[data_type][sentiment]) == len(labels[data_type][sentiment]), \\\n",
    "                    \"{}/{} data size does not match labels size\".format(data_type, sentiment)\n",
    "                \n",
    "    return data, labels"
   ]
  },
  {
   "cell_type": "code",
   "execution_count": 3,
   "metadata": {},
   "outputs": [
    {
     "name": "stdout",
     "output_type": "stream",
     "text": [
      "IMDB reviews: train = 12500 pos / 12500 neg, test = 12500 pos / 12500 neg\n"
     ]
    }
   ],
   "source": [
    "data, labels = read_imdb_data()\n",
    "print(\"IMDB reviews: train = {} pos / {} neg, test = {} pos / {} neg\".format(\n",
    "            len(data['train']['pos']), len(data['train']['neg']),\n",
    "            len(data['test']['pos']), len(data['test']['neg'])))"
   ]
  },
  {
   "cell_type": "code",
   "execution_count": 4,
   "metadata": {},
   "outputs": [],
   "source": [
    "from sklearn.utils import shuffle\n",
    "\n",
    "def prepare_imdb_data(data, labels):\n",
    "    \"\"\"Prepare training and test sets from IMDb movie reviews.\"\"\"\n",
    "    \n",
    "    #Combine positive and negative reviews and labels\n",
    "    data_train = data['train']['pos'] + data['train']['neg']\n",
    "    data_test = data['test']['pos'] + data['test']['neg']\n",
    "    labels_train = labels['train']['pos'] + labels['train']['neg']\n",
    "    labels_test = labels['test']['pos'] + labels['test']['neg']\n",
    "    \n",
    "    #Shuffle reviews and corresponding labels within training and test sets\n",
    "    data_train, labels_train = shuffle(data_train, labels_train)\n",
    "    data_test, labels_test = shuffle(data_test, labels_test)\n",
    "    \n",
    "    # Return a unified training data, test data, training labels, test labets\n",
    "    return data_train, data_test, labels_train, labels_test"
   ]
  },
  {
   "cell_type": "code",
   "execution_count": 5,
   "metadata": {},
   "outputs": [
    {
     "name": "stdout",
     "output_type": "stream",
     "text": [
      "IMDb reviews (combined): train = 25000, test = 25000\n"
     ]
    }
   ],
   "source": [
    "train_X, test_X, train_y, test_y = prepare_imdb_data(data, labels)\n",
    "print(\"IMDb reviews (combined): train = {}, test = {}\".format(len(train_X), len(test_X)))"
   ]
  },
  {
   "cell_type": "code",
   "execution_count": 6,
   "metadata": {},
   "outputs": [
    {
     "data": {
      "text/plain": [
       "'I have seen this film only the one time about 25 years ago, and to this day I have always told people it is probably the best film I have ever seen. Considering there was no verbal dialogue and only thought dialogue i found the film to be enthralling and I even found myself holding my breath so as not to make any sound. I would highly recomend this film, I wish it was available on DVD.'"
      ]
     },
     "execution_count": 6,
     "metadata": {},
     "output_type": "execute_result"
    }
   ],
   "source": [
    "train_X[100]"
   ]
  },
  {
   "cell_type": "markdown",
   "metadata": {},
   "source": [
    "## Processing the data\n",
    "\n",
    "Now that we have our training and testing datasets merged and ready to use, we need to start processing the raw data into something that will be useable by our machine learning algorithm. To begin with, we remove any html formatting and any non-alpha numeric characters that may appear in the reviews. We will do this in a very simplistic way using Python's regular expression module. We will discuss the reason for this rather simplistic pre-processing later on."
   ]
  },
  {
   "cell_type": "code",
   "execution_count": 7,
   "metadata": {},
   "outputs": [],
   "source": [
    "import re\n",
    "\n",
    "REPLACE_NO_SPACE = re.compile(\"(\\.)|(\\;)|(\\:)|(\\!)|(\\')|(\\?)|(\\,)|(\\\")|(\\()|(\\))|(\\[)|(\\])\")\n",
    "REPLACE_WITH_SPACE = re.compile(\"(<br\\s*/><br\\s*/>)|(\\-)|(\\/)\")\n",
    "\n",
    "def review_to_words(review):\n",
    "    words = REPLACE_NO_SPACE.sub(\"\", review.lower())\n",
    "    words = REPLACE_WITH_SPACE.sub(\" \", words)\n",
    "    return words"
   ]
  },
  {
   "cell_type": "code",
   "execution_count": 8,
   "metadata": {},
   "outputs": [
    {
     "data": {
      "text/plain": [
       "'i have seen this film only the one time about 25 years ago and to this day i have always told people it is probably the best film i have ever seen considering there was no verbal dialogue and only thought dialogue i found the film to be enthralling and i even found myself holding my breath so as not to make any sound i would highly recomend this film i wish it was available on dvd'"
      ]
     },
     "execution_count": 8,
     "metadata": {},
     "output_type": "execute_result"
    }
   ],
   "source": [
    "review_to_words(train_X[100])"
   ]
  },
  {
   "cell_type": "code",
   "execution_count": 9,
   "metadata": {},
   "outputs": [],
   "source": [
    "import pickle\n",
    "\n",
    "cache_dir = os.path.join(\"../cache\", \"sentiment_web_app\")  # where to store cache files\n",
    "os.makedirs(cache_dir, exist_ok=True)  # ensure cache directory exists\n",
    "\n",
    "def preprocess_data(data_train, data_test, labels_train, labels_test,\n",
    "                    cache_dir=cache_dir, cache_file=\"preprocessed_data.pkl\"):\n",
    "    \"\"\"Convert each review to words; read from cache if available.\"\"\"\n",
    "\n",
    "    # If cache_file is not None, try to read from it first\n",
    "    cache_data = None\n",
    "    if cache_file is not None:\n",
    "        try:\n",
    "            with open(os.path.join(cache_dir, cache_file), \"rb\") as f:\n",
    "                cache_data = pickle.load(f)\n",
    "            print(\"Read preprocessed data from cache file:\", cache_file)\n",
    "        except:\n",
    "            pass  # unable to read from cache, but that's okay\n",
    "    \n",
    "    # If cache is missing, then do the heavy lifting\n",
    "    if cache_data is None:\n",
    "        # Preprocess training and test data to obtain words for each review\n",
    "        #words_train = list(map(review_to_words, data_train))\n",
    "        #words_test = list(map(review_to_words, data_test))\n",
    "        words_train = [review_to_words(review) for review in data_train]\n",
    "        words_test = [review_to_words(review) for review in data_test]\n",
    "        \n",
    "        # Write to cache file for future runs\n",
    "        if cache_file is not None:\n",
    "            cache_data = dict(words_train=words_train, words_test=words_test,\n",
    "                              labels_train=labels_train, labels_test=labels_test)\n",
    "            with open(os.path.join(cache_dir, cache_file), \"wb\") as f:\n",
    "                pickle.dump(cache_data, f)\n",
    "            print(\"Wrote preprocessed data to cache file:\", cache_file)\n",
    "    else:\n",
    "        # Unpack data loaded from cache file\n",
    "        words_train, words_test, labels_train, labels_test = (cache_data['words_train'],\n",
    "                cache_data['words_test'], cache_data['labels_train'], cache_data['labels_test'])\n",
    "    \n",
    "    return words_train, words_test, labels_train, labels_test"
   ]
  },
  {
   "cell_type": "code",
   "execution_count": 10,
   "metadata": {},
   "outputs": [
    {
     "name": "stdout",
     "output_type": "stream",
     "text": [
      "Wrote preprocessed data to cache file: preprocessed_data.pkl\n"
     ]
    }
   ],
   "source": [
    "# Preprocess data\n",
    "train_X, test_X, train_y, test_y = preprocess_data(train_X, test_X, train_y, test_y)"
   ]
  },
  {
   "cell_type": "markdown",
   "metadata": {},
   "source": [
    "### Extract Bag-of-Words features\n",
    "\n",
    "For the model we will be implementing, rather than using the reviews directly, we are going to transform each review into a Bag-of-Words feature representation. Keep in mind that 'in the wild' we will only have access to the training set so our transformer can only use the training set to construct a representation."
   ]
  },
  {
   "cell_type": "code",
   "execution_count": 11,
   "metadata": {},
   "outputs": [],
   "source": [
    "import numpy as np\n",
    "from sklearn.feature_extraction.text import CountVectorizer\n",
    "from sklearn.externals import joblib\n",
    "# joblib is an enhanced version of pickle that is more efficient for storing NumPy arrays\n",
    "\n",
    "def extract_BoW_features(words_train, words_test, vocabulary_size=5000,\n",
    "                         cache_dir=cache_dir, cache_file=\"bow_features.pkl\"):\n",
    "    \"\"\"Extract Bag-of-Words for a given set of documents, already preprocessed into words.\"\"\"\n",
    "    \n",
    "    # If cache_file is not None, try to read from it first\n",
    "    cache_data = None\n",
    "    if cache_file is not None:\n",
    "        try:\n",
    "            with open(os.path.join(cache_dir, cache_file), \"rb\") as f:\n",
    "                cache_data = joblib.load(f)\n",
    "            print(\"Read features from cache file:\", cache_file)\n",
    "        except:\n",
    "            pass  # unable to read from cache, but that's okay\n",
    "    \n",
    "    # If cache is missing, then do the heavy lifting\n",
    "    if cache_data is None:\n",
    "        # Fit a vectorizer to training documents and use it to transform them\n",
    "        # NOTE: Training documents have already been preprocessed and tokenized into words;\n",
    "        #       pass in dummy functions to skip those steps, e.g. preprocessor=lambda x: x\n",
    "        vectorizer = CountVectorizer(max_features=vocabulary_size)\n",
    "        features_train = vectorizer.fit_transform(words_train).toarray()\n",
    "\n",
    "        # Apply the same vectorizer to transform the test documents (ignore unknown words)\n",
    "        features_test = vectorizer.transform(words_test).toarray()\n",
    "        \n",
    "        # NOTE: Remember to convert the features using .toarray() for a compact representation\n",
    "        \n",
    "        # Write to cache file for future runs (store vocabulary as well)\n",
    "        if cache_file is not None:\n",
    "            vocabulary = vectorizer.vocabulary_\n",
    "            cache_data = dict(features_train=features_train, features_test=features_test,\n",
    "                             vocabulary=vocabulary)\n",
    "            with open(os.path.join(cache_dir, cache_file), \"wb\") as f:\n",
    "                joblib.dump(cache_data, f)\n",
    "            print(\"Wrote features to cache file:\", cache_file)\n",
    "    else:\n",
    "        # Unpack data loaded from cache file\n",
    "        features_train, features_test, vocabulary = (cache_data['features_train'],\n",
    "                cache_data['features_test'], cache_data['vocabulary'])\n",
    "    \n",
    "    # Return both the extracted features as well as the vocabulary\n",
    "    return features_train, features_test, vocabulary"
   ]
  },
  {
   "cell_type": "code",
   "execution_count": 12,
   "metadata": {},
   "outputs": [
    {
     "name": "stdout",
     "output_type": "stream",
     "text": [
      "Wrote features to cache file: bow_features.pkl\n"
     ]
    }
   ],
   "source": [
    "# Extract Bag of Words features for both training and test datasets\n",
    "train_X, test_X, vocabulary = extract_BoW_features(train_X, test_X)"
   ]
  },
  {
   "cell_type": "code",
   "execution_count": 13,
   "metadata": {},
   "outputs": [
    {
     "data": {
      "text/plain": [
       "5000"
      ]
     },
     "execution_count": 13,
     "metadata": {},
     "output_type": "execute_result"
    }
   ],
   "source": [
    "len(train_X[100])"
   ]
  },
  {
   "cell_type": "markdown",
   "metadata": {},
   "source": [
    "## Step 3: Upload data to S3\n",
    "\n",
    "Now that we have created the feature representation of our training (and testing) data, it is time to start setting up and using the XGBoost classifier provided by SageMaker.\n",
    "\n",
    "### Writing the datasets\n",
    "\n",
    "The XGBoost classifier that we will be using requires the dataset to be written to a file and stored using Amazon S3. To do this, we will start by splitting the training dataset into two parts, the data we will train the model with and a validation set. Then, we will write those datasets to a file locally and then upload the files to S3. In addition, we will write the test set to a file and upload that file to S3. This is so that we can use SageMakers Batch Transform functionality to test our model once we've fit it."
   ]
  },
  {
   "cell_type": "code",
   "execution_count": 14,
   "metadata": {},
   "outputs": [],
   "source": [
    "import pandas as pd\n",
    "\n",
    "# Earlier we shuffled the training dataset so to make things simple we can just assign\n",
    "# the first 10 000 reviews to the validation set and use the remaining reviews for training.\n",
    "val_X = pd.DataFrame(train_X[:10000])\n",
    "train_X = pd.DataFrame(train_X[10000:])\n",
    "\n",
    "val_y = pd.DataFrame(train_y[:10000])\n",
    "train_y = pd.DataFrame(train_y[10000:])"
   ]
  },
  {
   "cell_type": "markdown",
   "metadata": {},
   "source": [
    "The documentation for the XGBoost algorithm in SageMaker requires that the training and validation datasets should contain no headers or index and that the label should occur first for each sample.\n",
    "\n",
    "For more information about this and other algorithms, the SageMaker developer documentation can be found on __[Amazon's website.](https://docs.aws.amazon.com/sagemaker/latest/dg/)__"
   ]
  },
  {
   "cell_type": "code",
   "execution_count": 15,
   "metadata": {},
   "outputs": [],
   "source": [
    "# First we make sure that the local directory in which we'd like to store the training and validation csv files exists.\n",
    "data_dir = '../data/sentiment_web_app'\n",
    "if not os.path.exists(data_dir):\n",
    "    os.makedirs(data_dir)"
   ]
  },
  {
   "cell_type": "code",
   "execution_count": 16,
   "metadata": {},
   "outputs": [],
   "source": [
    "pd.DataFrame(test_X).to_csv(os.path.join(data_dir, 'test.csv'), header=False, index=False)\n",
    "\n",
    "pd.concat([val_y, val_X], axis=1).to_csv(os.path.join(data_dir, 'validation.csv'), header=False, index=False)\n",
    "pd.concat([train_y, train_X], axis=1).to_csv(os.path.join(data_dir, 'train.csv'), header=False, index=False)"
   ]
  },
  {
   "cell_type": "code",
   "execution_count": 17,
   "metadata": {},
   "outputs": [],
   "source": [
    "# To save a bit of memory we can set text_X, train_X, val_X, train_y and val_y to None.\n",
    "\n",
    "test_X = train_X = val_X = train_y = val_y = None"
   ]
  },
  {
   "cell_type": "markdown",
   "metadata": {},
   "source": [
    "### Uploading Training / Validation files to S3\n",
    "\n",
    "Amazon's S3 service allows us to store files that can be accessed by both the built-in training models such as the XGBoost model we will be using as well as custom models such as the one we will see a little later.\n",
    "\n",
    "For this and most other tasks we will be doing using SageMaker, there are two methods we could use. The first is to use the low level functionality of SageMaker which requires knowing each of the objects involved in the SageMaker environment. The second is to use the high level functionality in which certain choices have been made on the user's behalf. The low level approach benefits from allowing the user a great deal of flexibility while the high level approach makes development much quicker. For our purposes we will opt to use the high level approach although using the low-level approach is certainly an option.\n",
    "\n",
    "Recall the method `upload_data()` which is a member of the object representing our current SageMaker session. What this method does is upload the data to the default bucket (which is created if it does not exist) into the path described by the key_prefix variable. To see this for yourself, once you have uploaded the data files, go to the S3 console and look to see where the files have been uploaded.\n",
    "\n",
    "For additional resources, see the __[SageMaker API documentation](http://sagemaker.readthedocs.io/en/latest/)__ and in addition the __[SageMaker Developer Guide.](https://docs.aws.amazon.com/sagemaker/latest/dg/)__"
   ]
  },
  {
   "cell_type": "code",
   "execution_count": 18,
   "metadata": {},
   "outputs": [],
   "source": [
    "import sagemaker\n",
    "\n",
    "session = sagemaker.Session() # Store the current SageMaker session\n",
    "\n",
    "# S3 prefix (which folder will we use)\n",
    "prefix = 'sentiment-web-app'\n",
    "\n",
    "test_location = session.upload_data(os.path.join(data_dir, 'test.csv'), key_prefix=prefix)\n",
    "val_location = session.upload_data(os.path.join(data_dir, 'validation.csv'), key_prefix=prefix)\n",
    "train_location = session.upload_data(os.path.join(data_dir, 'train.csv'), key_prefix=prefix)"
   ]
  },
  {
   "cell_type": "markdown",
   "metadata": {},
   "source": [
    "## Step 4: Creating the XGBoost model\n",
    "\n",
    "Now that the data has been uploaded it is time to create the XGBoost model. To begin with, we need to do some setup. At this point it is worth discussing what a model is in SageMaker. It is easiest to think of a model of comprising three different objects in the SageMaker ecosystem, which interact with one another.\n",
    "\n",
    "- Model Artifacts\n",
    "- Training Code (Container)\n",
    "- Inference Code (Container)\n",
    "\n",
    "The Model Artifacts are what you might think of as the actual model itself. For example, if you were building a neural network, the model artifacts would be the weights of the various layers. In our case, for an XGBoost model, the artifacts are the actual trees that are created during training.\n",
    "\n",
    "The other two objects, the training code and the inference code are then used to manipulate the training artifacts. More precisely, the training code uses the training data that is provided and creates the model artifacts, while the inference code uses the model artifacts to make predictions on new data.\n",
    "\n",
    "The way that SageMaker runs the training and inference code is by making use of Docker containers. For now, think of a container as being a way of packaging code up so that dependencies aren't an issue."
   ]
  },
  {
   "cell_type": "code",
   "execution_count": 19,
   "metadata": {},
   "outputs": [],
   "source": [
    "from sagemaker import get_execution_role\n",
    "\n",
    "# Our current execution role is required when creating the model as the training\n",
    "# and inference code will need to access the model artifacts.\n",
    "role = get_execution_role()"
   ]
  },
  {
   "cell_type": "code",
   "execution_count": 20,
   "metadata": {},
   "outputs": [
    {
     "name": "stderr",
     "output_type": "stream",
     "text": [
      "WARNING:root:There is a more up to date SageMaker XGBoost image. To use the newer image, please set 'repo_version'='0.90-1'. For example:\n",
      "\tget_image_uri(region, 'xgboost', '0.90-1').\n"
     ]
    }
   ],
   "source": [
    "# We need to retrieve the location of the container which is provided by Amazon for using XGBoost.\n",
    "# As a matter of convenience, the training and inference code both use the same container.\n",
    "from sagemaker.amazon.amazon_estimator import get_image_uri\n",
    "\n",
    "container = get_image_uri(session.boto_region_name, 'xgboost')"
   ]
  },
  {
   "cell_type": "code",
   "execution_count": 21,
   "metadata": {},
   "outputs": [],
   "source": [
    "# First we create a SageMaker estimator object for our model.\n",
    "xgb = sagemaker.estimator.Estimator(container, # The location of the container we wish to use\n",
    "                                    role,                                    # What is our current IAM Role\n",
    "                                    train_instance_count=1,                  # How many compute instances\n",
    "                                    train_instance_type='ml.m4.xlarge',      # What kind of compute instances\n",
    "                                    output_path='s3://{}/{}/output'.format(session.default_bucket(), prefix),\n",
    "                                    sagemaker_session=session)\n",
    "\n",
    "# And then set the algorithm specific parameters.\n",
    "xgb.set_hyperparameters(max_depth=5,\n",
    "                        eta=0.2,\n",
    "                        gamma=4,\n",
    "                        min_child_weight=6,\n",
    "                        subsample=0.8,\n",
    "                        silent=0,\n",
    "                        objective='binary:logistic',\n",
    "                        early_stopping_rounds=10,\n",
    "                        num_round=500)"
   ]
  },
  {
   "cell_type": "markdown",
   "metadata": {},
   "source": [
    "### Fit the XGBoost model\n",
    "\n",
    "Now that our model has been set up we simply need to attach the training and validation datasets and then ask SageMaker to set up the computation."
   ]
  },
  {
   "cell_type": "code",
   "execution_count": 22,
   "metadata": {},
   "outputs": [],
   "source": [
    "s3_input_train = sagemaker.s3_input(s3_data=train_location, content_type='csv')\n",
    "s3_input_validation = sagemaker.s3_input(s3_data=val_location, content_type='csv')"
   ]
  },
  {
   "cell_type": "code",
   "execution_count": 23,
   "metadata": {},
   "outputs": [
    {
     "name": "stdout",
     "output_type": "stream",
     "text": [
      "2020-01-01 11:11:04 Starting - Starting the training job...\n",
      "2020-01-01 11:11:05 Starting - Launching requested ML instances.........\n",
      "2020-01-01 11:12:38 Starting - Preparing the instances for training......\n",
      "2020-01-01 11:13:40 Downloading - Downloading input data...\n",
      "2020-01-01 11:14:32 Training - Training image download completed. Training in progress..\u001b[34mArguments: train\u001b[0m\n",
      "\u001b[34m[2020-01-01:11:14:33:INFO] Running standalone xgboost training.\u001b[0m\n",
      "\u001b[34m[2020-01-01:11:14:33:INFO] File size need to be processed in the node: 238.5mb. Available memory size in the node: 8518.27mb\u001b[0m\n",
      "\u001b[34m[2020-01-01:11:14:33:INFO] Determined delimiter of CSV input is ','\u001b[0m\n",
      "\u001b[34m[11:14:33] S3DistributionType set as FullyReplicated\u001b[0m\n",
      "\u001b[34m[11:14:35] 15000x5000 matrix with 75000000 entries loaded from /opt/ml/input/data/train?format=csv&label_column=0&delimiter=,\u001b[0m\n",
      "\u001b[34m[2020-01-01:11:14:35:INFO] Determined delimiter of CSV input is ','\u001b[0m\n",
      "\u001b[34m[11:14:35] S3DistributionType set as FullyReplicated\u001b[0m\n",
      "\u001b[34m[11:14:36] 10000x5000 matrix with 50000000 entries loaded from /opt/ml/input/data/validation?format=csv&label_column=0&delimiter=,\u001b[0m\n",
      "\u001b[34m[11:14:40] src/tree/updater_prune.cc:74: tree pruning end, 1 roots, 40 extra nodes, 8 pruned nodes, max_depth=5\u001b[0m\n",
      "\u001b[34m[0]#011train-error:0.305667#011validation-error:0.3104\u001b[0m\n",
      "\u001b[34mMultiple eval metrics have been passed: 'validation-error' will be used for early stopping.\n",
      "\u001b[0m\n",
      "\u001b[34mWill train until validation-error hasn't improved in 10 rounds.\u001b[0m\n",
      "\u001b[34m[11:14:41] src/tree/updater_prune.cc:74: tree pruning end, 1 roots, 40 extra nodes, 6 pruned nodes, max_depth=5\u001b[0m\n",
      "\u001b[34m[1]#011train-error:0.275333#011validation-error:0.287\u001b[0m\n",
      "\u001b[34m[11:14:43] src/tree/updater_prune.cc:74: tree pruning end, 1 roots, 40 extra nodes, 8 pruned nodes, max_depth=5\u001b[0m\n",
      "\u001b[34m[2]#011train-error:0.281667#011validation-error:0.2917\u001b[0m\n",
      "\u001b[34m[11:14:44] src/tree/updater_prune.cc:74: tree pruning end, 1 roots, 42 extra nodes, 4 pruned nodes, max_depth=5\u001b[0m\n",
      "\u001b[34m[3]#011train-error:0.272467#011validation-error:0.2807\u001b[0m\n",
      "\u001b[34m[11:14:45] src/tree/updater_prune.cc:74: tree pruning end, 1 roots, 40 extra nodes, 8 pruned nodes, max_depth=5\u001b[0m\n",
      "\u001b[34m[4]#011train-error:0.261067#011validation-error:0.2736\u001b[0m\n",
      "\u001b[34m[11:14:46] src/tree/updater_prune.cc:74: tree pruning end, 1 roots, 30 extra nodes, 4 pruned nodes, max_depth=5\u001b[0m\n",
      "\u001b[34m[5]#011train-error:0.253267#011validation-error:0.2633\u001b[0m\n",
      "\u001b[34m[11:14:48] src/tree/updater_prune.cc:74: tree pruning end, 1 roots, 34 extra nodes, 4 pruned nodes, max_depth=5\u001b[0m\n",
      "\u001b[34m[6]#011train-error:0.248467#011validation-error:0.2598\u001b[0m\n",
      "\u001b[34m[11:14:49] src/tree/updater_prune.cc:74: tree pruning end, 1 roots, 38 extra nodes, 6 pruned nodes, max_depth=5\u001b[0m\n",
      "\u001b[34m[7]#011train-error:0.240133#011validation-error:0.2556\u001b[0m\n",
      "\u001b[34m[11:14:50] src/tree/updater_prune.cc:74: tree pruning end, 1 roots, 34 extra nodes, 2 pruned nodes, max_depth=5\u001b[0m\n",
      "\u001b[34m[8]#011train-error:0.236733#011validation-error:0.2533\u001b[0m\n",
      "\u001b[34m[11:14:51] src/tree/updater_prune.cc:74: tree pruning end, 1 roots, 24 extra nodes, 8 pruned nodes, max_depth=5\u001b[0m\n",
      "\u001b[34m[9]#011train-error:0.229067#011validation-error:0.2466\u001b[0m\n",
      "\u001b[34m[11:14:53] src/tree/updater_prune.cc:74: tree pruning end, 1 roots, 40 extra nodes, 4 pruned nodes, max_depth=5\u001b[0m\n",
      "\u001b[34m[10]#011train-error:0.223467#011validation-error:0.2427\u001b[0m\n",
      "\u001b[34m[11:14:54] src/tree/updater_prune.cc:74: tree pruning end, 1 roots, 24 extra nodes, 12 pruned nodes, max_depth=5\u001b[0m\n",
      "\u001b[34m[11]#011train-error:0.2174#011validation-error:0.2373\u001b[0m\n",
      "\u001b[34m[11:14:55] src/tree/updater_prune.cc:74: tree pruning end, 1 roots, 32 extra nodes, 4 pruned nodes, max_depth=5\u001b[0m\n",
      "\u001b[34m[12]#011train-error:0.213133#011validation-error:0.2346\u001b[0m\n",
      "\u001b[34m[11:14:57] src/tree/updater_prune.cc:74: tree pruning end, 1 roots, 36 extra nodes, 10 pruned nodes, max_depth=5\u001b[0m\n",
      "\u001b[34m[13]#011train-error:0.208867#011validation-error:0.2266\u001b[0m\n",
      "\u001b[34m[11:14:58] src/tree/updater_prune.cc:74: tree pruning end, 1 roots, 32 extra nodes, 2 pruned nodes, max_depth=5\u001b[0m\n",
      "\u001b[34m[14]#011train-error:0.203733#011validation-error:0.2242\u001b[0m\n",
      "\u001b[34m[11:14:59] src/tree/updater_prune.cc:74: tree pruning end, 1 roots, 30 extra nodes, 12 pruned nodes, max_depth=5\u001b[0m\n",
      "\u001b[34m[15]#011train-error:0.200067#011validation-error:0.2209\u001b[0m\n",
      "\u001b[34m[11:15:00] src/tree/updater_prune.cc:74: tree pruning end, 1 roots, 28 extra nodes, 6 pruned nodes, max_depth=5\u001b[0m\n",
      "\u001b[34m[16]#011train-error:0.197933#011validation-error:0.2187\u001b[0m\n",
      "\u001b[34m[11:15:02] src/tree/updater_prune.cc:74: tree pruning end, 1 roots, 20 extra nodes, 6 pruned nodes, max_depth=5\u001b[0m\n",
      "\u001b[34m[17]#011train-error:0.196267#011validation-error:0.2176\u001b[0m\n",
      "\u001b[34m[11:15:03] src/tree/updater_prune.cc:74: tree pruning end, 1 roots, 20 extra nodes, 8 pruned nodes, max_depth=5\u001b[0m\n",
      "\u001b[34m[18]#011train-error:0.191733#011validation-error:0.2166\u001b[0m\n",
      "\u001b[34m[11:15:04] src/tree/updater_prune.cc:74: tree pruning end, 1 roots, 20 extra nodes, 12 pruned nodes, max_depth=5\u001b[0m\n",
      "\u001b[34m[19]#011train-error:0.191#011validation-error:0.2126\u001b[0m\n",
      "\u001b[34m[11:15:06] src/tree/updater_prune.cc:74: tree pruning end, 1 roots, 24 extra nodes, 8 pruned nodes, max_depth=5\u001b[0m\n",
      "\u001b[34m[20]#011train-error:0.188467#011validation-error:0.211\u001b[0m\n",
      "\u001b[34m[11:15:07] src/tree/updater_prune.cc:74: tree pruning end, 1 roots, 38 extra nodes, 8 pruned nodes, max_depth=5\u001b[0m\n",
      "\u001b[34m[21]#011train-error:0.1848#011validation-error:0.2085\u001b[0m\n",
      "\u001b[34m[11:15:08] src/tree/updater_prune.cc:74: tree pruning end, 1 roots, 32 extra nodes, 4 pruned nodes, max_depth=5\u001b[0m\n",
      "\u001b[34m[22]#011train-error:0.183133#011validation-error:0.2049\u001b[0m\n",
      "\u001b[34m[11:15:09] src/tree/updater_prune.cc:74: tree pruning end, 1 roots, 24 extra nodes, 14 pruned nodes, max_depth=5\u001b[0m\n",
      "\u001b[34m[23]#011train-error:0.181533#011validation-error:0.2071\u001b[0m\n",
      "\u001b[34m[11:15:11] src/tree/updater_prune.cc:74: tree pruning end, 1 roots, 36 extra nodes, 4 pruned nodes, max_depth=5\u001b[0m\n",
      "\u001b[34m[24]#011train-error:0.177267#011validation-error:0.2038\u001b[0m\n",
      "\u001b[34m[11:15:12] src/tree/updater_prune.cc:74: tree pruning end, 1 roots, 32 extra nodes, 4 pruned nodes, max_depth=5\u001b[0m\n",
      "\u001b[34m[25]#011train-error:0.175533#011validation-error:0.2025\u001b[0m\n",
      "\u001b[34m[11:15:13] src/tree/updater_prune.cc:74: tree pruning end, 1 roots, 28 extra nodes, 8 pruned nodes, max_depth=5\u001b[0m\n",
      "\u001b[34m[26]#011train-error:0.173#011validation-error:0.1995\u001b[0m\n",
      "\u001b[34m[11:15:14] src/tree/updater_prune.cc:74: tree pruning end, 1 roots, 24 extra nodes, 12 pruned nodes, max_depth=5\u001b[0m\n",
      "\u001b[34m[27]#011train-error:0.171267#011validation-error:0.1992\u001b[0m\n",
      "\u001b[34m[11:15:16] src/tree/updater_prune.cc:74: tree pruning end, 1 roots, 22 extra nodes, 8 pruned nodes, max_depth=5\u001b[0m\n",
      "\u001b[34m[28]#011train-error:0.169933#011validation-error:0.1986\u001b[0m\n",
      "\u001b[34m[11:15:17] src/tree/updater_prune.cc:74: tree pruning end, 1 roots, 18 extra nodes, 6 pruned nodes, max_depth=5\u001b[0m\n",
      "\u001b[34m[29]#011train-error:0.169333#011validation-error:0.1977\u001b[0m\n",
      "\u001b[34m[11:15:18] src/tree/updater_prune.cc:74: tree pruning end, 1 roots, 22 extra nodes, 0 pruned nodes, max_depth=5\u001b[0m\n",
      "\u001b[34m[30]#011train-error:0.167533#011validation-error:0.1955\u001b[0m\n",
      "\u001b[34m[11:15:20] src/tree/updater_prune.cc:74: tree pruning end, 1 roots, 22 extra nodes, 6 pruned nodes, max_depth=5\u001b[0m\n",
      "\u001b[34m[31]#011train-error:0.166333#011validation-error:0.194\u001b[0m\n",
      "\u001b[34m[11:15:21] src/tree/updater_prune.cc:74: tree pruning end, 1 roots, 16 extra nodes, 10 pruned nodes, max_depth=5\u001b[0m\n",
      "\u001b[34m[32]#011train-error:0.1646#011validation-error:0.1924\u001b[0m\n",
      "\u001b[34m[11:15:22] src/tree/updater_prune.cc:74: tree pruning end, 1 roots, 30 extra nodes, 8 pruned nodes, max_depth=5\u001b[0m\n",
      "\u001b[34m[33]#011train-error:0.1626#011validation-error:0.1909\u001b[0m\n",
      "\u001b[34m[11:15:23] src/tree/updater_prune.cc:74: tree pruning end, 1 roots, 30 extra nodes, 2 pruned nodes, max_depth=5\u001b[0m\n",
      "\u001b[34m[34]#011train-error:0.1612#011validation-error:0.191\u001b[0m\n",
      "\u001b[34m[11:15:25] src/tree/updater_prune.cc:74: tree pruning end, 1 roots, 50 extra nodes, 4 pruned nodes, max_depth=5\u001b[0m\n",
      "\u001b[34m[35]#011train-error:0.1596#011validation-error:0.1893\u001b[0m\n",
      "\u001b[34m[11:15:26] src/tree/updater_prune.cc:74: tree pruning end, 1 roots, 38 extra nodes, 12 pruned nodes, max_depth=5\u001b[0m\n",
      "\u001b[34m[36]#011train-error:0.157#011validation-error:0.1896\u001b[0m\n",
      "\u001b[34m[11:15:27] src/tree/updater_prune.cc:74: tree pruning end, 1 roots, 24 extra nodes, 4 pruned nodes, max_depth=5\u001b[0m\n",
      "\u001b[34m[37]#011train-error:0.154533#011validation-error:0.1882\u001b[0m\n",
      "\u001b[34m[11:15:28] src/tree/updater_prune.cc:74: tree pruning end, 1 roots, 28 extra nodes, 6 pruned nodes, max_depth=5\u001b[0m\n",
      "\u001b[34m[38]#011train-error:0.152333#011validation-error:0.1866\u001b[0m\n",
      "\u001b[34m[11:15:30] src/tree/updater_prune.cc:74: tree pruning end, 1 roots, 22 extra nodes, 12 pruned nodes, max_depth=5\u001b[0m\n",
      "\u001b[34m[39]#011train-error:0.150867#011validation-error:0.1855\u001b[0m\n",
      "\u001b[34m[11:15:31] src/tree/updater_prune.cc:74: tree pruning end, 1 roots, 34 extra nodes, 12 pruned nodes, max_depth=5\u001b[0m\n",
      "\u001b[34m[40]#011train-error:0.148733#011validation-error:0.1859\u001b[0m\n"
     ]
    },
    {
     "name": "stdout",
     "output_type": "stream",
     "text": [
      "\u001b[34m[11:15:32] src/tree/updater_prune.cc:74: tree pruning end, 1 roots, 24 extra nodes, 8 pruned nodes, max_depth=5\u001b[0m\n",
      "\u001b[34m[41]#011train-error:0.147267#011validation-error:0.1846\u001b[0m\n",
      "\u001b[34m[11:15:33] src/tree/updater_prune.cc:74: tree pruning end, 1 roots, 18 extra nodes, 4 pruned nodes, max_depth=5\u001b[0m\n",
      "\u001b[34m[42]#011train-error:0.146933#011validation-error:0.1835\u001b[0m\n",
      "\u001b[34m[11:15:35] src/tree/updater_prune.cc:74: tree pruning end, 1 roots, 32 extra nodes, 8 pruned nodes, max_depth=5\u001b[0m\n",
      "\u001b[34m[43]#011train-error:0.144733#011validation-error:0.1816\u001b[0m\n",
      "\u001b[34m[11:15:36] src/tree/updater_prune.cc:74: tree pruning end, 1 roots, 26 extra nodes, 6 pruned nodes, max_depth=5\u001b[0m\n",
      "\u001b[34m[44]#011train-error:0.1434#011validation-error:0.1806\u001b[0m\n",
      "\u001b[34m[11:15:37] src/tree/updater_prune.cc:74: tree pruning end, 1 roots, 32 extra nodes, 6 pruned nodes, max_depth=5\u001b[0m\n",
      "\u001b[34m[45]#011train-error:0.142#011validation-error:0.179\u001b[0m\n",
      "\u001b[34m[11:15:39] src/tree/updater_prune.cc:74: tree pruning end, 1 roots, 20 extra nodes, 6 pruned nodes, max_depth=5\u001b[0m\n",
      "\u001b[34m[46]#011train-error:0.142667#011validation-error:0.1797\u001b[0m\n",
      "\u001b[34m[11:15:40] src/tree/updater_prune.cc:74: tree pruning end, 1 roots, 18 extra nodes, 16 pruned nodes, max_depth=5\u001b[0m\n",
      "\u001b[34m[47]#011train-error:0.142267#011validation-error:0.1786\u001b[0m\n",
      "\u001b[34m[11:15:41] src/tree/updater_prune.cc:74: tree pruning end, 1 roots, 20 extra nodes, 10 pruned nodes, max_depth=5\u001b[0m\n",
      "\u001b[34m[48]#011train-error:0.141333#011validation-error:0.1778\u001b[0m\n",
      "\u001b[34m[11:15:42] src/tree/updater_prune.cc:74: tree pruning end, 1 roots, 44 extra nodes, 2 pruned nodes, max_depth=5\u001b[0m\n",
      "\u001b[34m[49]#011train-error:0.137733#011validation-error:0.1755\u001b[0m\n",
      "\u001b[34m[11:15:44] src/tree/updater_prune.cc:74: tree pruning end, 1 roots, 18 extra nodes, 12 pruned nodes, max_depth=5\u001b[0m\n",
      "\u001b[34m[50]#011train-error:0.136933#011validation-error:0.1751\u001b[0m\n",
      "\u001b[34m[11:15:45] src/tree/updater_prune.cc:74: tree pruning end, 1 roots, 24 extra nodes, 8 pruned nodes, max_depth=5\u001b[0m\n",
      "\u001b[34m[51]#011train-error:0.135667#011validation-error:0.1743\u001b[0m\n",
      "\u001b[34m[11:15:46] src/tree/updater_prune.cc:74: tree pruning end, 1 roots, 16 extra nodes, 6 pruned nodes, max_depth=5\u001b[0m\n",
      "\u001b[34m[52]#011train-error:0.135067#011validation-error:0.1733\u001b[0m\n",
      "\u001b[34m[11:15:47] src/tree/updater_prune.cc:74: tree pruning end, 1 roots, 22 extra nodes, 10 pruned nodes, max_depth=5\u001b[0m\n",
      "\u001b[34m[53]#011train-error:0.135067#011validation-error:0.1741\u001b[0m\n",
      "\u001b[34m[11:15:49] src/tree/updater_prune.cc:74: tree pruning end, 1 roots, 32 extra nodes, 4 pruned nodes, max_depth=5\u001b[0m\n",
      "\u001b[34m[54]#011train-error:0.1336#011validation-error:0.1735\u001b[0m\n",
      "\u001b[34m[11:15:50] src/tree/updater_prune.cc:74: tree pruning end, 1 roots, 18 extra nodes, 14 pruned nodes, max_depth=5\u001b[0m\n",
      "\u001b[34m[55]#011train-error:0.133267#011validation-error:0.1725\u001b[0m\n",
      "\u001b[34m[11:15:51] src/tree/updater_prune.cc:74: tree pruning end, 1 roots, 22 extra nodes, 10 pruned nodes, max_depth=5\u001b[0m\n",
      "\u001b[34m[56]#011train-error:0.132133#011validation-error:0.1717\u001b[0m\n",
      "\u001b[34m[11:15:52] src/tree/updater_prune.cc:74: tree pruning end, 1 roots, 14 extra nodes, 12 pruned nodes, max_depth=5\u001b[0m\n",
      "\u001b[34m[57]#011train-error:0.1314#011validation-error:0.1711\u001b[0m\n",
      "\u001b[34m[11:15:54] src/tree/updater_prune.cc:74: tree pruning end, 1 roots, 12 extra nodes, 12 pruned nodes, max_depth=5\u001b[0m\n",
      "\u001b[34m[58]#011train-error:0.130533#011validation-error:0.1702\u001b[0m\n",
      "\u001b[34m[11:15:55] src/tree/updater_prune.cc:74: tree pruning end, 1 roots, 32 extra nodes, 10 pruned nodes, max_depth=5\u001b[0m\n",
      "\u001b[34m[59]#011train-error:0.128933#011validation-error:0.17\u001b[0m\n",
      "\u001b[34m[11:15:56] src/tree/updater_prune.cc:74: tree pruning end, 1 roots, 26 extra nodes, 10 pruned nodes, max_depth=5\u001b[0m\n",
      "\u001b[34m[60]#011train-error:0.127333#011validation-error:0.1693\u001b[0m\n",
      "\u001b[34m[11:15:58] src/tree/updater_prune.cc:74: tree pruning end, 1 roots, 20 extra nodes, 8 pruned nodes, max_depth=5\u001b[0m\n",
      "\u001b[34m[61]#011train-error:0.1266#011validation-error:0.1684\u001b[0m\n",
      "\u001b[34m[11:15:59] src/tree/updater_prune.cc:74: tree pruning end, 1 roots, 28 extra nodes, 16 pruned nodes, max_depth=5\u001b[0m\n",
      "\u001b[34m[62]#011train-error:0.126133#011validation-error:0.1694\u001b[0m\n",
      "\u001b[34m[11:16:00] src/tree/updater_prune.cc:74: tree pruning end, 1 roots, 34 extra nodes, 8 pruned nodes, max_depth=5\u001b[0m\n",
      "\u001b[34m[63]#011train-error:0.124933#011validation-error:0.1667\u001b[0m\n",
      "\u001b[34m[11:16:01] src/tree/updater_prune.cc:74: tree pruning end, 1 roots, 12 extra nodes, 10 pruned nodes, max_depth=5\u001b[0m\n",
      "\u001b[34m[64]#011train-error:0.124333#011validation-error:0.166\u001b[0m\n",
      "\u001b[34m[11:16:03] src/tree/updater_prune.cc:74: tree pruning end, 1 roots, 16 extra nodes, 2 pruned nodes, max_depth=5\u001b[0m\n",
      "\u001b[34m[65]#011train-error:0.1234#011validation-error:0.1649\u001b[0m\n",
      "\u001b[34m[11:16:04] src/tree/updater_prune.cc:74: tree pruning end, 1 roots, 18 extra nodes, 6 pruned nodes, max_depth=5\u001b[0m\n",
      "\u001b[34m[66]#011train-error:0.122733#011validation-error:0.1647\u001b[0m\n",
      "\u001b[34m[11:16:05] src/tree/updater_prune.cc:74: tree pruning end, 1 roots, 14 extra nodes, 10 pruned nodes, max_depth=5\u001b[0m\n",
      "\u001b[34m[67]#011train-error:0.122267#011validation-error:0.1643\u001b[0m\n",
      "\u001b[34m[11:16:06] src/tree/updater_prune.cc:74: tree pruning end, 1 roots, 16 extra nodes, 10 pruned nodes, max_depth=5\u001b[0m\n",
      "\u001b[34m[68]#011train-error:0.121467#011validation-error:0.1641\u001b[0m\n",
      "\u001b[34m[11:16:08] src/tree/updater_prune.cc:74: tree pruning end, 1 roots, 14 extra nodes, 12 pruned nodes, max_depth=5\u001b[0m\n",
      "\u001b[34m[69]#011train-error:0.121067#011validation-error:0.1631\u001b[0m\n",
      "\u001b[34m[11:16:09] src/tree/updater_prune.cc:74: tree pruning end, 1 roots, 10 extra nodes, 6 pruned nodes, max_depth=5\u001b[0m\n",
      "\u001b[34m[70]#011train-error:0.120133#011validation-error:0.163\u001b[0m\n",
      "\u001b[34m[11:16:10] src/tree/updater_prune.cc:74: tree pruning end, 1 roots, 36 extra nodes, 8 pruned nodes, max_depth=5\u001b[0m\n",
      "\u001b[34m[71]#011train-error:0.119133#011validation-error:0.163\u001b[0m\n",
      "\u001b[34m[11:16:12] src/tree/updater_prune.cc:74: tree pruning end, 1 roots, 12 extra nodes, 12 pruned nodes, max_depth=5\u001b[0m\n",
      "\u001b[34m[72]#011train-error:0.119333#011validation-error:0.1633\u001b[0m\n",
      "\u001b[34m[11:16:13] src/tree/updater_prune.cc:74: tree pruning end, 1 roots, 24 extra nodes, 6 pruned nodes, max_depth=5\u001b[0m\n",
      "\u001b[34m[73]#011train-error:0.117667#011validation-error:0.1616\u001b[0m\n",
      "\u001b[34m[11:16:14] src/tree/updater_prune.cc:74: tree pruning end, 1 roots, 20 extra nodes, 6 pruned nodes, max_depth=5\u001b[0m\n",
      "\u001b[34m[74]#011train-error:0.118067#011validation-error:0.1609\u001b[0m\n",
      "\u001b[34m[11:16:15] src/tree/updater_prune.cc:74: tree pruning end, 1 roots, 14 extra nodes, 8 pruned nodes, max_depth=5\u001b[0m\n",
      "\u001b[34m[75]#011train-error:0.117733#011validation-error:0.16\u001b[0m\n",
      "\u001b[34m[11:16:17] src/tree/updater_prune.cc:74: tree pruning end, 1 roots, 30 extra nodes, 14 pruned nodes, max_depth=5\u001b[0m\n",
      "\u001b[34m[76]#011train-error:0.117267#011validation-error:0.1592\u001b[0m\n",
      "\u001b[34m[11:16:18] src/tree/updater_prune.cc:74: tree pruning end, 1 roots, 12 extra nodes, 8 pruned nodes, max_depth=5\u001b[0m\n",
      "\u001b[34m[77]#011train-error:0.117667#011validation-error:0.1609\u001b[0m\n",
      "\u001b[34m[11:16:19] src/tree/updater_prune.cc:74: tree pruning end, 1 roots, 12 extra nodes, 8 pruned nodes, max_depth=5\u001b[0m\n",
      "\u001b[34m[78]#011train-error:0.116733#011validation-error:0.1606\u001b[0m\n",
      "\u001b[34m[11:16:20] src/tree/updater_prune.cc:74: tree pruning end, 1 roots, 34 extra nodes, 4 pruned nodes, max_depth=5\u001b[0m\n",
      "\u001b[34m[79]#011train-error:0.115467#011validation-error:0.1599\u001b[0m\n",
      "\u001b[34m[11:16:22] src/tree/updater_prune.cc:74: tree pruning end, 1 roots, 18 extra nodes, 4 pruned nodes, max_depth=5\u001b[0m\n",
      "\u001b[34m[80]#011train-error:0.1152#011validation-error:0.1598\u001b[0m\n",
      "\u001b[34m[11:16:23] src/tree/updater_prune.cc:74: tree pruning end, 1 roots, 20 extra nodes, 8 pruned nodes, max_depth=5\u001b[0m\n",
      "\u001b[34m[81]#011train-error:0.114933#011validation-error:0.1589\u001b[0m\n",
      "\u001b[34m[11:16:24] src/tree/updater_prune.cc:74: tree pruning end, 1 roots, 22 extra nodes, 8 pruned nodes, max_depth=5\u001b[0m\n",
      "\u001b[34m[82]#011train-error:0.113667#011validation-error:0.1585\u001b[0m\n",
      "\u001b[34m[11:16:25] src/tree/updater_prune.cc:74: tree pruning end, 1 roots, 12 extra nodes, 8 pruned nodes, max_depth=5\u001b[0m\n",
      "\u001b[34m[83]#011train-error:0.112733#011validation-error:0.1593\u001b[0m\n",
      "\u001b[34m[11:16:27] src/tree/updater_prune.cc:74: tree pruning end, 1 roots, 28 extra nodes, 6 pruned nodes, max_depth=5\u001b[0m\n",
      "\u001b[34m[84]#011train-error:0.111533#011validation-error:0.1584\u001b[0m\n",
      "\u001b[34m[11:16:28] src/tree/updater_prune.cc:74: tree pruning end, 1 roots, 20 extra nodes, 14 pruned nodes, max_depth=5\u001b[0m\n",
      "\u001b[34m[85]#011train-error:0.110133#011validation-error:0.1591\u001b[0m\n",
      "\u001b[34m[11:16:29] src/tree/updater_prune.cc:74: tree pruning end, 1 roots, 16 extra nodes, 8 pruned nodes, max_depth=5\u001b[0m\n",
      "\u001b[34m[86]#011train-error:0.108933#011validation-error:0.1584\u001b[0m\n",
      "\u001b[34m[11:16:31] src/tree/updater_prune.cc:74: tree pruning end, 1 roots, 18 extra nodes, 6 pruned nodes, max_depth=5\u001b[0m\n",
      "\u001b[34m[87]#011train-error:0.108133#011validation-error:0.1586\u001b[0m\n",
      "\u001b[34m[11:16:32] src/tree/updater_prune.cc:74: tree pruning end, 1 roots, 12 extra nodes, 8 pruned nodes, max_depth=5\u001b[0m\n",
      "\u001b[34m[88]#011train-error:0.1084#011validation-error:0.1574\u001b[0m\n"
     ]
    },
    {
     "name": "stdout",
     "output_type": "stream",
     "text": [
      "\u001b[34m[11:16:33] src/tree/updater_prune.cc:74: tree pruning end, 1 roots, 18 extra nodes, 4 pruned nodes, max_depth=5\u001b[0m\n",
      "\u001b[34m[89]#011train-error:0.1084#011validation-error:0.157\u001b[0m\n",
      "\u001b[34m[11:16:34] src/tree/updater_prune.cc:74: tree pruning end, 1 roots, 18 extra nodes, 2 pruned nodes, max_depth=5\u001b[0m\n",
      "\u001b[34m[90]#011train-error:0.107667#011validation-error:0.1573\u001b[0m\n",
      "\u001b[34m[11:16:36] src/tree/updater_prune.cc:74: tree pruning end, 1 roots, 18 extra nodes, 10 pruned nodes, max_depth=5\u001b[0m\n",
      "\u001b[34m[91]#011train-error:0.108333#011validation-error:0.1576\u001b[0m\n",
      "\u001b[34m[11:16:37] src/tree/updater_prune.cc:74: tree pruning end, 1 roots, 24 extra nodes, 18 pruned nodes, max_depth=5\u001b[0m\n",
      "\u001b[34m[92]#011train-error:0.107267#011validation-error:0.1572\u001b[0m\n",
      "\u001b[34m[11:16:38] src/tree/updater_prune.cc:74: tree pruning end, 1 roots, 20 extra nodes, 4 pruned nodes, max_depth=5\u001b[0m\n",
      "\u001b[34m[93]#011train-error:0.106333#011validation-error:0.1575\u001b[0m\n",
      "\u001b[34m[11:16:39] src/tree/updater_prune.cc:74: tree pruning end, 1 roots, 18 extra nodes, 6 pruned nodes, max_depth=5\u001b[0m\n",
      "\u001b[34m[94]#011train-error:0.105667#011validation-error:0.1567\u001b[0m\n",
      "\u001b[34m[11:16:41] src/tree/updater_prune.cc:74: tree pruning end, 1 roots, 18 extra nodes, 10 pruned nodes, max_depth=5\u001b[0m\n",
      "\u001b[34m[95]#011train-error:0.105867#011validation-error:0.1565\u001b[0m\n",
      "\u001b[34m[11:16:42] src/tree/updater_prune.cc:74: tree pruning end, 1 roots, 10 extra nodes, 8 pruned nodes, max_depth=5\u001b[0m\n",
      "\u001b[34m[96]#011train-error:0.106133#011validation-error:0.1548\u001b[0m\n",
      "\u001b[34m[11:16:43] src/tree/updater_prune.cc:74: tree pruning end, 1 roots, 16 extra nodes, 6 pruned nodes, max_depth=5\u001b[0m\n",
      "\u001b[34m[97]#011train-error:0.105533#011validation-error:0.1546\u001b[0m\n",
      "\u001b[34m[11:16:44] src/tree/updater_prune.cc:74: tree pruning end, 1 roots, 20 extra nodes, 8 pruned nodes, max_depth=5\u001b[0m\n",
      "\u001b[34m[98]#011train-error:0.1054#011validation-error:0.1543\u001b[0m\n",
      "\u001b[34m[11:16:46] src/tree/updater_prune.cc:74: tree pruning end, 1 roots, 10 extra nodes, 8 pruned nodes, max_depth=5\u001b[0m\n",
      "\u001b[34m[99]#011train-error:0.105067#011validation-error:0.1539\u001b[0m\n",
      "\u001b[34m[11:16:47] src/tree/updater_prune.cc:74: tree pruning end, 1 roots, 22 extra nodes, 8 pruned nodes, max_depth=5\u001b[0m\n",
      "\u001b[34m[100]#011train-error:0.1048#011validation-error:0.153\u001b[0m\n",
      "\u001b[34m[11:16:48] src/tree/updater_prune.cc:74: tree pruning end, 1 roots, 16 extra nodes, 4 pruned nodes, max_depth=5\u001b[0m\n",
      "\u001b[34m[101]#011train-error:0.104133#011validation-error:0.1535\u001b[0m\n",
      "\u001b[34m[11:16:50] src/tree/updater_prune.cc:74: tree pruning end, 1 roots, 18 extra nodes, 6 pruned nodes, max_depth=5\u001b[0m\n",
      "\u001b[34m[102]#011train-error:0.103467#011validation-error:0.1534\u001b[0m\n",
      "\u001b[34m[11:16:51] src/tree/updater_prune.cc:74: tree pruning end, 1 roots, 22 extra nodes, 8 pruned nodes, max_depth=5\u001b[0m\n",
      "\u001b[34m[103]#011train-error:0.103267#011validation-error:0.1529\u001b[0m\n",
      "\u001b[34m[11:16:52] src/tree/updater_prune.cc:74: tree pruning end, 1 roots, 18 extra nodes, 10 pruned nodes, max_depth=5\u001b[0m\n",
      "\u001b[34m[104]#011train-error:0.103#011validation-error:0.1525\u001b[0m\n",
      "\u001b[34m[11:16:53] src/tree/updater_prune.cc:74: tree pruning end, 1 roots, 18 extra nodes, 12 pruned nodes, max_depth=5\u001b[0m\n",
      "\u001b[34m[105]#011train-error:0.1028#011validation-error:0.153\u001b[0m\n",
      "\u001b[34m[11:16:55] src/tree/updater_prune.cc:74: tree pruning end, 1 roots, 12 extra nodes, 14 pruned nodes, max_depth=5\u001b[0m\n",
      "\u001b[34m[106]#011train-error:0.102467#011validation-error:0.1527\u001b[0m\n",
      "\u001b[34m[11:16:56] src/tree/updater_prune.cc:74: tree pruning end, 1 roots, 32 extra nodes, 10 pruned nodes, max_depth=5\u001b[0m\n",
      "\u001b[34m[107]#011train-error:0.101267#011validation-error:0.1527\u001b[0m\n",
      "\u001b[34m[11:16:57] src/tree/updater_prune.cc:74: tree pruning end, 1 roots, 10 extra nodes, 2 pruned nodes, max_depth=5\u001b[0m\n",
      "\u001b[34m[108]#011train-error:0.101067#011validation-error:0.1527\u001b[0m\n",
      "\u001b[34m[11:16:58] src/tree/updater_prune.cc:74: tree pruning end, 1 roots, 14 extra nodes, 6 pruned nodes, max_depth=5\u001b[0m\n",
      "\u001b[34m[109]#011train-error:0.1008#011validation-error:0.1519\u001b[0m\n",
      "\u001b[34m[11:17:00] src/tree/updater_prune.cc:74: tree pruning end, 1 roots, 18 extra nodes, 10 pruned nodes, max_depth=5\u001b[0m\n",
      "\u001b[34m[110]#011train-error:0.100467#011validation-error:0.1523\u001b[0m\n",
      "\u001b[34m[11:17:01] src/tree/updater_prune.cc:74: tree pruning end, 1 roots, 16 extra nodes, 12 pruned nodes, max_depth=5\u001b[0m\n",
      "\u001b[34m[111]#011train-error:0.1004#011validation-error:0.1517\u001b[0m\n",
      "\u001b[34m[11:17:02] src/tree/updater_prune.cc:74: tree pruning end, 1 roots, 12 extra nodes, 14 pruned nodes, max_depth=5\u001b[0m\n",
      "\u001b[34m[112]#011train-error:0.100267#011validation-error:0.1508\u001b[0m\n",
      "\u001b[34m[11:17:04] src/tree/updater_prune.cc:74: tree pruning end, 1 roots, 12 extra nodes, 8 pruned nodes, max_depth=5\u001b[0m\n",
      "\u001b[34m[113]#011train-error:0.099533#011validation-error:0.1503\u001b[0m\n",
      "\u001b[34m[11:17:05] src/tree/updater_prune.cc:74: tree pruning end, 1 roots, 28 extra nodes, 8 pruned nodes, max_depth=5\u001b[0m\n",
      "\u001b[34m[114]#011train-error:0.098533#011validation-error:0.1503\u001b[0m\n",
      "\u001b[34m[11:17:06] src/tree/updater_prune.cc:74: tree pruning end, 1 roots, 30 extra nodes, 8 pruned nodes, max_depth=5\u001b[0m\n",
      "\u001b[34m[115]#011train-error:0.096933#011validation-error:0.1507\u001b[0m\n",
      "\u001b[34m[11:17:07] src/tree/updater_prune.cc:74: tree pruning end, 1 roots, 20 extra nodes, 10 pruned nodes, max_depth=5\u001b[0m\n",
      "\u001b[34m[116]#011train-error:0.096267#011validation-error:0.1493\u001b[0m\n",
      "\u001b[34m[11:17:09] src/tree/updater_prune.cc:74: tree pruning end, 1 roots, 18 extra nodes, 12 pruned nodes, max_depth=5\u001b[0m\n",
      "\u001b[34m[117]#011train-error:0.096133#011validation-error:0.1477\u001b[0m\n",
      "\u001b[34m[11:17:10] src/tree/updater_prune.cc:74: tree pruning end, 1 roots, 18 extra nodes, 12 pruned nodes, max_depth=5\u001b[0m\n",
      "\u001b[34m[118]#011train-error:0.0958#011validation-error:0.1483\u001b[0m\n",
      "\u001b[34m[11:17:11] src/tree/updater_prune.cc:74: tree pruning end, 1 roots, 12 extra nodes, 8 pruned nodes, max_depth=5\u001b[0m\n",
      "\u001b[34m[119]#011train-error:0.095933#011validation-error:0.1481\u001b[0m\n",
      "\u001b[34m[11:17:12] src/tree/updater_prune.cc:74: tree pruning end, 1 roots, 18 extra nodes, 8 pruned nodes, max_depth=5\u001b[0m\n",
      "\u001b[34m[120]#011train-error:0.095067#011validation-error:0.1472\u001b[0m\n",
      "\u001b[34m[11:17:14] src/tree/updater_prune.cc:74: tree pruning end, 1 roots, 10 extra nodes, 4 pruned nodes, max_depth=5\u001b[0m\n",
      "\u001b[34m[121]#011train-error:0.095#011validation-error:0.1467\u001b[0m\n",
      "\u001b[34m[11:17:15] src/tree/updater_prune.cc:74: tree pruning end, 1 roots, 14 extra nodes, 6 pruned nodes, max_depth=5\u001b[0m\n",
      "\u001b[34m[122]#011train-error:0.094267#011validation-error:0.1465\u001b[0m\n",
      "\u001b[34m[11:17:16] src/tree/updater_prune.cc:74: tree pruning end, 1 roots, 32 extra nodes, 12 pruned nodes, max_depth=5\u001b[0m\n",
      "\u001b[34m[123]#011train-error:0.093933#011validation-error:0.1467\u001b[0m\n",
      "\u001b[34m[11:17:18] src/tree/updater_prune.cc:74: tree pruning end, 1 roots, 24 extra nodes, 10 pruned nodes, max_depth=5\u001b[0m\n",
      "\u001b[34m[124]#011train-error:0.093933#011validation-error:0.1459\u001b[0m\n",
      "\u001b[34m[11:17:19] src/tree/updater_prune.cc:74: tree pruning end, 1 roots, 16 extra nodes, 14 pruned nodes, max_depth=5\u001b[0m\n",
      "\u001b[34m[125]#011train-error:0.094#011validation-error:0.146\u001b[0m\n",
      "\u001b[34m[11:17:20] src/tree/updater_prune.cc:74: tree pruning end, 1 roots, 10 extra nodes, 6 pruned nodes, max_depth=5\u001b[0m\n",
      "\u001b[34m[126]#011train-error:0.093867#011validation-error:0.1453\u001b[0m\n",
      "\u001b[34m[11:17:21] src/tree/updater_prune.cc:74: tree pruning end, 1 roots, 12 extra nodes, 0 pruned nodes, max_depth=5\u001b[0m\n",
      "\u001b[34m[127]#011train-error:0.093867#011validation-error:0.1451\u001b[0m\n",
      "\u001b[34m[11:17:23] src/tree/updater_prune.cc:74: tree pruning end, 1 roots, 32 extra nodes, 6 pruned nodes, max_depth=5\u001b[0m\n",
      "\u001b[34m[128]#011train-error:0.092333#011validation-error:0.1455\u001b[0m\n",
      "\u001b[34m[11:17:24] src/tree/updater_prune.cc:74: tree pruning end, 1 roots, 16 extra nodes, 0 pruned nodes, max_depth=5\u001b[0m\n",
      "\u001b[34m[129]#011train-error:0.092067#011validation-error:0.1455\u001b[0m\n",
      "\u001b[34m[11:17:25] src/tree/updater_prune.cc:74: tree pruning end, 1 roots, 20 extra nodes, 10 pruned nodes, max_depth=5\u001b[0m\n",
      "\u001b[34m[130]#011train-error:0.091733#011validation-error:0.145\u001b[0m\n",
      "\u001b[34m[11:17:27] src/tree/updater_prune.cc:74: tree pruning end, 1 roots, 10 extra nodes, 2 pruned nodes, max_depth=5\u001b[0m\n",
      "\u001b[34m[131]#011train-error:0.0914#011validation-error:0.1444\u001b[0m\n",
      "\u001b[34m[11:17:28] src/tree/updater_prune.cc:74: tree pruning end, 1 roots, 24 extra nodes, 6 pruned nodes, max_depth=5\u001b[0m\n",
      "\u001b[34m[132]#011train-error:0.090667#011validation-error:0.1451\u001b[0m\n",
      "\u001b[34m[11:17:29] src/tree/updater_prune.cc:74: tree pruning end, 1 roots, 12 extra nodes, 4 pruned nodes, max_depth=5\u001b[0m\n",
      "\u001b[34m[133]#011train-error:0.0906#011validation-error:0.1443\u001b[0m\n",
      "\u001b[34m[11:17:30] src/tree/updater_prune.cc:74: tree pruning end, 1 roots, 14 extra nodes, 14 pruned nodes, max_depth=5\u001b[0m\n",
      "\u001b[34m[134]#011train-error:0.0898#011validation-error:0.144\u001b[0m\n",
      "\u001b[34m[11:17:32] src/tree/updater_prune.cc:74: tree pruning end, 1 roots, 16 extra nodes, 8 pruned nodes, max_depth=5\u001b[0m\n",
      "\u001b[34m[135]#011train-error:0.090067#011validation-error:0.1437\u001b[0m\n",
      "\u001b[34m[11:17:33] src/tree/updater_prune.cc:74: tree pruning end, 1 roots, 22 extra nodes, 8 pruned nodes, max_depth=5\u001b[0m\n",
      "\u001b[34m[136]#011train-error:0.089667#011validation-error:0.1433\u001b[0m\n"
     ]
    },
    {
     "name": "stdout",
     "output_type": "stream",
     "text": [
      "\u001b[34m[11:17:34] src/tree/updater_prune.cc:74: tree pruning end, 1 roots, 12 extra nodes, 4 pruned nodes, max_depth=5\u001b[0m\n",
      "\u001b[34m[137]#011train-error:0.089467#011validation-error:0.1433\u001b[0m\n",
      "\u001b[34m[11:17:35] src/tree/updater_prune.cc:74: tree pruning end, 1 roots, 12 extra nodes, 10 pruned nodes, max_depth=5\u001b[0m\n",
      "\u001b[34m[138]#011train-error:0.089133#011validation-error:0.1429\u001b[0m\n",
      "\u001b[34m[11:17:37] src/tree/updater_prune.cc:74: tree pruning end, 1 roots, 22 extra nodes, 2 pruned nodes, max_depth=5\u001b[0m\n",
      "\u001b[34m[139]#011train-error:0.087933#011validation-error:0.1445\u001b[0m\n",
      "\u001b[34m[11:17:38] src/tree/updater_prune.cc:74: tree pruning end, 1 roots, 26 extra nodes, 6 pruned nodes, max_depth=5\u001b[0m\n",
      "\u001b[34m[140]#011train-error:0.088#011validation-error:0.1449\u001b[0m\n",
      "\u001b[34m[11:17:39] src/tree/updater_prune.cc:74: tree pruning end, 1 roots, 12 extra nodes, 4 pruned nodes, max_depth=5\u001b[0m\n",
      "\u001b[34m[141]#011train-error:0.0878#011validation-error:0.1445\u001b[0m\n",
      "\u001b[34m[11:17:41] src/tree/updater_prune.cc:74: tree pruning end, 1 roots, 12 extra nodes, 4 pruned nodes, max_depth=5\u001b[0m\n",
      "\u001b[34m[142]#011train-error:0.087533#011validation-error:0.1445\u001b[0m\n",
      "\u001b[34m[11:17:42] src/tree/updater_prune.cc:74: tree pruning end, 1 roots, 14 extra nodes, 6 pruned nodes, max_depth=5\u001b[0m\n",
      "\u001b[34m[143]#011train-error:0.087267#011validation-error:0.1445\u001b[0m\n",
      "\u001b[34m[11:17:43] src/tree/updater_prune.cc:74: tree pruning end, 1 roots, 14 extra nodes, 4 pruned nodes, max_depth=5\u001b[0m\n",
      "\u001b[34m[144]#011train-error:0.087267#011validation-error:0.144\u001b[0m\n",
      "\u001b[34m[11:17:44] src/tree/updater_prune.cc:74: tree pruning end, 1 roots, 18 extra nodes, 16 pruned nodes, max_depth=5\u001b[0m\n",
      "\u001b[34m[145]#011train-error:0.087#011validation-error:0.1428\u001b[0m\n",
      "\u001b[34m[11:17:46] src/tree/updater_prune.cc:74: tree pruning end, 1 roots, 12 extra nodes, 4 pruned nodes, max_depth=5\u001b[0m\n",
      "\u001b[34m[146]#011train-error:0.086667#011validation-error:0.1426\u001b[0m\n",
      "\u001b[34m[11:17:47] src/tree/updater_prune.cc:74: tree pruning end, 1 roots, 10 extra nodes, 4 pruned nodes, max_depth=5\u001b[0m\n",
      "\u001b[34m[147]#011train-error:0.086333#011validation-error:0.1426\u001b[0m\n",
      "\u001b[34m[11:17:48] src/tree/updater_prune.cc:74: tree pruning end, 1 roots, 16 extra nodes, 8 pruned nodes, max_depth=5\u001b[0m\n",
      "\u001b[34m[148]#011train-error:0.0864#011validation-error:0.1421\u001b[0m\n",
      "\u001b[34m[11:17:49] src/tree/updater_prune.cc:74: tree pruning end, 1 roots, 16 extra nodes, 10 pruned nodes, max_depth=5\u001b[0m\n",
      "\u001b[34m[149]#011train-error:0.0866#011validation-error:0.1426\u001b[0m\n",
      "\u001b[34m[11:17:51] src/tree/updater_prune.cc:74: tree pruning end, 1 roots, 12 extra nodes, 12 pruned nodes, max_depth=5\u001b[0m\n",
      "\u001b[34m[150]#011train-error:0.086#011validation-error:0.1432\u001b[0m\n",
      "\u001b[34m[11:17:52] src/tree/updater_prune.cc:74: tree pruning end, 1 roots, 12 extra nodes, 10 pruned nodes, max_depth=5\u001b[0m\n",
      "\u001b[34m[151]#011train-error:0.085533#011validation-error:0.1426\u001b[0m\n",
      "\u001b[34m[11:17:53] src/tree/updater_prune.cc:74: tree pruning end, 1 roots, 24 extra nodes, 12 pruned nodes, max_depth=5\u001b[0m\n",
      "\u001b[34m[152]#011train-error:0.085#011validation-error:0.1424\u001b[0m\n",
      "\u001b[34m[11:17:55] src/tree/updater_prune.cc:74: tree pruning end, 1 roots, 10 extra nodes, 14 pruned nodes, max_depth=5\u001b[0m\n",
      "\u001b[34m[153]#011train-error:0.085333#011validation-error:0.1428\u001b[0m\n",
      "\u001b[34m[11:17:56] src/tree/updater_prune.cc:74: tree pruning end, 1 roots, 10 extra nodes, 12 pruned nodes, max_depth=5\u001b[0m\n",
      "\u001b[34m[154]#011train-error:0.085133#011validation-error:0.1433\u001b[0m\n",
      "\u001b[34m[11:17:57] src/tree/updater_prune.cc:74: tree pruning end, 1 roots, 12 extra nodes, 6 pruned nodes, max_depth=5\u001b[0m\n",
      "\u001b[34m[155]#011train-error:0.084267#011validation-error:0.1422\u001b[0m\n",
      "\u001b[34m[11:17:58] src/tree/updater_prune.cc:74: tree pruning end, 1 roots, 12 extra nodes, 6 pruned nodes, max_depth=5\u001b[0m\n",
      "\u001b[34m[156]#011train-error:0.084267#011validation-error:0.1414\u001b[0m\n",
      "\u001b[34m[11:18:00] src/tree/updater_prune.cc:74: tree pruning end, 1 roots, 10 extra nodes, 4 pruned nodes, max_depth=5\u001b[0m\n",
      "\u001b[34m[157]#011train-error:0.084067#011validation-error:0.1409\u001b[0m\n",
      "\u001b[34m[11:18:01] src/tree/updater_prune.cc:74: tree pruning end, 1 roots, 12 extra nodes, 12 pruned nodes, max_depth=5\u001b[0m\n",
      "\u001b[34m[158]#011train-error:0.0836#011validation-error:0.1411\u001b[0m\n",
      "\u001b[34m[11:18:02] src/tree/updater_prune.cc:74: tree pruning end, 1 roots, 10 extra nodes, 8 pruned nodes, max_depth=5\u001b[0m\n",
      "\u001b[34m[159]#011train-error:0.083467#011validation-error:0.1412\u001b[0m\n",
      "\u001b[34m[11:18:03] src/tree/updater_prune.cc:74: tree pruning end, 1 roots, 14 extra nodes, 8 pruned nodes, max_depth=5\u001b[0m\n",
      "\u001b[34m[160]#011train-error:0.083333#011validation-error:0.1411\u001b[0m\n",
      "\u001b[34m[11:18:05] src/tree/updater_prune.cc:74: tree pruning end, 1 roots, 10 extra nodes, 6 pruned nodes, max_depth=5\u001b[0m\n",
      "\u001b[34m[161]#011train-error:0.082867#011validation-error:0.1405\u001b[0m\n",
      "\u001b[34m[11:18:06] src/tree/updater_prune.cc:74: tree pruning end, 1 roots, 16 extra nodes, 2 pruned nodes, max_depth=5\u001b[0m\n",
      "\u001b[34m[162]#011train-error:0.082533#011validation-error:0.1399\u001b[0m\n",
      "\u001b[34m[11:18:07] src/tree/updater_prune.cc:74: tree pruning end, 1 roots, 12 extra nodes, 2 pruned nodes, max_depth=5\u001b[0m\n",
      "\u001b[34m[163]#011train-error:0.082533#011validation-error:0.1396\u001b[0m\n",
      "\u001b[34m[11:18:09] src/tree/updater_prune.cc:74: tree pruning end, 1 roots, 12 extra nodes, 2 pruned nodes, max_depth=5\u001b[0m\n",
      "\u001b[34m[164]#011train-error:0.082733#011validation-error:0.1391\u001b[0m\n",
      "\u001b[34m[11:18:10] src/tree/updater_prune.cc:74: tree pruning end, 1 roots, 12 extra nodes, 0 pruned nodes, max_depth=5\u001b[0m\n",
      "\u001b[34m[165]#011train-error:0.082467#011validation-error:0.1395\u001b[0m\n",
      "\u001b[34m[11:18:11] src/tree/updater_prune.cc:74: tree pruning end, 1 roots, 16 extra nodes, 2 pruned nodes, max_depth=5\u001b[0m\n",
      "\u001b[34m[166]#011train-error:0.083267#011validation-error:0.1399\u001b[0m\n",
      "\u001b[34m[11:18:12] src/tree/updater_prune.cc:74: tree pruning end, 1 roots, 12 extra nodes, 4 pruned nodes, max_depth=5\u001b[0m\n",
      "\u001b[34m[167]#011train-error:0.0826#011validation-error:0.1394\u001b[0m\n",
      "\u001b[34m[11:18:14] src/tree/updater_prune.cc:74: tree pruning end, 1 roots, 20 extra nodes, 18 pruned nodes, max_depth=5\u001b[0m\n",
      "\u001b[34m[168]#011train-error:0.082067#011validation-error:0.1384\u001b[0m\n",
      "\u001b[34m[11:18:15] src/tree/updater_prune.cc:74: tree pruning end, 1 roots, 30 extra nodes, 4 pruned nodes, max_depth=5\u001b[0m\n",
      "\u001b[34m[169]#011train-error:0.080067#011validation-error:0.1378\u001b[0m\n",
      "\u001b[34m[11:18:16] src/tree/updater_prune.cc:74: tree pruning end, 1 roots, 12 extra nodes, 4 pruned nodes, max_depth=5\u001b[0m\n",
      "\u001b[34m[170]#011train-error:0.079933#011validation-error:0.138\u001b[0m\n",
      "\u001b[34m[11:18:17] src/tree/updater_prune.cc:74: tree pruning end, 1 roots, 20 extra nodes, 8 pruned nodes, max_depth=5\u001b[0m\n",
      "\u001b[34m[171]#011train-error:0.079667#011validation-error:0.1379\u001b[0m\n",
      "\u001b[34m[11:18:19] src/tree/updater_prune.cc:74: tree pruning end, 1 roots, 18 extra nodes, 2 pruned nodes, max_depth=5\u001b[0m\n",
      "\u001b[34m[172]#011train-error:0.079533#011validation-error:0.139\u001b[0m\n",
      "\u001b[34m[11:18:20] src/tree/updater_prune.cc:74: tree pruning end, 1 roots, 24 extra nodes, 8 pruned nodes, max_depth=5\u001b[0m\n",
      "\u001b[34m[173]#011train-error:0.078867#011validation-error:0.1385\u001b[0m\n",
      "\u001b[34m[11:18:21] src/tree/updater_prune.cc:74: tree pruning end, 1 roots, 28 extra nodes, 10 pruned nodes, max_depth=5\u001b[0m\n",
      "\u001b[34m[174]#011train-error:0.078333#011validation-error:0.1388\u001b[0m\n",
      "\u001b[34m[11:18:22] src/tree/updater_prune.cc:74: tree pruning end, 1 roots, 34 extra nodes, 8 pruned nodes, max_depth=5\u001b[0m\n",
      "\u001b[34m[175]#011train-error:0.077#011validation-error:0.1379\u001b[0m\n",
      "\u001b[34m[11:18:24] src/tree/updater_prune.cc:74: tree pruning end, 1 roots, 10 extra nodes, 4 pruned nodes, max_depth=5\u001b[0m\n",
      "\u001b[34m[176]#011train-error:0.077267#011validation-error:0.1381\u001b[0m\n",
      "\u001b[34m[11:18:25] src/tree/updater_prune.cc:74: tree pruning end, 1 roots, 14 extra nodes, 8 pruned nodes, max_depth=5\u001b[0m\n",
      "\u001b[34m[177]#011train-error:0.0768#011validation-error:0.1382\u001b[0m\n",
      "\u001b[34m[11:18:26] src/tree/updater_prune.cc:74: tree pruning end, 1 roots, 18 extra nodes, 2 pruned nodes, max_depth=5\u001b[0m\n",
      "\u001b[34m[178]#011train-error:0.076333#011validation-error:0.1382\u001b[0m\n",
      "\u001b[34m[11:18:27] src/tree/updater_prune.cc:74: tree pruning end, 1 roots, 20 extra nodes, 14 pruned nodes, max_depth=5\u001b[0m\n",
      "\u001b[34m[179]#011train-error:0.0762#011validation-error:0.1377\u001b[0m\n",
      "\u001b[34m[11:18:29] src/tree/updater_prune.cc:74: tree pruning end, 1 roots, 18 extra nodes, 12 pruned nodes, max_depth=5\u001b[0m\n",
      "\u001b[34m[180]#011train-error:0.076667#011validation-error:0.1385\u001b[0m\n",
      "\u001b[34m[11:18:30] src/tree/updater_prune.cc:74: tree pruning end, 1 roots, 18 extra nodes, 12 pruned nodes, max_depth=5\u001b[0m\n",
      "\u001b[34m[181]#011train-error:0.0764#011validation-error:0.1377\u001b[0m\n",
      "\u001b[34m[11:18:31] src/tree/updater_prune.cc:74: tree pruning end, 1 roots, 12 extra nodes, 6 pruned nodes, max_depth=5\u001b[0m\n",
      "\u001b[34m[182]#011train-error:0.076#011validation-error:0.1379\u001b[0m\n",
      "\u001b[34m[11:18:33] src/tree/updater_prune.cc:74: tree pruning end, 1 roots, 16 extra nodes, 6 pruned nodes, max_depth=5\u001b[0m\n",
      "\u001b[34m[183]#011train-error:0.075467#011validation-error:0.1385\u001b[0m\n",
      "\u001b[34m[11:18:34] src/tree/updater_prune.cc:74: tree pruning end, 1 roots, 18 extra nodes, 2 pruned nodes, max_depth=5\u001b[0m\n",
      "\u001b[34m[184]#011train-error:0.0756#011validation-error:0.1382\u001b[0m\n"
     ]
    },
    {
     "name": "stdout",
     "output_type": "stream",
     "text": [
      "\u001b[34m[11:18:35] src/tree/updater_prune.cc:74: tree pruning end, 1 roots, 12 extra nodes, 12 pruned nodes, max_depth=5\u001b[0m\n",
      "\u001b[34m[185]#011train-error:0.0756#011validation-error:0.1384\u001b[0m\n",
      "\u001b[34m[11:18:36] src/tree/updater_prune.cc:74: tree pruning end, 1 roots, 20 extra nodes, 10 pruned nodes, max_depth=5\u001b[0m\n",
      "\u001b[34m[186]#011train-error:0.075267#011validation-error:0.1387\u001b[0m\n",
      "\u001b[34m[11:18:38] src/tree/updater_prune.cc:74: tree pruning end, 1 roots, 14 extra nodes, 12 pruned nodes, max_depth=5\u001b[0m\n",
      "\u001b[34m[187]#011train-error:0.075267#011validation-error:0.1383\u001b[0m\n",
      "\u001b[34m[11:18:39] src/tree/updater_prune.cc:74: tree pruning end, 1 roots, 10 extra nodes, 8 pruned nodes, max_depth=5\u001b[0m\n",
      "\u001b[34m[188]#011train-error:0.076#011validation-error:0.1376\u001b[0m\n",
      "\u001b[34m[11:18:40] src/tree/updater_prune.cc:74: tree pruning end, 1 roots, 12 extra nodes, 4 pruned nodes, max_depth=5\u001b[0m\n",
      "\u001b[34m[189]#011train-error:0.0754#011validation-error:0.1372\u001b[0m\n",
      "\u001b[34m[11:18:41] src/tree/updater_prune.cc:74: tree pruning end, 1 roots, 10 extra nodes, 8 pruned nodes, max_depth=5\u001b[0m\n",
      "\u001b[34m[190]#011train-error:0.0754#011validation-error:0.1372\u001b[0m\n",
      "\u001b[34m[11:18:43] src/tree/updater_prune.cc:74: tree pruning end, 1 roots, 22 extra nodes, 8 pruned nodes, max_depth=5\u001b[0m\n",
      "\u001b[34m[191]#011train-error:0.074733#011validation-error:0.137\u001b[0m\n",
      "\u001b[34m[11:18:44] src/tree/updater_prune.cc:74: tree pruning end, 1 roots, 18 extra nodes, 8 pruned nodes, max_depth=5\u001b[0m\n",
      "\u001b[34m[192]#011train-error:0.074133#011validation-error:0.1364\u001b[0m\n",
      "\u001b[34m[11:18:45] src/tree/updater_prune.cc:74: tree pruning end, 1 roots, 12 extra nodes, 8 pruned nodes, max_depth=5\u001b[0m\n",
      "\u001b[34m[193]#011train-error:0.073933#011validation-error:0.1366\u001b[0m\n",
      "\u001b[34m[11:18:46] src/tree/updater_prune.cc:74: tree pruning end, 1 roots, 16 extra nodes, 24 pruned nodes, max_depth=5\u001b[0m\n",
      "\u001b[34m[194]#011train-error:0.073667#011validation-error:0.1362\u001b[0m\n",
      "\u001b[34m[11:18:48] src/tree/updater_prune.cc:74: tree pruning end, 1 roots, 10 extra nodes, 6 pruned nodes, max_depth=5\u001b[0m\n",
      "\u001b[34m[195]#011train-error:0.073867#011validation-error:0.1361\u001b[0m\n",
      "\u001b[34m[11:18:49] src/tree/updater_prune.cc:74: tree pruning end, 1 roots, 20 extra nodes, 10 pruned nodes, max_depth=5\u001b[0m\n",
      "\u001b[34m[196]#011train-error:0.073133#011validation-error:0.1365\u001b[0m\n",
      "\u001b[34m[11:18:50] src/tree/updater_prune.cc:74: tree pruning end, 1 roots, 10 extra nodes, 10 pruned nodes, max_depth=5\u001b[0m\n",
      "\u001b[34m[197]#011train-error:0.073#011validation-error:0.1357\u001b[0m\n",
      "\u001b[34m[11:18:51] src/tree/updater_prune.cc:74: tree pruning end, 1 roots, 10 extra nodes, 6 pruned nodes, max_depth=5\u001b[0m\n",
      "\u001b[34m[198]#011train-error:0.072867#011validation-error:0.1355\u001b[0m\n",
      "\u001b[34m[11:18:53] src/tree/updater_prune.cc:74: tree pruning end, 1 roots, 12 extra nodes, 8 pruned nodes, max_depth=5\u001b[0m\n",
      "\u001b[34m[199]#011train-error:0.072533#011validation-error:0.1352\u001b[0m\n",
      "\u001b[34m[11:18:54] src/tree/updater_prune.cc:74: tree pruning end, 1 roots, 16 extra nodes, 8 pruned nodes, max_depth=5\u001b[0m\n",
      "\u001b[34m[200]#011train-error:0.072#011validation-error:0.1355\u001b[0m\n",
      "\u001b[34m[11:18:55] src/tree/updater_prune.cc:74: tree pruning end, 1 roots, 10 extra nodes, 0 pruned nodes, max_depth=5\u001b[0m\n",
      "\u001b[34m[201]#011train-error:0.072133#011validation-error:0.1355\u001b[0m\n",
      "\u001b[34m[11:18:57] src/tree/updater_prune.cc:74: tree pruning end, 1 roots, 10 extra nodes, 2 pruned nodes, max_depth=5\u001b[0m\n",
      "\u001b[34m[202]#011train-error:0.072133#011validation-error:0.1352\u001b[0m\n",
      "\u001b[34m[11:18:58] src/tree/updater_prune.cc:74: tree pruning end, 1 roots, 12 extra nodes, 12 pruned nodes, max_depth=5\u001b[0m\n",
      "\u001b[34m[203]#011train-error:0.072267#011validation-error:0.135\u001b[0m\n",
      "\u001b[34m[11:18:59] src/tree/updater_prune.cc:74: tree pruning end, 1 roots, 30 extra nodes, 8 pruned nodes, max_depth=5\u001b[0m\n",
      "\u001b[34m[204]#011train-error:0.0716#011validation-error:0.1356\u001b[0m\n",
      "\u001b[34m[11:19:00] src/tree/updater_prune.cc:74: tree pruning end, 1 roots, 18 extra nodes, 10 pruned nodes, max_depth=5\u001b[0m\n",
      "\u001b[34m[205]#011train-error:0.071#011validation-error:0.1364\u001b[0m\n",
      "\u001b[34m[11:19:02] src/tree/updater_prune.cc:74: tree pruning end, 1 roots, 12 extra nodes, 8 pruned nodes, max_depth=5\u001b[0m\n",
      "\u001b[34m[206]#011train-error:0.070667#011validation-error:0.1356\u001b[0m\n",
      "\u001b[34m[11:19:03] src/tree/updater_prune.cc:74: tree pruning end, 1 roots, 12 extra nodes, 4 pruned nodes, max_depth=5\u001b[0m\n",
      "\u001b[34m[207]#011train-error:0.070267#011validation-error:0.136\u001b[0m\n",
      "\u001b[34m[11:19:04] src/tree/updater_prune.cc:74: tree pruning end, 1 roots, 16 extra nodes, 16 pruned nodes, max_depth=5\u001b[0m\n",
      "\u001b[34m[208]#011train-error:0.0706#011validation-error:0.136\u001b[0m\n",
      "\u001b[34m[11:19:05] src/tree/updater_prune.cc:74: tree pruning end, 1 roots, 20 extra nodes, 10 pruned nodes, max_depth=5\u001b[0m\n",
      "\u001b[34m[209]#011train-error:0.070067#011validation-error:0.1351\u001b[0m\n",
      "\u001b[34m[11:19:07] src/tree/updater_prune.cc:74: tree pruning end, 1 roots, 12 extra nodes, 8 pruned nodes, max_depth=5\u001b[0m\n",
      "\u001b[34m[210]#011train-error:0.07#011validation-error:0.1363\u001b[0m\n",
      "\u001b[34m[11:19:08] src/tree/updater_prune.cc:74: tree pruning end, 1 roots, 14 extra nodes, 8 pruned nodes, max_depth=5\u001b[0m\n",
      "\u001b[34m[211]#011train-error:0.0698#011validation-error:0.1362\u001b[0m\n",
      "\u001b[34m[11:19:09] src/tree/updater_prune.cc:74: tree pruning end, 1 roots, 20 extra nodes, 0 pruned nodes, max_depth=5\u001b[0m\n",
      "\u001b[34m[212]#011train-error:0.069333#011validation-error:0.1351\u001b[0m\n",
      "\u001b[34m[11:19:10] src/tree/updater_prune.cc:74: tree pruning end, 1 roots, 12 extra nodes, 8 pruned nodes, max_depth=5\u001b[0m\n",
      "\u001b[34m[213]#011train-error:0.069133#011validation-error:0.1344\u001b[0m\n",
      "\u001b[34m[11:19:12] src/tree/updater_prune.cc:74: tree pruning end, 1 roots, 16 extra nodes, 10 pruned nodes, max_depth=5\u001b[0m\n",
      "\u001b[34m[214]#011train-error:0.069067#011validation-error:0.1349\u001b[0m\n",
      "\u001b[34m[11:19:13] src/tree/updater_prune.cc:74: tree pruning end, 1 roots, 24 extra nodes, 20 pruned nodes, max_depth=5\u001b[0m\n",
      "\u001b[34m[215]#011train-error:0.068467#011validation-error:0.1344\u001b[0m\n",
      "\u001b[34m[11:19:14] src/tree/updater_prune.cc:74: tree pruning end, 1 roots, 14 extra nodes, 6 pruned nodes, max_depth=5\u001b[0m\n",
      "\u001b[34m[216]#011train-error:0.068467#011validation-error:0.1343\u001b[0m\n",
      "\u001b[34m[11:19:15] src/tree/updater_prune.cc:74: tree pruning end, 1 roots, 12 extra nodes, 10 pruned nodes, max_depth=5\u001b[0m\n",
      "\u001b[34m[217]#011train-error:0.0684#011validation-error:0.1339\u001b[0m\n",
      "\u001b[34m[11:19:17] src/tree/updater_prune.cc:74: tree pruning end, 1 roots, 18 extra nodes, 16 pruned nodes, max_depth=5\u001b[0m\n",
      "\u001b[34m[218]#011train-error:0.067867#011validation-error:0.1345\u001b[0m\n",
      "\u001b[34m[11:19:18] src/tree/updater_prune.cc:74: tree pruning end, 1 roots, 12 extra nodes, 4 pruned nodes, max_depth=5\u001b[0m\n",
      "\u001b[34m[219]#011train-error:0.067667#011validation-error:0.1338\u001b[0m\n",
      "\u001b[34m[11:19:19] src/tree/updater_prune.cc:74: tree pruning end, 1 roots, 20 extra nodes, 10 pruned nodes, max_depth=5\u001b[0m\n",
      "\u001b[34m[220]#011train-error:0.0672#011validation-error:0.1346\u001b[0m\n",
      "\u001b[34m[11:19:20] src/tree/updater_prune.cc:74: tree pruning end, 1 roots, 12 extra nodes, 12 pruned nodes, max_depth=5\u001b[0m\n",
      "\u001b[34m[221]#011train-error:0.0672#011validation-error:0.1345\u001b[0m\n",
      "\u001b[34m[11:19:22] src/tree/updater_prune.cc:74: tree pruning end, 1 roots, 10 extra nodes, 8 pruned nodes, max_depth=5\u001b[0m\n",
      "\u001b[34m[222]#011train-error:0.067533#011validation-error:0.1341\u001b[0m\n",
      "\u001b[34m[11:19:23] src/tree/updater_prune.cc:74: tree pruning end, 1 roots, 16 extra nodes, 10 pruned nodes, max_depth=5\u001b[0m\n",
      "\u001b[34m[223]#011train-error:0.067467#011validation-error:0.1339\u001b[0m\n",
      "\u001b[34m[11:19:24] src/tree/updater_prune.cc:74: tree pruning end, 1 roots, 10 extra nodes, 0 pruned nodes, max_depth=5\u001b[0m\n",
      "\u001b[34m[224]#011train-error:0.067133#011validation-error:0.1336\u001b[0m\n",
      "\u001b[34m[11:19:26] src/tree/updater_prune.cc:74: tree pruning end, 1 roots, 10 extra nodes, 8 pruned nodes, max_depth=5\u001b[0m\n",
      "\u001b[34m[225]#011train-error:0.0668#011validation-error:0.1333\u001b[0m\n",
      "\u001b[34m[11:19:27] src/tree/updater_prune.cc:74: tree pruning end, 1 roots, 12 extra nodes, 2 pruned nodes, max_depth=5\u001b[0m\n",
      "\u001b[34m[226]#011train-error:0.067067#011validation-error:0.1335\u001b[0m\n",
      "\u001b[34m[11:19:28] src/tree/updater_prune.cc:74: tree pruning end, 1 roots, 20 extra nodes, 6 pruned nodes, max_depth=5\u001b[0m\n",
      "\u001b[34m[227]#011train-error:0.066333#011validation-error:0.1332\u001b[0m\n",
      "\u001b[34m[11:19:29] src/tree/updater_prune.cc:74: tree pruning end, 1 roots, 10 extra nodes, 14 pruned nodes, max_depth=5\u001b[0m\n",
      "\u001b[34m[228]#011train-error:0.066#011validation-error:0.1331\u001b[0m\n",
      "\u001b[34m[11:19:31] src/tree/updater_prune.cc:74: tree pruning end, 1 roots, 14 extra nodes, 6 pruned nodes, max_depth=5\u001b[0m\n",
      "\u001b[34m[229]#011train-error:0.065533#011validation-error:0.1321\u001b[0m\n",
      "\u001b[34m[11:19:32] src/tree/updater_prune.cc:74: tree pruning end, 1 roots, 12 extra nodes, 12 pruned nodes, max_depth=5\u001b[0m\n",
      "\u001b[34m[230]#011train-error:0.065533#011validation-error:0.1332\u001b[0m\n",
      "\u001b[34m[11:19:33] src/tree/updater_prune.cc:74: tree pruning end, 1 roots, 14 extra nodes, 8 pruned nodes, max_depth=5\u001b[0m\n",
      "\u001b[34m[231]#011train-error:0.064867#011validation-error:0.1329\u001b[0m\n",
      "\u001b[34m[11:19:34] src/tree/updater_prune.cc:74: tree pruning end, 1 roots, 10 extra nodes, 10 pruned nodes, max_depth=5\u001b[0m\n",
      "\u001b[34m[232]#011train-error:0.064867#011validation-error:0.1323\u001b[0m\n"
     ]
    },
    {
     "name": "stdout",
     "output_type": "stream",
     "text": [
      "\u001b[34m[11:19:36] src/tree/updater_prune.cc:74: tree pruning end, 1 roots, 12 extra nodes, 10 pruned nodes, max_depth=5\u001b[0m\n",
      "\u001b[34m[233]#011train-error:0.064467#011validation-error:0.1328\u001b[0m\n",
      "\u001b[34m[11:19:37] src/tree/updater_prune.cc:74: tree pruning end, 1 roots, 22 extra nodes, 4 pruned nodes, max_depth=5\u001b[0m\n",
      "\u001b[34m[234]#011train-error:0.0642#011validation-error:0.1324\u001b[0m\n",
      "\u001b[34m[11:19:38] src/tree/updater_prune.cc:74: tree pruning end, 1 roots, 12 extra nodes, 10 pruned nodes, max_depth=5\u001b[0m\n",
      "\u001b[34m[235]#011train-error:0.064133#011validation-error:0.1321\u001b[0m\n",
      "\u001b[34m[11:19:39] src/tree/updater_prune.cc:74: tree pruning end, 1 roots, 10 extra nodes, 18 pruned nodes, max_depth=5\u001b[0m\n",
      "\u001b[34m[236]#011train-error:0.0642#011validation-error:0.1322\u001b[0m\n",
      "\u001b[34m[11:19:41] src/tree/updater_prune.cc:74: tree pruning end, 1 roots, 10 extra nodes, 6 pruned nodes, max_depth=5\u001b[0m\n",
      "\u001b[34m[237]#011train-error:0.0638#011validation-error:0.1322\u001b[0m\n",
      "\u001b[34m[11:19:42] src/tree/updater_prune.cc:74: tree pruning end, 1 roots, 24 extra nodes, 8 pruned nodes, max_depth=5\u001b[0m\n",
      "\u001b[34m[238]#011train-error:0.0634#011validation-error:0.1321\u001b[0m\n",
      "\u001b[34m[11:19:43] src/tree/updater_prune.cc:74: tree pruning end, 1 roots, 12 extra nodes, 14 pruned nodes, max_depth=5\u001b[0m\n",
      "\u001b[34m[239]#011train-error:0.063133#011validation-error:0.1318\u001b[0m\n",
      "\u001b[34m[11:19:45] src/tree/updater_prune.cc:74: tree pruning end, 1 roots, 14 extra nodes, 14 pruned nodes, max_depth=5\u001b[0m\n",
      "\u001b[34m[240]#011train-error:0.0626#011validation-error:0.1319\u001b[0m\n",
      "\u001b[34m[11:19:46] src/tree/updater_prune.cc:74: tree pruning end, 1 roots, 10 extra nodes, 6 pruned nodes, max_depth=5\u001b[0m\n",
      "\u001b[34m[241]#011train-error:0.0628#011validation-error:0.1322\u001b[0m\n",
      "\u001b[34m[11:19:47] src/tree/updater_prune.cc:74: tree pruning end, 1 roots, 18 extra nodes, 8 pruned nodes, max_depth=5\u001b[0m\n",
      "\u001b[34m[242]#011train-error:0.0626#011validation-error:0.132\u001b[0m\n",
      "\u001b[34m[11:19:48] src/tree/updater_prune.cc:74: tree pruning end, 1 roots, 14 extra nodes, 10 pruned nodes, max_depth=5\u001b[0m\n",
      "\u001b[34m[243]#011train-error:0.0624#011validation-error:0.1318\u001b[0m\n",
      "\u001b[34m[11:19:50] src/tree/updater_prune.cc:74: tree pruning end, 1 roots, 14 extra nodes, 2 pruned nodes, max_depth=5\u001b[0m\n",
      "\u001b[34m[244]#011train-error:0.062333#011validation-error:0.1317\u001b[0m\n",
      "\u001b[34m[11:19:51] src/tree/updater_prune.cc:74: tree pruning end, 1 roots, 10 extra nodes, 6 pruned nodes, max_depth=5\u001b[0m\n",
      "\u001b[34m[245]#011train-error:0.0628#011validation-error:0.1314\u001b[0m\n",
      "\u001b[34m[11:19:52] src/tree/updater_prune.cc:74: tree pruning end, 1 roots, 20 extra nodes, 4 pruned nodes, max_depth=5\u001b[0m\n",
      "\u001b[34m[246]#011train-error:0.062467#011validation-error:0.1315\u001b[0m\n",
      "\u001b[34m[11:19:53] src/tree/updater_prune.cc:74: tree pruning end, 1 roots, 10 extra nodes, 12 pruned nodes, max_depth=5\u001b[0m\n",
      "\u001b[34m[247]#011train-error:0.0622#011validation-error:0.1308\u001b[0m\n",
      "\u001b[34m[11:19:55] src/tree/updater_prune.cc:74: tree pruning end, 1 roots, 10 extra nodes, 6 pruned nodes, max_depth=5\u001b[0m\n",
      "\u001b[34m[248]#011train-error:0.0624#011validation-error:0.1304\u001b[0m\n",
      "\u001b[34m[11:19:56] src/tree/updater_prune.cc:74: tree pruning end, 1 roots, 18 extra nodes, 12 pruned nodes, max_depth=5\u001b[0m\n",
      "\u001b[34m[249]#011train-error:0.062133#011validation-error:0.1306\u001b[0m\n",
      "\u001b[34m[11:19:57] src/tree/updater_prune.cc:74: tree pruning end, 1 roots, 10 extra nodes, 6 pruned nodes, max_depth=5\u001b[0m\n",
      "\u001b[34m[250]#011train-error:0.061933#011validation-error:0.1305\u001b[0m\n",
      "\u001b[34m[11:19:59] src/tree/updater_prune.cc:74: tree pruning end, 1 roots, 20 extra nodes, 8 pruned nodes, max_depth=5\u001b[0m\n",
      "\u001b[34m[251]#011train-error:0.061867#011validation-error:0.1308\u001b[0m\n",
      "\u001b[34m[11:20:00] src/tree/updater_prune.cc:74: tree pruning end, 1 roots, 14 extra nodes, 14 pruned nodes, max_depth=5\u001b[0m\n",
      "\u001b[34m[252]#011train-error:0.0616#011validation-error:0.1319\u001b[0m\n",
      "\u001b[34m[11:20:01] src/tree/updater_prune.cc:74: tree pruning end, 1 roots, 18 extra nodes, 6 pruned nodes, max_depth=5\u001b[0m\n",
      "\u001b[34m[253]#011train-error:0.061533#011validation-error:0.1316\u001b[0m\n",
      "\u001b[34m[11:20:02] src/tree/updater_prune.cc:74: tree pruning end, 1 roots, 14 extra nodes, 10 pruned nodes, max_depth=5\u001b[0m\n",
      "\u001b[34m[254]#011train-error:0.061333#011validation-error:0.1317\u001b[0m\n",
      "\u001b[34m[11:20:04] src/tree/updater_prune.cc:74: tree pruning end, 1 roots, 20 extra nodes, 30 pruned nodes, max_depth=5\u001b[0m\n",
      "\u001b[34m[255]#011train-error:0.061067#011validation-error:0.1321\u001b[0m\n",
      "\u001b[34m[11:20:05] src/tree/updater_prune.cc:74: tree pruning end, 1 roots, 10 extra nodes, 2 pruned nodes, max_depth=5\u001b[0m\n",
      "\u001b[34m[256]#011train-error:0.0612#011validation-error:0.132\u001b[0m\n",
      "\u001b[34m[11:20:06] src/tree/updater_prune.cc:74: tree pruning end, 1 roots, 10 extra nodes, 8 pruned nodes, max_depth=5\u001b[0m\n",
      "\u001b[34m[257]#011train-error:0.060867#011validation-error:0.1314\u001b[0m\n",
      "\u001b[34m[11:20:07] src/tree/updater_prune.cc:74: tree pruning end, 1 roots, 10 extra nodes, 6 pruned nodes, max_depth=5\u001b[0m\n",
      "\u001b[34m[258]#011train-error:0.060867#011validation-error:0.1317\u001b[0m\n",
      "\u001b[34mStopping. Best iteration:\u001b[0m\n",
      "\u001b[34m[248]#011train-error:0.0624#011validation-error:0.1304\n",
      "\u001b[0m\n",
      "\n",
      "2020-01-01 11:20:18 Uploading - Uploading generated training model\n",
      "2020-01-01 11:20:18 Completed - Training job completed\n",
      "Training seconds: 398\n",
      "Billable seconds: 398\n"
     ]
    }
   ],
   "source": [
    "xgb.fit({'train': s3_input_train, 'validation': s3_input_validation})"
   ]
  },
  {
   "cell_type": "markdown",
   "metadata": {},
   "source": [
    "## Step 5: Testing the model\n",
    "\n",
    "Now that we've fit our XGBoost model, it's time to see how well it performs. To do this we will use SageMakers Batch Transform functionality. Batch Transform is a convenient way to perform inference on a large dataset in a way that is not realtime. That is, we don't necessarily need to use our model's results immediately and instead we can perform inference on a large number of samples. An example of this in industry might be performing an end of month report. This method of inference can also be useful to us as it means that we can perform inference on our entire test set. \n",
    "\n",
    "To perform a Batch Transformation we need to first create a transformer objects from our trained estimator object."
   ]
  },
  {
   "cell_type": "code",
   "execution_count": 24,
   "metadata": {},
   "outputs": [],
   "source": [
    "xgb_transformer = xgb.transformer(instance_count = 1, instance_type = 'ml.m4.xlarge')"
   ]
  },
  {
   "cell_type": "markdown",
   "metadata": {},
   "source": [
    "Next we actually perform the transform job. When doing so we need to make sure to specify the type of data we are sending so that it is serialized correctly in the background. In our case we are providing our model with csv data so we specify `text/csv`. Also, if the test data that we have provided is too large to process all at once then we need to specify how the data file should be split up. Since each line is a single entry in our data set we tell SageMaker that it can split the input on each line."
   ]
  },
  {
   "cell_type": "code",
   "execution_count": 25,
   "metadata": {},
   "outputs": [],
   "source": [
    "xgb_transformer.transform(test_location, content_type='text/csv', split_type='Line')"
   ]
  },
  {
   "cell_type": "markdown",
   "metadata": {},
   "source": [
    "Currently the transform job is running but it is doing so in the background. Since we wish to wait until the transform job is done and we would like a bit of feedback we can run the `wait()` method."
   ]
  },
  {
   "cell_type": "code",
   "execution_count": 26,
   "metadata": {},
   "outputs": [
    {
     "name": "stdout",
     "output_type": "stream",
     "text": [
      ".....................\u001b[34mArguments: serve\u001b[0m\n",
      "\u001b[34m[2020-01-01 11:24:06 +0000] [1] [INFO] Starting gunicorn 19.7.1\u001b[0m\n",
      "\u001b[34m[2020-01-01 11:24:06 +0000] [1] [INFO] Listening at: http://0.0.0.0:8080 (1)\u001b[0m\n",
      "\u001b[34m[2020-01-01 11:24:06 +0000] [1] [INFO] Using worker: gevent\u001b[0m\n",
      "\u001b[34m[2020-01-01 11:24:06 +0000] [38] [INFO] Booting worker with pid: 38\u001b[0m\n",
      "\u001b[34m[2020-01-01 11:24:07 +0000] [39] [INFO] Booting worker with pid: 39\u001b[0m\n",
      "\u001b[34m[2020-01-01:11:24:07:INFO] Model loaded successfully for worker : 38\u001b[0m\n",
      "\u001b[34m[2020-01-01:11:24:07:INFO] Model loaded successfully for worker : 39\u001b[0m\n",
      "\u001b[34m[2020-01-01 11:24:07 +0000] [40] [INFO] Booting worker with pid: 40\u001b[0m\n",
      "\u001b[34m[2020-01-01:11:24:07:INFO] Model loaded successfully for worker : 40\u001b[0m\n",
      "\u001b[34m[2020-01-01 11:24:07 +0000] [41] [INFO] Booting worker with pid: 41\u001b[0m\n",
      "\u001b[34m[2020-01-01:11:24:07:INFO] Model loaded successfully for worker : 41\u001b[0m\n",
      "\u001b[34m[2020-01-01:11:24:38:INFO] Sniff delimiter as ','\u001b[0m\n",
      "\u001b[34m[2020-01-01:11:24:38:INFO] Determined delimiter of CSV input is ','\u001b[0m\n",
      "\u001b[34m[2020-01-01:11:24:38:INFO] Sniff delimiter as ','\u001b[0m\n",
      "\u001b[34m[2020-01-01:11:24:38:INFO] Determined delimiter of CSV input is ','\u001b[0m\n",
      "\u001b[35m[2020-01-01:11:24:38:INFO] Sniff delimiter as ','\u001b[0m\n",
      "\u001b[35m[2020-01-01:11:24:38:INFO] Determined delimiter of CSV input is ','\u001b[0m\n",
      "\u001b[35m[2020-01-01:11:24:38:INFO] Sniff delimiter as ','\u001b[0m\n",
      "\u001b[35m[2020-01-01:11:24:38:INFO] Determined delimiter of CSV input is ','\u001b[0m\n",
      "\u001b[34m[2020-01-01:11:24:38:INFO] Sniff delimiter as ','\u001b[0m\n",
      "\u001b[34m[2020-01-01:11:24:38:INFO] Determined delimiter of CSV input is ','\u001b[0m\n",
      "\u001b[34m[2020-01-01:11:24:39:INFO] Sniff delimiter as ','\u001b[0m\n",
      "\u001b[34m[2020-01-01:11:24:39:INFO] Determined delimiter of CSV input is ','\u001b[0m\n",
      "\u001b[35m[2020-01-01:11:24:38:INFO] Sniff delimiter as ','\u001b[0m\n",
      "\u001b[35m[2020-01-01:11:24:38:INFO] Determined delimiter of CSV input is ','\u001b[0m\n",
      "\u001b[35m[2020-01-01:11:24:39:INFO] Sniff delimiter as ','\u001b[0m\n",
      "\u001b[35m[2020-01-01:11:24:39:INFO] Determined delimiter of CSV input is ','\u001b[0m\n",
      "\u001b[32m2020-01-01T11:24:35.631:[sagemaker logs]: MaxConcurrentTransforms=4, MaxPayloadInMB=6, BatchStrategy=MULTI_RECORD\u001b[0m\n",
      "\u001b[34m[2020-01-01:11:24:40:INFO] Sniff delimiter as ','\u001b[0m\n",
      "\u001b[34m[2020-01-01:11:24:40:INFO] Determined delimiter of CSV input is ','\u001b[0m\n",
      "\u001b[34m[2020-01-01:11:24:40:INFO] Sniff delimiter as ','\u001b[0m\n",
      "\u001b[34m[2020-01-01:11:24:40:INFO] Determined delimiter of CSV input is ','\u001b[0m\n",
      "\u001b[34m[2020-01-01:11:24:41:INFO] Sniff delimiter as ','\u001b[0m\n",
      "\u001b[34m[2020-01-01:11:24:41:INFO] Determined delimiter of CSV input is ','\u001b[0m\n",
      "\u001b[35m[2020-01-01:11:24:40:INFO] Sniff delimiter as ','\u001b[0m\n",
      "\u001b[35m[2020-01-01:11:24:40:INFO] Determined delimiter of CSV input is ','\u001b[0m\n",
      "\u001b[35m[2020-01-01:11:24:40:INFO] Sniff delimiter as ','\u001b[0m\n",
      "\u001b[35m[2020-01-01:11:24:40:INFO] Determined delimiter of CSV input is ','\u001b[0m\n",
      "\u001b[35m[2020-01-01:11:24:41:INFO] Sniff delimiter as ','\u001b[0m\n",
      "\u001b[35m[2020-01-01:11:24:41:INFO] Determined delimiter of CSV input is ','\u001b[0m\n",
      "\u001b[34m[2020-01-01:11:24:41:INFO] Sniff delimiter as ','\u001b[0m\n",
      "\u001b[34m[2020-01-01:11:24:41:INFO] Determined delimiter of CSV input is ','\u001b[0m\n",
      "\u001b[35m[2020-01-01:11:24:41:INFO] Sniff delimiter as ','\u001b[0m\n",
      "\u001b[35m[2020-01-01:11:24:41:INFO] Determined delimiter of CSV input is ','\u001b[0m\n",
      "\u001b[34m[2020-01-01:11:24:43:INFO] Sniff delimiter as ','\u001b[0m\n",
      "\u001b[34m[2020-01-01:11:24:43:INFO] Determined delimiter of CSV input is ','\u001b[0m\n",
      "\u001b[34m[2020-01-01:11:24:43:INFO] Sniff delimiter as ','\u001b[0m\n",
      "\u001b[34m[2020-01-01:11:24:43:INFO] Determined delimiter of CSV input is ','\u001b[0m\n",
      "\u001b[35m[2020-01-01:11:24:43:INFO] Sniff delimiter as ','\u001b[0m\n",
      "\u001b[35m[2020-01-01:11:24:43:INFO] Determined delimiter of CSV input is ','\u001b[0m\n",
      "\u001b[35m[2020-01-01:11:24:43:INFO] Sniff delimiter as ','\u001b[0m\n",
      "\u001b[35m[2020-01-01:11:24:43:INFO] Determined delimiter of CSV input is ','\u001b[0m\n",
      "\u001b[34m[2020-01-01:11:24:43:INFO] Sniff delimiter as ','\u001b[0m\n",
      "\u001b[34m[2020-01-01:11:24:43:INFO] Determined delimiter of CSV input is ','\u001b[0m\n",
      "\u001b[35m[2020-01-01:11:24:43:INFO] Sniff delimiter as ','\u001b[0m\n",
      "\u001b[35m[2020-01-01:11:24:43:INFO] Determined delimiter of CSV input is ','\u001b[0m\n",
      "\u001b[34m[2020-01-01:11:24:44:INFO] Sniff delimiter as ','\u001b[0m\n",
      "\u001b[34m[2020-01-01:11:24:44:INFO] Determined delimiter of CSV input is ','\u001b[0m\n",
      "\u001b[35m[2020-01-01:11:24:44:INFO] Sniff delimiter as ','\u001b[0m\n",
      "\u001b[35m[2020-01-01:11:24:44:INFO] Determined delimiter of CSV input is ','\u001b[0m\n",
      "\u001b[34m[2020-01-01:11:24:45:INFO] Sniff delimiter as ','\u001b[0m\n",
      "\u001b[34m[2020-01-01:11:24:45:INFO] Determined delimiter of CSV input is ','\u001b[0m\n",
      "\u001b[34m[2020-01-01:11:24:45:INFO] Sniff delimiter as ','\u001b[0m\n",
      "\u001b[34m[2020-01-01:11:24:45:INFO] Determined delimiter of CSV input is ','\u001b[0m\n",
      "\u001b[34m[2020-01-01:11:24:46:INFO] Sniff delimiter as ','\u001b[0m\n",
      "\u001b[34m[2020-01-01:11:24:46:INFO] Determined delimiter of CSV input is ','\u001b[0m\n",
      "\u001b[34m[2020-01-01:11:24:46:INFO] Sniff delimiter as ','\u001b[0m\n",
      "\u001b[34m[2020-01-01:11:24:46:INFO] Determined delimiter of CSV input is ','\u001b[0m\n",
      "\u001b[35m[2020-01-01:11:24:45:INFO] Sniff delimiter as ','\u001b[0m\n",
      "\u001b[35m[2020-01-01:11:24:45:INFO] Determined delimiter of CSV input is ','\u001b[0m\n",
      "\u001b[35m[2020-01-01:11:24:45:INFO] Sniff delimiter as ','\u001b[0m\n",
      "\u001b[35m[2020-01-01:11:24:45:INFO] Determined delimiter of CSV input is ','\u001b[0m\n",
      "\u001b[35m[2020-01-01:11:24:46:INFO] Sniff delimiter as ','\u001b[0m\n",
      "\u001b[35m[2020-01-01:11:24:46:INFO] Determined delimiter of CSV input is ','\u001b[0m\n",
      "\u001b[35m[2020-01-01:11:24:46:INFO] Sniff delimiter as ','\u001b[0m\n",
      "\u001b[35m[2020-01-01:11:24:46:INFO] Determined delimiter of CSV input is ','\u001b[0m\n",
      "\u001b[34m[2020-01-01:11:24:50:INFO] Sniff delimiter as ','\u001b[0m\n",
      "\u001b[34m[2020-01-01:11:24:50:INFO] Determined delimiter of CSV input is ','\u001b[0m\n",
      "\u001b[35m[2020-01-01:11:24:50:INFO] Sniff delimiter as ','\u001b[0m\n",
      "\u001b[35m[2020-01-01:11:24:50:INFO] Determined delimiter of CSV input is ','\u001b[0m\n",
      "\u001b[34m[2020-01-01:11:24:50:INFO] Sniff delimiter as ','\u001b[0m\n",
      "\u001b[34m[2020-01-01:11:24:50:INFO] Determined delimiter of CSV input is ','\u001b[0m\n",
      "\u001b[34m[2020-01-01:11:24:50:INFO] Sniff delimiter as ','\u001b[0m\n",
      "\u001b[34m[2020-01-01:11:24:50:INFO] Determined delimiter of CSV input is ','\u001b[0m\n",
      "\u001b[34m[2020-01-01:11:24:51:INFO] Sniff delimiter as ','\u001b[0m\n",
      "\u001b[34m[2020-01-01:11:24:51:INFO] Determined delimiter of CSV input is ','\u001b[0m\n",
      "\u001b[35m[2020-01-01:11:24:50:INFO] Sniff delimiter as ','\u001b[0m\n",
      "\u001b[35m[2020-01-01:11:24:50:INFO] Determined delimiter of CSV input is ','\u001b[0m\n",
      "\u001b[35m[2020-01-01:11:24:50:INFO] Sniff delimiter as ','\u001b[0m\n",
      "\u001b[35m[2020-01-01:11:24:50:INFO] Determined delimiter of CSV input is ','\u001b[0m\n",
      "\u001b[35m[2020-01-01:11:24:51:INFO] Sniff delimiter as ','\u001b[0m\n",
      "\u001b[35m[2020-01-01:11:24:51:INFO] Determined delimiter of CSV input is ','\u001b[0m\n",
      "\u001b[34m[2020-01-01:11:24:52:INFO] Sniff delimiter as ','\u001b[0m\n",
      "\u001b[34m[2020-01-01:11:24:52:INFO] Determined delimiter of CSV input is ','\u001b[0m\n",
      "\u001b[34m[2020-01-01:11:24:53:INFO] Sniff delimiter as ','\u001b[0m\n",
      "\u001b[34m[2020-01-01:11:24:53:INFO] Determined delimiter of CSV input is ','\u001b[0m\n",
      "\u001b[34m[2020-01-01:11:24:53:INFO] Sniff delimiter as ','\u001b[0m\n",
      "\u001b[34m[2020-01-01:11:24:53:INFO] Determined delimiter of CSV input is ','\u001b[0m\n",
      "\u001b[35m[2020-01-01:11:24:52:INFO] Sniff delimiter as ','\u001b[0m\n",
      "\u001b[35m[2020-01-01:11:24:52:INFO] Determined delimiter of CSV input is ','\u001b[0m\n",
      "\u001b[35m[2020-01-01:11:24:53:INFO] Sniff delimiter as ','\u001b[0m\n",
      "\u001b[35m[2020-01-01:11:24:53:INFO] Determined delimiter of CSV input is ','\u001b[0m\n",
      "\u001b[35m[2020-01-01:11:24:53:INFO] Sniff delimiter as ','\u001b[0m\n",
      "\u001b[35m[2020-01-01:11:24:53:INFO] Determined delimiter of CSV input is ','\u001b[0m\n",
      "\u001b[34m[2020-01-01:11:24:53:INFO] Sniff delimiter as ','\u001b[0m\n",
      "\u001b[34m[2020-01-01:11:24:53:INFO] Determined delimiter of CSV input is ','\u001b[0m\n",
      "\u001b[35m[2020-01-01:11:24:53:INFO] Sniff delimiter as ','\u001b[0m\n",
      "\u001b[35m[2020-01-01:11:24:53:INFO] Determined delimiter of CSV input is ','\u001b[0m\n",
      "\u001b[34m[2020-01-01:11:24:55:INFO] Sniff delimiter as ','\u001b[0m\n",
      "\u001b[34m[2020-01-01:11:24:55:INFO] Determined delimiter of CSV input is ','\u001b[0m\n",
      "\u001b[35m[2020-01-01:11:24:55:INFO] Sniff delimiter as ','\u001b[0m\n",
      "\u001b[35m[2020-01-01:11:24:55:INFO] Determined delimiter of CSV input is ','\u001b[0m\n",
      "\u001b[34m[2020-01-01:11:24:55:INFO] Sniff delimiter as ','\u001b[0m\n",
      "\u001b[34m[2020-01-01:11:24:55:INFO] Determined delimiter of CSV input is ','\u001b[0m\n",
      "\u001b[34m[2020-01-01:11:24:55:INFO] Sniff delimiter as ','\u001b[0m\n",
      "\u001b[34m[2020-01-01:11:24:55:INFO] Determined delimiter of CSV input is ','\u001b[0m\n",
      "\u001b[34m[2020-01-01:11:24:55:INFO] Sniff delimiter as ','\u001b[0m\n",
      "\u001b[34m[2020-01-01:11:24:55:INFO] Determined delimiter of CSV input is ','\u001b[0m\n",
      "\u001b[35m[2020-01-01:11:24:55:INFO] Sniff delimiter as ','\u001b[0m\n",
      "\u001b[35m[2020-01-01:11:24:55:INFO] Determined delimiter of CSV input is ','\u001b[0m\n",
      "\u001b[35m[2020-01-01:11:24:55:INFO] Sniff delimiter as ','\u001b[0m\n",
      "\u001b[35m[2020-01-01:11:24:55:INFO] Determined delimiter of CSV input is ','\u001b[0m\n",
      "\u001b[35m[2020-01-01:11:24:55:INFO] Sniff delimiter as ','\u001b[0m\n",
      "\u001b[35m[2020-01-01:11:24:55:INFO] Determined delimiter of CSV input is ','\u001b[0m\n"
     ]
    },
    {
     "name": "stdout",
     "output_type": "stream",
     "text": [
      "\u001b[34m[2020-01-01:11:24:58:INFO] Sniff delimiter as ','\u001b[0m\n",
      "\u001b[34m[2020-01-01:11:24:58:INFO] Determined delimiter of CSV input is ','\u001b[0m\n",
      "\u001b[35m[2020-01-01:11:24:58:INFO] Sniff delimiter as ','\u001b[0m\n",
      "\u001b[35m[2020-01-01:11:24:58:INFO] Determined delimiter of CSV input is ','\u001b[0m\n",
      "\u001b[34m[2020-01-01:11:24:59:INFO] Sniff delimiter as ','\u001b[0m\n",
      "\u001b[34m[2020-01-01:11:24:59:INFO] Determined delimiter of CSV input is ','\u001b[0m\n",
      "\u001b[34m[2020-01-01:11:25:00:INFO] Sniff delimiter as ','\u001b[0m\n",
      "\u001b[34m[2020-01-01:11:25:00:INFO] Determined delimiter of CSV input is ','\u001b[0m\n",
      "\u001b[35m[2020-01-01:11:24:59:INFO] Sniff delimiter as ','\u001b[0m\n",
      "\u001b[35m[2020-01-01:11:24:59:INFO] Determined delimiter of CSV input is ','\u001b[0m\n",
      "\u001b[35m[2020-01-01:11:25:00:INFO] Sniff delimiter as ','\u001b[0m\n",
      "\u001b[35m[2020-01-01:11:25:00:INFO] Determined delimiter of CSV input is ','\u001b[0m\n",
      "\u001b[34m[2020-01-01:11:25:00:INFO] Sniff delimiter as ','\u001b[0m\n",
      "\u001b[34m[2020-01-01:11:25:00:INFO] Determined delimiter of CSV input is ','\u001b[0m\n",
      "\u001b[34m[2020-01-01:11:25:00:INFO] Sniff delimiter as ','\u001b[0m\n",
      "\u001b[34m[2020-01-01:11:25:00:INFO] Determined delimiter of CSV input is ','\u001b[0m\n",
      "\u001b[35m[2020-01-01:11:25:00:INFO] Sniff delimiter as ','\u001b[0m\n",
      "\u001b[35m[2020-01-01:11:25:00:INFO] Determined delimiter of CSV input is ','\u001b[0m\n",
      "\u001b[35m[2020-01-01:11:25:00:INFO] Sniff delimiter as ','\u001b[0m\n",
      "\u001b[35m[2020-01-01:11:25:00:INFO] Determined delimiter of CSV input is ','\u001b[0m\n",
      "\n"
     ]
    }
   ],
   "source": [
    "xgb_transformer.wait()"
   ]
  },
  {
   "cell_type": "markdown",
   "metadata": {},
   "source": [
    "Now the transform job has executed and the result, the estimated sentiment of each review, has been saved on S3. Since we would rather work on this file locally we can perform a bit of notebook magic to copy the file to the `data_dir`."
   ]
  },
  {
   "cell_type": "code",
   "execution_count": 27,
   "metadata": {},
   "outputs": [
    {
     "name": "stdout",
     "output_type": "stream",
     "text": [
      "Completed 256.0 KiB/371.4 KiB (3.4 MiB/s) with 1 file(s) remaining\r",
      "Completed 371.4 KiB/371.4 KiB (4.8 MiB/s) with 1 file(s) remaining\r",
      "download: s3://sagemaker-us-east-1-956989553438/xgboost-2020-01-01-11-20-50-854/test.csv.out to ../data/sentiment_web_app/test.csv.out\r\n"
     ]
    }
   ],
   "source": [
    "!aws s3 cp --recursive $xgb_transformer.output_path $data_dir"
   ]
  },
  {
   "cell_type": "markdown",
   "metadata": {},
   "source": [
    "The last step is now to read in the output from our model, convert the output to something a little more usable, in this case we want the sentiment to be either `1` (positive) or `0` (negative), and then compare to the ground truth labels."
   ]
  },
  {
   "cell_type": "code",
   "execution_count": 28,
   "metadata": {},
   "outputs": [],
   "source": [
    "predictions = pd.read_csv(os.path.join(data_dir, 'test.csv.out'), header=None)\n",
    "predictions = [round(num) for num in predictions.squeeze().values]"
   ]
  },
  {
   "cell_type": "code",
   "execution_count": 29,
   "metadata": {},
   "outputs": [
    {
     "data": {
      "text/plain": [
       "0.86716"
      ]
     },
     "execution_count": 29,
     "metadata": {},
     "output_type": "execute_result"
    }
   ],
   "source": [
    "from sklearn.metrics import accuracy_score\n",
    "accuracy_score(test_y, predictions)"
   ]
  },
  {
   "cell_type": "markdown",
   "metadata": {},
   "source": [
    "## Step 6: Deploying the model\n",
    "\n",
    "Once we construct and fit our model, SageMaker stores the resulting model artifacts and we can use those to deploy an endpoint (inference code). To see this, look in the SageMaker console and you should see that a model has been created along with a link to the S3 location where the model artifacts have been stored.\n",
    "\n",
    "Deploying an endpoint is a lot like training the model with a few important differences. The first is that a deployed model doesn't change the model artifacts, so as you send it various testing instances the model won't change. Another difference is that since we aren't performing a fixed computation, as we were in the training step or while performing a batch transform, the compute instance that gets started stays running until we tell it to stop. This is important to note as if we forget and leave it running we will be charged the entire time.\n",
    "\n",
    "In other words **If you are no longer using a deployed endpoint, shut it down!**"
   ]
  },
  {
   "cell_type": "code",
   "execution_count": 30,
   "metadata": {},
   "outputs": [
    {
     "name": "stderr",
     "output_type": "stream",
     "text": [
      "WARNING:sagemaker:Using already existing model: xgboost-2020-01-01-11-11-04-008\n"
     ]
    },
    {
     "name": "stdout",
     "output_type": "stream",
     "text": [
      "----------------------------------------------------------------------------------------------------------------!"
     ]
    }
   ],
   "source": [
    "xgb_predictor = xgb.deploy(initial_instance_count = 1, instance_type = 'ml.m4.xlarge')"
   ]
  },
  {
   "cell_type": "markdown",
   "metadata": {},
   "source": [
    "### Testing the model (again)\n",
    "\n",
    "Now that we have deployed our endpoint, we can send the testing data to it and get back the inference results. We already did this earlier using the batch transform functionality of SageMaker, however, we will test our model again using the newly deployed endpoint so that we can make sure that it works properly and to get a bit of a feel for how the endpoint works.\n",
    "\n",
    "When using the created endpoint it is important to know that we are limited in the amount of information we can send in each call so we need to break the testing data up into chunks and then send each chunk. Also, we need to serialize our data before we send it to the endpoint to ensure that our data is transmitted properly. Fortunately, SageMaker can do the serialization part for us provided we tell it the format of our data."
   ]
  },
  {
   "cell_type": "code",
   "execution_count": 31,
   "metadata": {},
   "outputs": [],
   "source": [
    "from sagemaker.predictor import csv_serializer\n",
    "\n",
    "# We need to tell the endpoint what format the data we are sending is in so that SageMaker can perform the serialization.\n",
    "xgb_predictor.content_type = 'text/csv'\n",
    "xgb_predictor.serializer = csv_serializer"
   ]
  },
  {
   "cell_type": "code",
   "execution_count": 32,
   "metadata": {},
   "outputs": [],
   "source": [
    "# We split the data into chunks and send each chunk seperately, accumulating the results.\n",
    "\n",
    "def predict(data, rows=512):\n",
    "    split_array = np.array_split(data, int(data.shape[0] / float(rows) + 1))\n",
    "    predictions = ''\n",
    "    for array in split_array:\n",
    "        predictions = ','.join([predictions, xgb_predictor.predict(array).decode('utf-8')])\n",
    "    \n",
    "    return np.fromstring(predictions[1:], sep=',')"
   ]
  },
  {
   "cell_type": "code",
   "execution_count": 33,
   "metadata": {},
   "outputs": [],
   "source": [
    "test_X = pd.read_csv(os.path.join(data_dir, 'test.csv'), header=None).values\n",
    "\n",
    "predictions = predict(test_X)\n",
    "predictions = [round(num) for num in predictions]"
   ]
  },
  {
   "cell_type": "markdown",
   "metadata": {},
   "source": [
    "Lastly, we check to see what the accuracy of our model is."
   ]
  },
  {
   "cell_type": "code",
   "execution_count": 34,
   "metadata": {},
   "outputs": [
    {
     "data": {
      "text/plain": [
       "0.86716"
      ]
     },
     "execution_count": 34,
     "metadata": {},
     "output_type": "execute_result"
    }
   ],
   "source": [
    "from sklearn.metrics import accuracy_score\n",
    "accuracy_score(test_y, predictions)"
   ]
  },
  {
   "cell_type": "markdown",
   "metadata": {},
   "source": [
    "And the results here should agree with the model testing that we did earlier using the batch transform job.\n",
    "\n",
    "### Cleaning up\n",
    "\n",
    "Now that we've determined that deploying our model works as expected, we are going to shut it down. Remember that the longer the endpoint is left running, the greater the cost and since we have a bit more work to do before we are able to use our endpoint with our simple web app, we should shut everything down."
   ]
  },
  {
   "cell_type": "code",
   "execution_count": 35,
   "metadata": {},
   "outputs": [],
   "source": [
    "xgb_predictor.delete_endpoint()"
   ]
  },
  {
   "cell_type": "markdown",
   "metadata": {},
   "source": [
    "## Step 7: Putting our model to work\n",
    "\n",
    "As we've mentioned a few times now, our goal is to have our model deployed and then access it using a very simple web app. The intent is for this web app to take some user submitted data (a review), send it off to our endpoint (the model) and then display the result.\n",
    "\n",
    "However, there is a small catch. Currently the only way we can access the endpoint to send it data is using the SageMaker API. We can, if we wish, expose the actual URL that our model's endpoint is receiving data from, however, if we just send it data ourselves we will not get anything in return. This is because the endpoint created by SageMaker requires the entity accessing it have the correct permissions. So, we would need to somehow authenticate our web app with AWS.\n",
    "\n",
    "Having a website that authenticates to AWS seems a bit beyond the scope of this lesson so we will opt for an alternative approach. Namely, we will create a new endpoint which does not require authentication and which acts as a proxy for the SageMaker endpoint.\n",
    "\n",
    "As an additional constraint, we will try to avoid doing any data processing in the web app itself. Remember that when we constructed and tested our model we started with a movie review, then we simplified it by removing any html formatting and punctuation, then we constructed a bag of words embedding and the resulting vector is what we sent to our model. All of this needs to be done to our user input as well.\n",
    "\n",
    "Fortunately we can do all of this data processing in the backend, using Amazon's Lambda service.\n",
    "\n",
    "<img src=\"Web App Diagram.svg\">\n",
    "\n",
    "The diagram above gives an overview of how the various services will work together. On the far right is the model which we trained above and which will be deployed using SageMaker. On the far left is our web app that collects a user's movie review, sends it off and expects a positive or negative sentiment in return.\n",
    "\n",
    "In the middle is where some of the magic happens. We will construct a Lambda function, which you can think of as a straightforward Python function that can be executed whenever a specified event occurs. This Python function will do the data processing we need to perform on a user submitted review. In addition, we will give this function permission to send and recieve data from a SageMaker endpoint.\n",
    "\n",
    "Lastly, the method we will use to execute the Lambda function is a new endpoint that we will create using API Gateway. This endpoint will be a url that listens for data to be sent to it. Once it gets some data it will pass that data on to the Lambda function and then return whatever the Lambda function returns. Essentially it will act as an interface that lets our web app communicate with the Lambda function.\n",
    "\n",
    "### Processing a single review\n",
    "\n",
    "For now, suppose we are given a movie review by our user in the form of a string, like so:"
   ]
  },
  {
   "cell_type": "code",
   "execution_count": 36,
   "metadata": {},
   "outputs": [],
   "source": [
    "test_review = \"Nothing but a disgusting materialistic pageant of glistening abed remote control greed zombies, totally devoid of any heart or heat. A romantic comedy that has zero romantic chemestry and zero laughs!\""
   ]
  },
  {
   "cell_type": "markdown",
   "metadata": {},
   "source": [
    "How do we go from this string to the bag of words feature vector that is expected by our model?\n",
    "\n",
    "If we recall at the beginning of this notebook, the first step is to remove any unnecessary characters using the `review_to_words` method. Remember that we intentionally did this in a very simplistic way. This is because we are going to have to copy this method to our (eventual) Lambda function (we will go into more detail later) and this means it needs to be rather simplistic."
   ]
  },
  {
   "cell_type": "code",
   "execution_count": 37,
   "metadata": {},
   "outputs": [
    {
     "name": "stdout",
     "output_type": "stream",
     "text": [
      "nothing but a disgusting materialistic pageant of glistening abed remote control greed zombies totally devoid of any heart or heat a romantic comedy that has zero romantic chemestry and zero laughs\n"
     ]
    }
   ],
   "source": [
    "test_words = review_to_words(test_review)\n",
    "print(test_words)"
   ]
  },
  {
   "cell_type": "markdown",
   "metadata": {},
   "source": [
    "Next, we need to construct a bag of words embedding of the `test_words` string. To do this, remember that a bag of words embedding uses a `vocabulary` consisting of the most frequently appearing words in a set of documents. Then, for each word in the vocabulary we record the number of times that word appears in `test_words`. We constructed the `vocabulary` earlier using the training set for our problem so encoding `test_words` is relatively straightforward."
   ]
  },
  {
   "cell_type": "code",
   "execution_count": 38,
   "metadata": {},
   "outputs": [],
   "source": [
    "def bow_encoding(words, vocabulary):\n",
    "    bow = [0] * len(vocabulary) # Start by setting the count for each word in the vocabulary to zero.\n",
    "    for word in words.split():  # For each word in the string\n",
    "        if word in vocabulary:  # If the word is one that occurs in the vocabulary, increase its count.\n",
    "            bow[vocabulary[word]] += 1\n",
    "    return bow"
   ]
  },
  {
   "cell_type": "code",
   "execution_count": 39,
   "metadata": {},
   "outputs": [
    {
     "name": "stdout",
     "output_type": "stream",
     "text": [
      "[0, 0, 0, 0, 0, 0, 0, 0, 0, 0, 0, 0, 0, 0, 0, 0, 0, 0, 0, 0, 0, 0, 0, 0, 0, 0, 0, 0, 0, 0, 0, 0, 0, 0, 0, 0, 0, 0, 0, 0, 0, 0, 0, 0, 0, 0, 0, 0, 0, 0, 0, 0, 0, 0, 0, 0, 0, 0, 0, 0, 0, 0, 0, 0, 0, 0, 0, 0, 0, 0, 0, 0, 0, 0, 0, 0, 0, 0, 0, 0, 0, 0, 0, 0, 0, 0, 0, 0, 0, 0, 0, 0, 0, 0, 0, 0, 0, 0, 0, 0, 0, 0, 0, 0, 0, 0, 0, 0, 0, 0, 0, 0, 0, 0, 0, 0, 0, 0, 0, 0, 0, 0, 0, 0, 0, 0, 0, 0, 0, 0, 0, 0, 0, 0, 0, 0, 0, 0, 0, 0, 0, 0, 0, 0, 0, 0, 0, 0, 0, 0, 0, 0, 0, 0, 0, 0, 0, 0, 0, 0, 0, 0, 0, 0, 0, 0, 0, 0, 0, 0, 0, 0, 0, 0, 0, 0, 0, 0, 0, 0, 0, 0, 0, 0, 0, 0, 0, 0, 0, 0, 0, 0, 0, 0, 0, 0, 0, 0, 0, 0, 0, 0, 0, 0, 0, 0, 0, 0, 0, 0, 0, 0, 0, 0, 0, 0, 0, 0, 0, 0, 0, 0, 0, 0, 0, 0, 1, 0, 0, 0, 0, 0, 0, 0, 0, 0, 0, 0, 0, 0, 0, 0, 0, 0, 0, 0, 0, 0, 0, 0, 0, 0, 0, 0, 0, 0, 1, 0, 0, 0, 0, 0, 0, 0, 0, 0, 0, 0, 0, 0, 0, 0, 0, 0, 0, 0, 0, 0, 0, 0, 0, 0, 0, 0, 0, 0, 0, 0, 0, 0, 0, 0, 0, 0, 0, 0, 0, 0, 0, 0, 0, 0, 0, 0, 0, 0, 0, 0, 0, 0, 0, 0, 0, 0, 0, 0, 0, 0, 0, 0, 0, 0, 0, 0, 0, 0, 0, 0, 0, 0, 0, 0, 0, 0, 0, 0, 0, 0, 0, 0, 0, 0, 0, 0, 0, 0, 0, 0, 0, 0, 0, 0, 0, 0, 0, 0, 0, 0, 0, 0, 0, 0, 0, 0, 0, 0, 0, 0, 0, 0, 0, 0, 0, 0, 0, 0, 0, 0, 0, 0, 0, 0, 0, 0, 0, 0, 0, 0, 0, 0, 0, 0, 0, 0, 0, 0, 0, 0, 0, 0, 0, 0, 0, 0, 0, 0, 0, 0, 0, 0, 0, 0, 0, 0, 0, 0, 0, 0, 0, 0, 0, 0, 0, 0, 0, 0, 0, 0, 0, 0, 0, 0, 0, 0, 0, 0, 0, 0, 0, 0, 0, 0, 0, 0, 0, 0, 0, 0, 0, 0, 0, 0, 0, 0, 0, 0, 0, 0, 0, 0, 0, 0, 0, 0, 0, 0, 0, 0, 0, 0, 0, 0, 0, 0, 0, 0, 0, 0, 0, 0, 0, 0, 0, 0, 0, 0, 0, 0, 0, 0, 0, 0, 0, 0, 0, 0, 0, 0, 0, 0, 0, 0, 0, 0, 0, 0, 0, 0, 0, 0, 0, 0, 0, 0, 0, 0, 0, 0, 0, 0, 0, 0, 0, 0, 0, 0, 0, 0, 0, 0, 0, 0, 0, 0, 0, 0, 0, 0, 0, 0, 0, 0, 0, 0, 0, 0, 0, 0, 0, 0, 0, 0, 0, 0, 0, 0, 0, 0, 0, 0, 0, 0, 0, 0, 0, 0, 0, 0, 0, 0, 0, 0, 0, 0, 0, 0, 0, 0, 0, 0, 0, 0, 0, 0, 0, 0, 0, 0, 0, 0, 0, 0, 0, 0, 0, 0, 0, 0, 0, 0, 0, 0, 0, 0, 0, 0, 0, 0, 0, 0, 0, 0, 0, 0, 0, 0, 0, 0, 0, 0, 0, 0, 0, 0, 0, 0, 0, 0, 0, 0, 0, 0, 0, 0, 0, 0, 1, 0, 0, 0, 0, 0, 0, 0, 0, 0, 0, 0, 0, 0, 0, 0, 0, 0, 0, 0, 0, 0, 0, 0, 0, 0, 0, 0, 0, 0, 0, 0, 0, 0, 0, 0, 0, 0, 0, 0, 0, 0, 0, 0, 0, 0, 0, 0, 0, 0, 0, 0, 0, 0, 0, 0, 0, 0, 0, 0, 0, 0, 0, 0, 0, 0, 0, 0, 0, 0, 0, 0, 0, 0, 0, 0, 0, 0, 0, 0, 0, 0, 0, 0, 0, 0, 0, 0, 0, 0, 0, 0, 0, 0, 0, 0, 0, 0, 0, 0, 0, 0, 0, 0, 0, 0, 0, 0, 0, 0, 0, 0, 0, 0, 0, 0, 0, 0, 0, 0, 0, 0, 0, 0, 0, 0, 0, 0, 0, 0, 0, 0, 0, 0, 0, 0, 0, 0, 0, 0, 0, 0, 0, 0, 0, 0, 0, 0, 0, 0, 0, 0, 0, 0, 0, 0, 0, 0, 0, 0, 0, 0, 0, 0, 0, 0, 0, 0, 0, 0, 0, 0, 0, 0, 0, 0, 0, 0, 0, 0, 0, 0, 0, 0, 0, 0, 0, 0, 0, 0, 0, 0, 0, 0, 0, 0, 0, 0, 0, 0, 0, 0, 0, 0, 0, 0, 0, 0, 0, 0, 0, 0, 0, 0, 0, 0, 0, 0, 0, 0, 0, 0, 0, 0, 0, 0, 0, 0, 0, 0, 0, 0, 0, 0, 0, 0, 0, 0, 0, 0, 0, 0, 0, 0, 0, 0, 0, 0, 0, 0, 0, 0, 0, 0, 1, 0, 0, 0, 0, 0, 0, 0, 0, 0, 0, 0, 0, 0, 0, 0, 0, 0, 0, 0, 0, 0, 0, 0, 0, 0, 0, 0, 0, 0, 0, 0, 0, 0, 0, 0, 0, 0, 0, 0, 0, 0, 0, 0, 0, 0, 0, 0, 0, 0, 0, 0, 0, 0, 0, 0, 0, 0, 0, 0, 0, 0, 0, 0, 0, 0, 0, 0, 0, 0, 0, 0, 0, 0, 0, 0, 0, 0, 0, 0, 0, 0, 0, 0, 0, 0, 0, 1, 0, 0, 0, 0, 0, 0, 0, 0, 0, 0, 0, 0, 0, 0, 0, 0, 0, 0, 0, 0, 0, 0, 0, 0, 0, 0, 0, 0, 0, 0, 0, 0, 0, 0, 0, 0, 0, 0, 0, 0, 0, 0, 0, 0, 0, 0, 0, 0, 0, 0, 0, 0, 0, 0, 0, 0, 0, 0, 0, 0, 0, 0, 0, 0, 0, 0, 0, 0, 0, 0, 0, 0, 0, 0, 0, 0, 0, 0, 0, 0, 0, 0, 0, 0, 0, 0, 0, 0, 0, 0, 0, 0, 0, 0, 0, 0, 0, 0, 0, 0, 0, 0, 0, 0, 0, 0, 0, 0, 0, 0, 0, 0, 0, 0, 0, 0, 0, 0, 0, 0, 0, 0, 0, 0, 0, 0, 0, 0, 0, 0, 0, 0, 0, 0, 0, 0, 0, 0, 0, 0, 0, 0, 0, 0, 0, 0, 0, 0, 0, 0, 0, 0, 0, 0, 0, 0, 0, 0, 0, 0, 0, 0, 0, 0, 0, 0, 0, 0, 0, 0, 0, 0, 0, 0, 0, 0, 0, 0, 0, 0, 0, 0, 0, 0, 0, 0, 0, 0, 0, 0, 0, 0, 0, 0, 0, 0, 0, 0, 0, 0, 0, 0, 0, 0, 0, 0, 0, 0, 0, 0, 0, 0, 0, 0, 0, 0, 0, 0, 0, 0, 0, 0, 0, 0, 0, 0, 0, 0, 0, 0, 0, 0, 0, 0, 0, 0, 0, 0, 0, 0, 0, 0, 0, 0, 0, 0, 0, 0, 0, 0, 0, 0, 1, 0, 0, 0, 0, 0, 0, 0, 0, 0, 0, 0, 0, 0, 0, 0, 0, 0, 0, 0, 0, 0, 0, 0, 0, 0, 0, 0, 0, 0, 0, 0, 0, 0, 0, 0, 0, 0, 0, 0, 0, 0, 0, 0, 0, 0, 0, 0, 0, 0, 0, 0, 0, 0, 0, 0, 1, 0, 0, 0, 0, 0, 0, 0, 0, 0, 0, 0, 0, 0, 0, 0, 0, 0, 0, 0, 0, 0, 0, 0, 0, 0, 0, 0, 0, 0, 0, 0, 0, 0, 0, 0, 0, 0, 0, 0, 0, 0, 0, 0, 0, 0, 0, 0, 0, 0, 0, 0, 0, 0, 0, 0, 0, 0, 0, 0, 0, 0, 0, 0, 0, 0, 0, 0, 0, 0, 0, 0, 0, 0, 0, 0, 0, 0, 0, 0, 0, 0, 0, 0, 0, 0, 0, 0, 0, 0, 0, 0, 0, 0, 0, 0, 0, 0, 0, 0, 0, 0, 0, 0, 0, 0, 0, 0, 0, 0, 0, 0, 0, 0, 0, 0, 0, 0, 0, 0, 0, 0, 0, 0, 0, 0, 0, 0, 0, 0, 0, 0, 0, 0, 0, 0, 0, 0, 0, 0, 0, 0, 0, 0, 0, 0, 0, 0, 0, 0, 0, 0, 0, 0, 0, 0, 0, 0, 0, 0, 0, 0, 0, 0, 0, 0, 0, 0, 0, 0, 0, 0, 0, 0, 0, 0, 0, 0, 0, 0, 0, 0, 0, 0, 0, 0, 0, 0, 0, 0, 0, 0, 0, 0, 0, 0, 0, 0, 0, 0, 0, 0, 0, 0, 0, 0, 0, 0, 0, 0, 0, 0, 0, 0, 0, 0, 0, 0, 0, 0, 0, 0, 0, 0, 0, 0, 0, 0, 0, 0, 0, 0, 0, 0, 0, 0, 0, 0, 0, 0, 0, 0, 0, 0, 0, 0, 0, 0, 0, 0, 0, 0, 0, 0, 0, 0, 0, 0, 0, 0, 0, 0, 0, 0, 0, 0, 0, 0, 0, 0, 0, 0, 0, 0, 0, 0, 0, 0, 0, 0, 0, 0, 0, 0, 0, 0, 0, 0, 0, 0, 0, 0, 0, 0, 0, 0, 0, 0, 0, 0, 0, 0, 0, 0, 0, 0, 0, 0, 0, 0, 0, 0, 0, 0, 0, 0, 0, 0, 0, 0, 0, 0, 0, 0, 0, 0, 0, 0, 0, 0, 0, 0, 0, 0, 0, 0, 0, 0, 0, 0, 0, 0, 0, 0, 0, 0, 0, 0, 0, 0, 0, 0, 0, 0, 0, 0, 0, 0, 0, 0, 0, 0, 0, 0, 0, 0, 0, 0, 0, 0, 0, 0, 0, 0, 0, 0, 0, 0, 0, 0, 0, 0, 0, 0, 0, 0, 0, 0, 0, 0, 0, 0, 0, 0, 0, 0, 0, 0, 0, 0, 0, 0, 0, 0, 0, 0, 0, 0, 0, 0, 0, 0, 0, 0, 0, 0, 0, 0, 0, 0, 0, 0, 0, 0, 0, 0, 0, 0, 0, 0, 0, 0, 0, 0, 0, 0, 0, 0, 0, 0, 0, 0, 0, 0, 0, 0, 0, 0, 0, 0, 0, 0, 0, 0, 0, 0, 0, 0, 0, 0, 0, 0, 0, 0, 0, 0, 0, 0, 0, 0, 0, 0, 0, 0, 0, 0, 0, 0, 0, 0, 0, 0, 0, 0, 0, 0, 0, 0, 0, 0, 0, 0, 0, 0, 0, 0, 0, 0, 0, 0, 0, 0, 0, 0, 0, 0, 0, 0, 0, 0, 0, 0, 0, 0, 0, 0, 0, 0, 0, 0, 0, 0, 0, 0, 0, 0, 0, 0, 0, 0, 0, 0, 0, 0, 0, 0, 0, 0, 0, 0, 0, 0, 0, 0, 0, 0, 0, 0, 0, 0, 0, 0, 0, 0, 0, 0, 0, 0, 0, 0, 0, 0, 0, 0, 0, 0, 0, 0, 0, 0, 0, 0, 0, 0, 0, 0, 0, 0, 0, 0, 0, 0, 0, 0, 0, 0, 0, 0, 0, 0, 0, 0, 0, 0, 0, 0, 0, 0, 0, 0, 0, 0, 0, 0, 0, 0, 0, 0, 0, 0, 0, 0, 0, 0, 0, 0, 0, 0, 0, 0, 0, 0, 0, 0, 0, 0, 0, 0, 0, 0, 0, 0, 0, 0, 0, 0, 0, 0, 0, 0, 0, 0, 0, 0, 0, 0, 0, 0, 0, 0, 0, 0, 0, 0, 0, 0, 0, 0, 0, 0, 0, 0, 0, 0, 0, 0, 0, 0, 0, 0, 0, 0, 0, 0, 0, 0, 0, 0, 0, 0, 0, 0, 1, 0, 0, 0, 0, 0, 0, 0, 0, 0, 0, 0, 0, 0, 0, 0, 0, 0, 0, 0, 0, 0, 0, 0, 0, 0, 0, 0, 0, 0, 0, 0, 0, 0, 0, 0, 0, 0, 0, 0, 0, 0, 0, 0, 0, 0, 0, 0, 0, 0, 0, 0, 0, 0, 0, 0, 0, 0, 0, 0, 0, 0, 0, 0, 0, 0, 0, 0, 0, 0, 0, 0, 0, 0, 0, 1, 0, 0, 0, 0, 0, 0, 0, 0, 0, 0, 0, 0, 0, 0, 0, 0, 0, 0, 0, 0, 1, 0, 0, 1, 0, 0, 0, 0, 0, 0, 0, 0, 0, 0, 0, 0, 0, 0, 0, 0, 0, 0, 0, 0, 0, 0, 0, 0, 0, 0, 0, 0, 0, 0, 0, 0, 0, 0, 0, 0, 0, 0, 0, 0, 0, 0, 0, 0, 0, 0, 0, 0, 0, 0, 0, 0, 0, 0, 0, 0, 0, 0, 0, 0, 0, 0, 0, 0, 0, 0, 0, 0, 0, 0, 0, 0, 0, 0, 0, 0, 0, 0, 0, 0, 0, 0, 0, 0, 0, 0, 0, 0, 0, 0, 0, 0, 0, 0, 0, 0, 0, 0, 0, 0, 0, 0, 0, 0, 0, 0, 0, 0, 0, 0, 0, 0, 0, 0, 0, 0, 0, 0, 0, 0, 0, 0, 0, 0, 0, 0, 0, 0, 0, 0, 0, 0, 0, 0, 0, 0, 0, 0, 0, 0, 0, 0, 0, 0, 0, 0, 0, 0, 0, 0, 0, 0, 0, 0, 0, 0, 0, 0, 0, 0, 0, 0, 0, 0, 0, 0, 0, 0, 0, 0, 0, 0, 0, 0, 0, 0, 0, 0, 0, 0, 0, 0, 0, 0, 0, 0, 0, 0, 0, 0, 0, 0, 0, 0, 0, 0, 0, 0, 0, 0, 0, 0, 0, 0, 0, 0, 0, 0, 0, 0, 0, 0, 0, 0, 0, 0, 0, 0, 0, 0, 0, 0, 0, 0, 0, 0, 0, 0, 0, 0, 0, 0, 0, 0, 0, 0, 0, 0, 0, 0, 0, 0, 0, 0, 0, 0, 0, 0, 0, 0, 0, 0, 0, 0, 0, 0, 0, 0, 0, 0, 0, 0, 0, 0, 0, 0, 0, 0, 0, 0, 0, 0, 0, 0, 0, 0, 0, 0, 0, 0, 0, 0, 0, 0, 0, 0, 0, 0, 0, 0, 0, 0, 0, 0, 0, 0, 0, 0, 0, 0, 0, 0, 0, 0, 0, 0, 0, 0, 0, 0, 0, 0, 0, 0, 0, 0, 0, 0, 0, 0, 0, 0, 0, 0, 0, 0, 0, 0, 0, 0, 0, 0, 0, 0, 0, 0, 0, 0, 0, 0, 0, 0, 0, 0, 0, 0, 0, 0, 0, 0, 0, 0, 0, 0, 0, 0, 0, 0, 0, 0, 0, 0, 0, 0, 0, 0, 0, 0, 0, 0, 0, 0, 0, 0, 0, 0, 0, 0, 0, 0, 0, 0, 0, 0, 0, 0, 0, 0, 0, 0, 0, 0, 0, 0, 0, 0, 0, 0, 0, 0, 0, 0, 0, 0, 0, 0, 0, 0, 0, 0, 0, 0, 0, 0, 0, 0, 0, 0, 0, 0, 0, 0, 0, 0, 0, 0, 0, 0, 0, 0, 0, 0, 0, 0, 0, 0, 0, 0, 0, 0, 0, 0, 0, 0, 0, 0, 0, 0, 0, 0, 0, 0, 0, 0, 0, 0, 0, 0, 0, 0, 0, 0, 0, 0, 0, 0, 1, 0, 0, 0, 0, 0, 0, 0, 0, 0, 0, 0, 0, 0, 0, 0, 0, 0, 0, 0, 0, 0, 0, 0, 0, 0, 0, 0, 0, 0, 0, 0, 0, 0, 0, 0, 0, 0, 0, 0, 0, 0, 0, 0, 0, 0, 0, 0, 0, 0, 0, 0, 0, 0, 0, 0, 0, 0, 0, 0, 0, 0, 0, 0, 0, 0, 0, 0, 0, 0, 0, 0, 0, 0, 0, 0, 0, 0, 0, 0, 0, 0, 0, 0, 0, 0, 0, 0, 0, 0, 0, 0, 0, 0, 0, 0, 0, 0, 0, 0, 0, 0, 0, 0, 0, 0, 0, 0, 0, 0, 0, 0, 0, 0, 0, 0, 0, 0, 0, 0, 0, 0, 0, 0, 0, 0, 0, 0, 0, 0, 0, 0, 0, 0, 0, 0, 0, 0, 0, 0, 0, 0, 0, 0, 0, 0, 0, 0, 0, 0, 0, 0, 0, 0, 0, 0, 0, 0, 0, 0, 0, 0, 0, 0, 0, 0, 0, 0, 0, 0, 0, 0, 0, 0, 0, 0, 0, 0, 0, 0, 0, 0, 0, 0, 0, 0, 0, 0, 0, 0, 0, 0, 0, 0, 0, 0, 0, 0, 0, 0, 0, 0, 0, 0, 0, 0, 0, 0, 0, 0, 0, 0, 0, 0, 0, 0, 0, 0, 0, 0, 0, 0, 0, 0, 0, 0, 0, 0, 0, 0, 0, 0, 0, 0, 0, 0, 0, 0, 0, 0, 0, 0, 0, 0, 0, 0, 0, 0, 0, 0, 0, 0, 0, 0, 0, 0, 0, 0, 0, 0, 0, 0, 0, 0, 0, 0, 0, 0, 0, 0, 0, 0, 0, 0, 0, 0, 0, 0, 0, 0, 0, 0, 0, 0, 0, 0, 0, 0, 0, 0, 0, 0, 0, 0, 0, 0, 0, 0, 0, 0, 0, 0, 0, 0, 0, 0, 0, 0, 0, 0, 0, 0, 0, 0, 0, 0, 0, 0, 0, 0, 0, 0, 0, 0, 0, 0, 0, 0, 0, 0, 0, 0, 0, 0, 0, 0, 0, 0, 0, 0, 0, 0, 0, 0, 0, 0, 0, 0, 0, 0, 0, 0, 0, 0, 0, 0, 0, 0, 0, 0, 0, 0, 0, 0, 0, 0, 0, 0, 0, 0, 0, 0, 0, 0, 0, 0, 0, 0, 0, 0, 0, 0, 0, 0, 0, 0, 0, 0, 0, 0, 0, 0, 0, 0, 0, 0, 0, 0, 0, 0, 0, 0, 0, 0, 0, 0, 0, 0, 0, 0, 0, 0, 0, 0, 0, 0, 0, 0, 0, 0, 0, 0, 0, 0, 0, 0, 0, 0, 0, 0, 0, 0, 0, 0, 0, 0, 0, 0, 0, 0, 0, 0, 0, 0, 0, 0, 0, 0, 0, 0, 0, 0, 0, 0, 0, 0, 0, 0, 0, 0, 0, 0, 0, 0, 0, 0, 0, 0, 0, 0, 0, 0, 0, 0, 0, 0, 0, 0, 0, 0, 0, 0, 0, 0, 0, 0, 0, 0, 0, 0, 0, 0, 0, 0, 0, 0, 0, 0, 0, 0, 0, 0, 0, 0, 0, 0, 0, 0, 0, 0, 0, 0, 0, 1, 0, 0, 0, 0, 0, 0, 0, 0, 0, 0, 0, 0, 0, 0, 0, 0, 0, 0, 0, 0, 0, 0, 0, 0, 0, 0, 0, 0, 0, 0, 0, 0, 0, 0, 0, 2, 0, 0, 0, 0, 0, 0, 0, 0, 0, 0, 0, 0, 0, 0, 0, 0, 0, 0, 0, 0, 0, 0, 0, 0, 0, 0, 0, 0, 0, 0, 0, 0, 0, 0, 0, 0, 0, 0, 0, 0, 1, 0, 0, 0, 0, 0, 0, 0, 0, 0, 0, 0, 0, 0, 0, 0, 0, 0, 0, 0, 0, 0, 0, 0, 0, 0, 0, 0, 0, 0, 0, 0, 0, 0, 0, 0, 0, 0, 0, 0, 0, 0, 0, 0, 0, 0, 0, 0, 0, 0, 0, 0, 0, 0, 0, 0, 0, 0, 0, 0, 0, 0, 0, 0, 0, 0, 0, 0, 0, 0, 0, 0, 0, 0, 0, 0, 0, 0, 0, 0, 0, 0, 0, 0, 0, 0, 0, 0, 0, 0, 0, 0, 0, 0, 0, 0, 0, 0, 0, 0, 0, 0, 0, 0, 0, 0, 0, 0, 0, 0, 0, 0, 0, 0, 0, 0, 0, 0, 0, 0, 0, 0, 0, 0, 0, 0, 0, 0, 0, 0, 0, 0, 0, 0, 0, 0, 0, 0, 0, 0, 0, 0, 0, 0, 0, 0, 0, 0, 0, 0, 0, 0, 0, 0, 0, 0, 0, 0, 0, 0, 0, 0, 0, 0, 0, 0, 0, 0, 0, 0, 0, 0, 0, 0, 0, 0, 0, 0, 0, 0, 0, 0, 0, 0, 0, 0, 0, 0, 0, 0, 0, 0, 0, 0, 0, 0, 0, 0, 0, 0, 0, 0, 0, 0, 0, 0, 0, 0, 0, 0, 0, 0, 0, 0, 0, 0, 0, 0, 0, 0, 0, 0, 0, 0, 0, 0, 0, 0, 0, 0, 0, 0, 0, 0, 0, 0, 0, 0, 0, 0, 0, 0, 0, 0, 0, 0, 0, 0, 0, 0, 0, 0, 0, 0, 0, 0, 0, 0, 0, 0, 0, 0, 0, 0, 0, 0, 0, 0, 0, 0, 0, 0, 0, 0, 0, 0, 0, 0, 0, 0, 0, 0, 0, 0, 0, 0, 0, 0, 0, 0, 0, 0, 0, 0, 0, 0, 0, 0, 0, 0, 0, 0, 0, 0, 0, 0, 0, 0, 0, 0, 0, 0, 0, 0, 0, 0, 0, 0, 0, 0, 0, 0, 0, 0, 0, 0, 0, 0, 0, 0, 0, 0, 0, 0, 0, 0, 0, 0, 0, 0, 0, 0, 0, 0, 0, 0, 0, 0, 0, 0, 0, 0, 0, 0, 0, 0, 0, 0, 0, 0, 0, 0, 0, 0, 0, 0, 0, 0, 0, 0, 0, 0, 0, 0, 0, 0, 0, 0, 0, 0, 0, 0, 0, 0, 0, 0, 0, 0, 0, 0, 0, 0, 0, 0, 0, 0, 0, 0, 0, 0, 0, 0, 0, 0, 0, 0, 0, 0, 0, 0, 0, 0, 0, 0, 0, 0, 0, 0, 0, 0, 0, 0, 0, 0, 0, 0, 0, 0, 0, 0, 0, 0, 0, 0, 0, 0, 0, 0, 0, 0, 0, 0, 0, 0, 0, 0, 0, 0, 0, 0, 0, 0, 0, 0, 0, 0, 0, 0, 0, 0, 0, 0, 0, 0, 0, 0, 0, 0, 0, 0, 0, 0, 0, 0, 0, 0, 0, 0, 0, 0, 0, 0, 0, 0, 0, 0, 0, 0, 0, 0, 0, 0, 0, 0, 0, 0, 0, 0, 1, 0, 0, 0, 0, 0, 0, 0, 0, 0, 0, 0, 0, 0, 0, 0, 0, 0, 0, 0, 0, 0, 0, 0, 0, 0, 0, 0, 0, 0, 0, 0, 0, 0, 0, 0, 0, 0, 0, 0, 0, 0, 0, 0, 0, 0, 0, 0, 0, 0, 0, 0, 0, 0, 0, 0, 0, 0, 0, 0, 0, 0, 0, 0, 0, 0, 0, 0, 0, 0, 0, 0, 0, 0, 0, 0, 0, 0, 0, 0, 0, 0, 0, 0, 0, 0, 0, 0, 0, 0, 0, 0, 0, 0, 0, 0, 0, 0, 0, 0, 0, 0, 0, 0, 0, 0, 0, 0, 0, 0, 0, 2, 0, 0, 0, 0, 0, 0, 0, 0, 0, 0, 0, 0, 0, 0, 0, 0, 0, 0, 0, 0, 0, 0, 0, 0, 0, 0, 0, 0, 0, 0, 0, 0, 0, 0, 0, 0, 0, 0, 0, 0, 0, 0, 0, 0, 0, 0, 0, 0, 0, 0, 0, 0, 0, 0, 0, 0, 0, 0, 0, 0, 0, 0, 0, 0, 0, 0, 0, 0, 0, 0, 0, 0, 0, 0, 0, 0, 0, 0, 0, 0, 0, 0, 0, 0, 0, 0, 0, 0, 0, 0, 0, 0, 0, 0, 0, 0, 0, 0, 0, 0, 0, 0, 0, 0, 0, 0, 0, 0, 0, 0, 0, 0, 0, 0, 0, 0, 0, 0, 0, 0, 0, 0, 0, 0, 0, 0, 0, 0, 0, 0, 0, 0, 0, 0, 0, 0, 0, 0, 0, 0, 0, 0, 0, 0, 0, 0, 0, 0, 0, 0, 0, 0, 0, 0, 0, 0, 0, 0, 0, 0, 0, 0, 0, 0, 0, 0, 0, 0, 0, 0, 0, 0, 0, 0, 0, 0, 0, 0, 0, 0, 0, 0, 0, 0, 0, 0, 0, 0, 0, 0, 0, 0, 0, 0, 0, 0, 0, 0, 0, 0, 0, 0, 0, 0, 0, 0, 0, 0, 0, 0, 0, 0, 0, 0, 0, 0, 0, 0, 0, 0, 0, 0, 0, 0, 0, 0, 0, 0, 0, 0, 0, 0, 0, 0, 0, 0, 0, 0, 0, 0, 0, 0, 0, 0, 0, 0, 0, 0, 0, 0, 0, 0, 0, 0, 0, 0, 0, 0, 0, 0, 0, 0, 0, 0, 0, 0, 0, 0, 0, 0, 0, 0, 0, 0, 0, 0, 0, 0, 0, 0, 0, 0, 0, 0, 0, 0, 0, 0, 0, 0, 0, 0, 0, 0, 0, 0, 0, 0, 0, 0, 0, 0, 0, 0, 0, 0, 0, 0, 0, 0, 0, 0, 0, 0, 0, 0, 0, 0, 0, 0, 0, 0, 0, 0, 0, 0, 0, 0, 0, 0, 0, 0, 0, 0, 0, 0, 0, 0, 0, 0, 0, 0, 0, 0, 0, 0, 0, 0, 0, 0, 0, 0, 0, 0, 0, 0, 0, 0, 0, 0, 0, 0, 0, 0, 0, 0, 0, 0, 0, 0, 0, 0, 0, 0, 0, 0, 0, 0, 0, 0, 0, 0, 0, 0, 0, 0, 0, 0, 0, 0, 0, 0, 0, 0, 0, 0, 0, 0, 0, 0, 0, 0, 0, 0, 0, 0, 0, 0, 0, 0, 0, 0, 0, 0, 0, 0, 0, 0, 0, 0, 0, 0, 0, 0, 0, 0, 0, 0, 0, 0, 0, 0, 0, 0, 0, 0, 0, 0, 0, 0, 0, 0, 0, 0, 0, 0, 0, 0, 0, 0, 0, 0, 0, 0, 0, 0, 0, 0, 0, 0, 0, 0, 0, 0, 0, 0, 0, 0, 0, 0, 0, 0, 0, 0, 0, 0, 0, 0, 0, 0, 0, 0, 0, 0, 0, 0, 0, 0, 0, 0, 0, 0, 0, 0, 0, 0, 0, 0, 0, 0, 0, 0, 0, 0, 0, 0, 0, 0, 0, 0, 0, 0, 0, 0, 0, 0, 0, 0, 0, 0, 0, 0, 0, 0, 0, 0, 0, 0, 0, 0, 0, 0, 0, 0, 0, 0, 0, 0, 0, 0, 0, 0, 0, 0, 0, 0, 0, 0, 0, 0, 0, 0, 0, 0, 0, 0, 0, 0, 0, 0, 0, 0, 0, 0, 0, 0, 0, 0, 0, 0, 0, 0, 0, 0, 0, 0, 0, 0, 0, 0, 0, 0, 0, 0, 0, 0, 0, 0, 0, 0, 0, 0, 0, 0, 0, 0, 0, 0, 0, 0, 0, 0, 0, 0, 0, 0, 0, 0, 0, 0, 0, 0, 0, 0, 0, 0, 0, 0, 0, 0, 0, 0, 0, 0, 0, 0, 0, 0, 0, 0, 0, 0, 0, 0, 0, 0, 0, 0, 0, 0, 0, 0, 0, 0, 0, 0, 0, 0, 0, 0, 0, 0, 0, 0, 0, 0, 0, 0, 0, 0, 0, 0, 0, 0, 0, 0, 0, 0, 0, 0, 0, 0, 0, 0, 0, 0, 0, 0, 0, 0, 0, 0, 0, 0, 0, 0, 0, 0, 0, 0, 1, 0, 0, 0, 0, 0, 0, 0, 0, 0, 0, 0, 0, 0, 0, 0, 0, 0, 0, 0, 0, 0, 0, 0, 0, 0, 0, 0, 0, 0, 0, 0, 0, 0, 0, 0, 0, 0, 0, 0, 0, 0, 0, 0, 0, 0, 0, 0, 0, 0, 0, 0, 0, 0, 0, 0, 0, 0, 0, 0, 0, 0, 0, 0, 0, 0, 0, 0, 0, 0, 0, 0, 0, 0, 0, 0, 0, 0, 0, 0, 0, 0, 0, 0, 0, 0, 0, 0, 0, 0, 0, 0, 0, 0, 0, 0, 0, 0, 0, 0, 0, 0, 0, 0, 0, 0, 0, 0, 1, 0, 0, 0, 0, 0, 0, 0, 0, 0, 0, 0, 0, 0, 0, 0, 0, 0, 0, 0, 0, 0, 0, 0, 0, 0, 0, 0, 0, 0, 0, 0, 0, 0, 0, 0, 0, 0, 0, 0, 0, 0, 0, 0, 0, 0, 0, 0, 0, 0, 0, 0, 0, 0, 0, 0, 0, 0, 0, 0, 0, 0, 0, 0, 0, 0, 0, 0, 0, 0, 0, 0, 0, 0, 0, 0, 0, 0, 0, 0, 0, 0, 0, 0, 0, 0, 0, 0, 0, 0, 0, 0, 0, 0, 0, 0, 0, 0, 0, 0, 0, 0, 0, 0, 0, 0, 0, 0, 0, 0, 0, 0, 0, 0, 0, 0, 0, 0, 0, 0, 0, 0, 0, 0, 0, 0, 0, 0, 0, 0, 0, 0, 0, 0, 0, 0, 0, 0, 0, 0, 0, 0, 0, 0, 0, 0, 0, 0, 0, 0, 0, 0, 0, 0, 0, 0, 0, 0, 0, 0, 0, 0, 0, 0, 0, 0, 0, 0, 0, 0, 0, 0, 0, 0, 0, 0, 0, 0, 0, 0, 0, 0, 0, 0, 0, 0, 0, 0, 0, 0, 0, 0, 0, 0, 0, 0, 0, 0, 0, 0, 0, 0, 0, 0, 0, 0, 0, 0, 0, 0, 0, 0, 0, 0, 0, 0, 0, 0, 0, 0, 0, 0, 0, 0, 0, 0, 0, 0, 0, 0, 0, 0, 0, 0, 0, 0, 0, 0, 0, 0, 0, 0, 0, 0, 0, 0, 0, 0, 0, 0, 0, 0, 0, 0, 0, 0, 0, 0, 0, 0, 0, 0, 0, 0, 0, 0, 0, 0, 0, 0, 0, 0, 0, 0, 0, 0, 0, 0, 0, 0, 0, 0, 0, 0, 0, 0, 0, 0, 0, 0, 0, 0, 0, 0, 0, 0, 0, 0, 0, 0, 0, 0, 0, 0, 0, 0, 0, 0, 0, 0, 0, 0, 0, 0, 0, 0, 0, 0, 0, 0, 0, 0, 0, 0, 0, 0, 0, 0, 0, 0, 0, 0, 0, 0, 0, 0, 0, 0, 0, 0, 0, 0, 0, 0, 0, 0, 0, 0, 0, 0, 0, 0, 0, 0, 0, 0, 0, 0, 0, 0, 0, 0, 0, 0, 0, 0, 0, 0, 0, 0, 0, 0, 0, 0, 0, 0, 0, 0, 0, 0, 0, 0, 0, 0, 0, 0, 0, 0, 0, 0, 0, 0, 0, 0, 0, 0, 0, 0, 0, 0, 0, 0, 0, 0, 0, 0, 0, 0, 0, 0, 0, 0, 0, 0, 0, 0, 0, 0, 0, 0, 0, 0, 0, 0, 0, 0, 0, 0, 0, 0, 0, 0, 0, 0, 0, 0, 0, 0, 0, 0, 0, 0, 0, 0, 0, 0, 0, 0, 0, 0, 0, 0, 0, 0, 0, 0, 0, 0, 0, 0, 0, 0, 0, 0, 2, 0, 1, 0]\n"
     ]
    }
   ],
   "source": [
    "test_bow = bow_encoding(test_words, vocabulary)\n",
    "print(test_bow)"
   ]
  },
  {
   "cell_type": "code",
   "execution_count": 40,
   "metadata": {},
   "outputs": [
    {
     "data": {
      "text/plain": [
       "5000"
      ]
     },
     "execution_count": 40,
     "metadata": {},
     "output_type": "execute_result"
    }
   ],
   "source": [
    "len(test_bow)"
   ]
  },
  {
   "cell_type": "markdown",
   "metadata": {},
   "source": [
    "So now we know how to construct a bag of words encoding of a user provided review, how to we send it to our endpoint? First, we need to start the endpoint back up."
   ]
  },
  {
   "cell_type": "code",
   "execution_count": 42,
   "metadata": {},
   "outputs": [
    {
     "name": "stderr",
     "output_type": "stream",
     "text": [
      "WARNING:sagemaker:Using already existing model: xgboost-2020-01-01-11-11-04-008\n"
     ]
    },
    {
     "name": "stdout",
     "output_type": "stream",
     "text": [
      "-------------------------------------------------------------------------------------------------------!"
     ]
    }
   ],
   "source": [
    "xgb_predictor = xgb.deploy(initial_instance_count = 1, instance_type = 'ml.m4.xlarge')"
   ]
  },
  {
   "cell_type": "markdown",
   "metadata": {},
   "source": [
    "At this point we could just do the same thing that we did earlier when we tested our deployed model and send `test_bow` to our endpoint using the `xgb_predictor` object. However, when we eventually construct our Lambda function we won't have access to this object, so how do we call a SageMaker endpoint?\n",
    "\n",
    "It turns out that Python functions that are used in Lambda have access to another Amazon library called `boto3`. This library provides an API for working with Amazon services, including SageMaker. To start with, we need to get a handle to the SageMaker runtime."
   ]
  },
  {
   "cell_type": "code",
   "execution_count": 43,
   "metadata": {},
   "outputs": [],
   "source": [
    "import boto3\n",
    "\n",
    "runtime = boto3.Session().client('sagemaker-runtime')"
   ]
  },
  {
   "cell_type": "markdown",
   "metadata": {},
   "source": [
    "And now that we have access to the SageMaker runtime, we can ask it to make use of (invoke) an endpoint that has already been created. However, we need to provide SageMaker with the name of the deployed endpoint. To find this out we can print it out using the `xgb_predictor` object."
   ]
  },
  {
   "cell_type": "code",
   "execution_count": 44,
   "metadata": {},
   "outputs": [
    {
     "data": {
      "text/plain": [
       "'xgboost-2020-01-01-11-11-04-008'"
      ]
     },
     "execution_count": 44,
     "metadata": {},
     "output_type": "execute_result"
    }
   ],
   "source": [
    "xgb_predictor.endpoint"
   ]
  },
  {
   "cell_type": "markdown",
   "metadata": {},
   "source": [
    "Using the SageMaker runtime and the name of our endpoint, we can invoke the endpoint and send it the `test_bow` data."
   ]
  },
  {
   "cell_type": "code",
   "execution_count": 45,
   "metadata": {},
   "outputs": [
    {
     "ename": "ParamValidationError",
     "evalue": "Parameter validation failed:\nInvalid type for parameter Body, value: [0, 0, 0, 0, 0, 0, 0, 0, 0, 0, 0, 0, 0, 0, 0, 0, 0, 0, 0, 0, 0, 0, 0, 0, 0, 0, 0, 0, 0, 0, 0, 0, 0, 0, 0, 0, 0, 0, 0, 0, 0, 0, 0, 0, 0, 0, 0, 0, 0, 0, 0, 0, 0, 0, 0, 0, 0, 0, 0, 0, 0, 0, 0, 0, 0, 0, 0, 0, 0, 0, 0, 0, 0, 0, 0, 0, 0, 0, 0, 0, 0, 0, 0, 0, 0, 0, 0, 0, 0, 0, 0, 0, 0, 0, 0, 0, 0, 0, 0, 0, 0, 0, 0, 0, 0, 0, 0, 0, 0, 0, 0, 0, 0, 0, 0, 0, 0, 0, 0, 0, 0, 0, 0, 0, 0, 0, 0, 0, 0, 0, 0, 0, 0, 0, 0, 0, 0, 0, 0, 0, 0, 0, 0, 0, 0, 0, 0, 0, 0, 0, 0, 0, 0, 0, 0, 0, 0, 0, 0, 0, 0, 0, 0, 0, 0, 0, 0, 0, 0, 0, 0, 0, 0, 0, 0, 0, 0, 0, 0, 0, 0, 0, 0, 0, 0, 0, 0, 0, 0, 0, 0, 0, 0, 0, 0, 0, 0, 0, 0, 0, 0, 0, 0, 0, 0, 0, 0, 0, 0, 0, 0, 0, 0, 0, 0, 0, 0, 0, 0, 0, 0, 0, 0, 0, 0, 0, 1, 0, 0, 0, 0, 0, 0, 0, 0, 0, 0, 0, 0, 0, 0, 0, 0, 0, 0, 0, 0, 0, 0, 0, 0, 0, 0, 0, 0, 0, 1, 0, 0, 0, 0, 0, 0, 0, 0, 0, 0, 0, 0, 0, 0, 0, 0, 0, 0, 0, 0, 0, 0, 0, 0, 0, 0, 0, 0, 0, 0, 0, 0, 0, 0, 0, 0, 0, 0, 0, 0, 0, 0, 0, 0, 0, 0, 0, 0, 0, 0, 0, 0, 0, 0, 0, 0, 0, 0, 0, 0, 0, 0, 0, 0, 0, 0, 0, 0, 0, 0, 0, 0, 0, 0, 0, 0, 0, 0, 0, 0, 0, 0, 0, 0, 0, 0, 0, 0, 0, 0, 0, 0, 0, 0, 0, 0, 0, 0, 0, 0, 0, 0, 0, 0, 0, 0, 0, 0, 0, 0, 0, 0, 0, 0, 0, 0, 0, 0, 0, 0, 0, 0, 0, 0, 0, 0, 0, 0, 0, 0, 0, 0, 0, 0, 0, 0, 0, 0, 0, 0, 0, 0, 0, 0, 0, 0, 0, 0, 0, 0, 0, 0, 0, 0, 0, 0, 0, 0, 0, 0, 0, 0, 0, 0, 0, 0, 0, 0, 0, 0, 0, 0, 0, 0, 0, 0, 0, 0, 0, 0, 0, 0, 0, 0, 0, 0, 0, 0, 0, 0, 0, 0, 0, 0, 0, 0, 0, 0, 0, 0, 0, 0, 0, 0, 0, 0, 0, 0, 0, 0, 0, 0, 0, 0, 0, 0, 0, 0, 0, 0, 0, 0, 0, 0, 0, 0, 0, 0, 0, 0, 0, 0, 0, 0, 0, 0, 0, 0, 0, 0, 0, 0, 0, 0, 0, 0, 0, 0, 0, 0, 0, 0, 0, 0, 0, 0, 0, 0, 0, 0, 0, 0, 0, 0, 0, 0, 0, 0, 0, 0, 0, 0, 0, 0, 0, 0, 0, 0, 0, 0, 0, 0, 0, 0, 0, 0, 0, 0, 0, 0, 0, 0, 0, 0, 0, 0, 0, 0, 0, 0, 0, 0, 0, 0, 0, 0, 0, 0, 0, 0, 0, 0, 0, 0, 0, 0, 0, 0, 0, 0, 0, 0, 0, 0, 0, 0, 0, 0, 0, 0, 0, 0, 0, 0, 0, 0, 0, 0, 0, 0, 0, 0, 0, 0, 0, 0, 0, 0, 0, 0, 0, 0, 0, 0, 0, 0, 0, 0, 0, 0, 0, 0, 0, 0, 0, 0, 0, 0, 0, 0, 0, 0, 0, 0, 0, 0, 0, 0, 0, 1, 0, 0, 0, 0, 0, 0, 0, 0, 0, 0, 0, 0, 0, 0, 0, 0, 0, 0, 0, 0, 0, 0, 0, 0, 0, 0, 0, 0, 0, 0, 0, 0, 0, 0, 0, 0, 0, 0, 0, 0, 0, 0, 0, 0, 0, 0, 0, 0, 0, 0, 0, 0, 0, 0, 0, 0, 0, 0, 0, 0, 0, 0, 0, 0, 0, 0, 0, 0, 0, 0, 0, 0, 0, 0, 0, 0, 0, 0, 0, 0, 0, 0, 0, 0, 0, 0, 0, 0, 0, 0, 0, 0, 0, 0, 0, 0, 0, 0, 0, 0, 0, 0, 0, 0, 0, 0, 0, 0, 0, 0, 0, 0, 0, 0, 0, 0, 0, 0, 0, 0, 0, 0, 0, 0, 0, 0, 0, 0, 0, 0, 0, 0, 0, 0, 0, 0, 0, 0, 0, 0, 0, 0, 0, 0, 0, 0, 0, 0, 0, 0, 0, 0, 0, 0, 0, 0, 0, 0, 0, 0, 0, 0, 0, 0, 0, 0, 0, 0, 0, 0, 0, 0, 0, 0, 0, 0, 0, 0, 0, 0, 0, 0, 0, 0, 0, 0, 0, 0, 0, 0, 0, 0, 0, 0, 0, 0, 0, 0, 0, 0, 0, 0, 0, 0, 0, 0, 0, 0, 0, 0, 0, 0, 0, 0, 0, 0, 0, 0, 0, 0, 0, 0, 0, 0, 0, 0, 0, 0, 0, 0, 0, 0, 0, 0, 0, 0, 0, 0, 0, 0, 0, 0, 0, 0, 0, 0, 0, 0, 0, 0, 0, 0, 0, 1, 0, 0, 0, 0, 0, 0, 0, 0, 0, 0, 0, 0, 0, 0, 0, 0, 0, 0, 0, 0, 0, 0, 0, 0, 0, 0, 0, 0, 0, 0, 0, 0, 0, 0, 0, 0, 0, 0, 0, 0, 0, 0, 0, 0, 0, 0, 0, 0, 0, 0, 0, 0, 0, 0, 0, 0, 0, 0, 0, 0, 0, 0, 0, 0, 0, 0, 0, 0, 0, 0, 0, 0, 0, 0, 0, 0, 0, 0, 0, 0, 0, 0, 0, 0, 0, 0, 1, 0, 0, 0, 0, 0, 0, 0, 0, 0, 0, 0, 0, 0, 0, 0, 0, 0, 0, 0, 0, 0, 0, 0, 0, 0, 0, 0, 0, 0, 0, 0, 0, 0, 0, 0, 0, 0, 0, 0, 0, 0, 0, 0, 0, 0, 0, 0, 0, 0, 0, 0, 0, 0, 0, 0, 0, 0, 0, 0, 0, 0, 0, 0, 0, 0, 0, 0, 0, 0, 0, 0, 0, 0, 0, 0, 0, 0, 0, 0, 0, 0, 0, 0, 0, 0, 0, 0, 0, 0, 0, 0, 0, 0, 0, 0, 0, 0, 0, 0, 0, 0, 0, 0, 0, 0, 0, 0, 0, 0, 0, 0, 0, 0, 0, 0, 0, 0, 0, 0, 0, 0, 0, 0, 0, 0, 0, 0, 0, 0, 0, 0, 0, 0, 0, 0, 0, 0, 0, 0, 0, 0, 0, 0, 0, 0, 0, 0, 0, 0, 0, 0, 0, 0, 0, 0, 0, 0, 0, 0, 0, 0, 0, 0, 0, 0, 0, 0, 0, 0, 0, 0, 0, 0, 0, 0, 0, 0, 0, 0, 0, 0, 0, 0, 0, 0, 0, 0, 0, 0, 0, 0, 0, 0, 0, 0, 0, 0, 0, 0, 0, 0, 0, 0, 0, 0, 0, 0, 0, 0, 0, 0, 0, 0, 0, 0, 0, 0, 0, 0, 0, 0, 0, 0, 0, 0, 0, 0, 0, 0, 0, 0, 0, 0, 0, 0, 0, 0, 0, 0, 0, 0, 0, 0, 0, 0, 0, 0, 0, 0, 0, 0, 0, 1, 0, 0, 0, 0, 0, 0, 0, 0, 0, 0, 0, 0, 0, 0, 0, 0, 0, 0, 0, 0, 0, 0, 0, 0, 0, 0, 0, 0, 0, 0, 0, 0, 0, 0, 0, 0, 0, 0, 0, 0, 0, 0, 0, 0, 0, 0, 0, 0, 0, 0, 0, 0, 0, 0, 0, 1, 0, 0, 0, 0, 0, 0, 0, 0, 0, 0, 0, 0, 0, 0, 0, 0, 0, 0, 0, 0, 0, 0, 0, 0, 0, 0, 0, 0, 0, 0, 0, 0, 0, 0, 0, 0, 0, 0, 0, 0, 0, 0, 0, 0, 0, 0, 0, 0, 0, 0, 0, 0, 0, 0, 0, 0, 0, 0, 0, 0, 0, 0, 0, 0, 0, 0, 0, 0, 0, 0, 0, 0, 0, 0, 0, 0, 0, 0, 0, 0, 0, 0, 0, 0, 0, 0, 0, 0, 0, 0, 0, 0, 0, 0, 0, 0, 0, 0, 0, 0, 0, 0, 0, 0, 0, 0, 0, 0, 0, 0, 0, 0, 0, 0, 0, 0, 0, 0, 0, 0, 0, 0, 0, 0, 0, 0, 0, 0, 0, 0, 0, 0, 0, 0, 0, 0, 0, 0, 0, 0, 0, 0, 0, 0, 0, 0, 0, 0, 0, 0, 0, 0, 0, 0, 0, 0, 0, 0, 0, 0, 0, 0, 0, 0, 0, 0, 0, 0, 0, 0, 0, 0, 0, 0, 0, 0, 0, 0, 0, 0, 0, 0, 0, 0, 0, 0, 0, 0, 0, 0, 0, 0, 0, 0, 0, 0, 0, 0, 0, 0, 0, 0, 0, 0, 0, 0, 0, 0, 0, 0, 0, 0, 0, 0, 0, 0, 0, 0, 0, 0, 0, 0, 0, 0, 0, 0, 0, 0, 0, 0, 0, 0, 0, 0, 0, 0, 0, 0, 0, 0, 0, 0, 0, 0, 0, 0, 0, 0, 0, 0, 0, 0, 0, 0, 0, 0, 0, 0, 0, 0, 0, 0, 0, 0, 0, 0, 0, 0, 0, 0, 0, 0, 0, 0, 0, 0, 0, 0, 0, 0, 0, 0, 0, 0, 0, 0, 0, 0, 0, 0, 0, 0, 0, 0, 0, 0, 0, 0, 0, 0, 0, 0, 0, 0, 0, 0, 0, 0, 0, 0, 0, 0, 0, 0, 0, 0, 0, 0, 0, 0, 0, 0, 0, 0, 0, 0, 0, 0, 0, 0, 0, 0, 0, 0, 0, 0, 0, 0, 0, 0, 0, 0, 0, 0, 0, 0, 0, 0, 0, 0, 0, 0, 0, 0, 0, 0, 0, 0, 0, 0, 0, 0, 0, 0, 0, 0, 0, 0, 0, 0, 0, 0, 0, 0, 0, 0, 0, 0, 0, 0, 0, 0, 0, 0, 0, 0, 0, 0, 0, 0, 0, 0, 0, 0, 0, 0, 0, 0, 0, 0, 0, 0, 0, 0, 0, 0, 0, 0, 0, 0, 0, 0, 0, 0, 0, 0, 0, 0, 0, 0, 0, 0, 0, 0, 0, 0, 0, 0, 0, 0, 0, 0, 0, 0, 0, 0, 0, 0, 0, 0, 0, 0, 0, 0, 0, 0, 0, 0, 0, 0, 0, 0, 0, 0, 0, 0, 0, 0, 0, 0, 0, 0, 0, 0, 0, 0, 0, 0, 0, 0, 0, 0, 0, 0, 0, 0, 0, 0, 0, 0, 0, 0, 0, 0, 0, 0, 0, 0, 0, 0, 0, 0, 0, 0, 0, 0, 0, 0, 0, 0, 0, 0, 0, 0, 0, 0, 0, 0, 0, 0, 0, 0, 0, 0, 0, 0, 0, 0, 0, 0, 0, 0, 0, 0, 0, 0, 0, 0, 0, 0, 0, 0, 0, 0, 0, 0, 0, 0, 0, 0, 0, 0, 0, 0, 0, 0, 0, 0, 0, 0, 0, 0, 0, 0, 0, 0, 0, 0, 0, 0, 0, 0, 0, 0, 0, 0, 0, 0, 0, 0, 0, 0, 0, 0, 0, 0, 0, 0, 0, 0, 0, 0, 0, 0, 0, 0, 0, 0, 0, 0, 0, 0, 0, 0, 0, 0, 0, 0, 0, 0, 0, 0, 0, 0, 0, 0, 0, 0, 0, 0, 0, 0, 0, 0, 0, 0, 0, 0, 0, 0, 0, 0, 0, 0, 0, 0, 0, 0, 0, 0, 0, 0, 0, 0, 0, 0, 0, 0, 0, 0, 0, 0, 0, 0, 0, 0, 0, 0, 0, 0, 0, 0, 0, 0, 0, 0, 0, 0, 0, 0, 0, 0, 0, 0, 0, 0, 0, 0, 0, 0, 0, 0, 0, 0, 0, 0, 0, 0, 0, 0, 0, 1, 0, 0, 0, 0, 0, 0, 0, 0, 0, 0, 0, 0, 0, 0, 0, 0, 0, 0, 0, 0, 0, 0, 0, 0, 0, 0, 0, 0, 0, 0, 0, 0, 0, 0, 0, 0, 0, 0, 0, 0, 0, 0, 0, 0, 0, 0, 0, 0, 0, 0, 0, 0, 0, 0, 0, 0, 0, 0, 0, 0, 0, 0, 0, 0, 0, 0, 0, 0, 0, 0, 0, 0, 0, 0, 1, 0, 0, 0, 0, 0, 0, 0, 0, 0, 0, 0, 0, 0, 0, 0, 0, 0, 0, 0, 0, 1, 0, 0, 1, 0, 0, 0, 0, 0, 0, 0, 0, 0, 0, 0, 0, 0, 0, 0, 0, 0, 0, 0, 0, 0, 0, 0, 0, 0, 0, 0, 0, 0, 0, 0, 0, 0, 0, 0, 0, 0, 0, 0, 0, 0, 0, 0, 0, 0, 0, 0, 0, 0, 0, 0, 0, 0, 0, 0, 0, 0, 0, 0, 0, 0, 0, 0, 0, 0, 0, 0, 0, 0, 0, 0, 0, 0, 0, 0, 0, 0, 0, 0, 0, 0, 0, 0, 0, 0, 0, 0, 0, 0, 0, 0, 0, 0, 0, 0, 0, 0, 0, 0, 0, 0, 0, 0, 0, 0, 0, 0, 0, 0, 0, 0, 0, 0, 0, 0, 0, 0, 0, 0, 0, 0, 0, 0, 0, 0, 0, 0, 0, 0, 0, 0, 0, 0, 0, 0, 0, 0, 0, 0, 0, 0, 0, 0, 0, 0, 0, 0, 0, 0, 0, 0, 0, 0, 0, 0, 0, 0, 0, 0, 0, 0, 0, 0, 0, 0, 0, 0, 0, 0, 0, 0, 0, 0, 0, 0, 0, 0, 0, 0, 0, 0, 0, 0, 0, 0, 0, 0, 0, 0, 0, 0, 0, 0, 0, 0, 0, 0, 0, 0, 0, 0, 0, 0, 0, 0, 0, 0, 0, 0, 0, 0, 0, 0, 0, 0, 0, 0, 0, 0, 0, 0, 0, 0, 0, 0, 0, 0, 0, 0, 0, 0, 0, 0, 0, 0, 0, 0, 0, 0, 0, 0, 0, 0, 0, 0, 0, 0, 0, 0, 0, 0, 0, 0, 0, 0, 0, 0, 0, 0, 0, 0, 0, 0, 0, 0, 0, 0, 0, 0, 0, 0, 0, 0, 0, 0, 0, 0, 0, 0, 0, 0, 0, 0, 0, 0, 0, 0, 0, 0, 0, 0, 0, 0, 0, 0, 0, 0, 0, 0, 0, 0, 0, 0, 0, 0, 0, 0, 0, 0, 0, 0, 0, 0, 0, 0, 0, 0, 0, 0, 0, 0, 0, 0, 0, 0, 0, 0, 0, 0, 0, 0, 0, 0, 0, 0, 0, 0, 0, 0, 0, 0, 0, 0, 0, 0, 0, 0, 0, 0, 0, 0, 0, 0, 0, 0, 0, 0, 0, 0, 0, 0, 0, 0, 0, 0, 0, 0, 0, 0, 0, 0, 0, 0, 0, 0, 0, 0, 0, 0, 0, 0, 0, 0, 0, 0, 0, 0, 0, 0, 0, 0, 0, 0, 0, 0, 0, 0, 0, 0, 0, 0, 0, 0, 0, 0, 0, 0, 0, 0, 0, 0, 0, 0, 0, 0, 0, 0, 0, 0, 0, 0, 0, 0, 0, 0, 0, 0, 0, 0, 0, 0, 0, 0, 0, 0, 0, 0, 0, 0, 0, 0, 0, 0, 0, 0, 0, 0, 0, 0, 0, 0, 0, 0, 0, 0, 0, 0, 0, 0, 0, 0, 0, 0, 0, 0, 0, 1, 0, 0, 0, 0, 0, 0, 0, 0, 0, 0, 0, 0, 0, 0, 0, 0, 0, 0, 0, 0, 0, 0, 0, 0, 0, 0, 0, 0, 0, 0, 0, 0, 0, 0, 0, 0, 0, 0, 0, 0, 0, 0, 0, 0, 0, 0, 0, 0, 0, 0, 0, 0, 0, 0, 0, 0, 0, 0, 0, 0, 0, 0, 0, 0, 0, 0, 0, 0, 0, 0, 0, 0, 0, 0, 0, 0, 0, 0, 0, 0, 0, 0, 0, 0, 0, 0, 0, 0, 0, 0, 0, 0, 0, 0, 0, 0, 0, 0, 0, 0, 0, 0, 0, 0, 0, 0, 0, 0, 0, 0, 0, 0, 0, 0, 0, 0, 0, 0, 0, 0, 0, 0, 0, 0, 0, 0, 0, 0, 0, 0, 0, 0, 0, 0, 0, 0, 0, 0, 0, 0, 0, 0, 0, 0, 0, 0, 0, 0, 0, 0, 0, 0, 0, 0, 0, 0, 0, 0, 0, 0, 0, 0, 0, 0, 0, 0, 0, 0, 0, 0, 0, 0, 0, 0, 0, 0, 0, 0, 0, 0, 0, 0, 0, 0, 0, 0, 0, 0, 0, 0, 0, 0, 0, 0, 0, 0, 0, 0, 0, 0, 0, 0, 0, 0, 0, 0, 0, 0, 0, 0, 0, 0, 0, 0, 0, 0, 0, 0, 0, 0, 0, 0, 0, 0, 0, 0, 0, 0, 0, 0, 0, 0, 0, 0, 0, 0, 0, 0, 0, 0, 0, 0, 0, 0, 0, 0, 0, 0, 0, 0, 0, 0, 0, 0, 0, 0, 0, 0, 0, 0, 0, 0, 0, 0, 0, 0, 0, 0, 0, 0, 0, 0, 0, 0, 0, 0, 0, 0, 0, 0, 0, 0, 0, 0, 0, 0, 0, 0, 0, 0, 0, 0, 0, 0, 0, 0, 0, 0, 0, 0, 0, 0, 0, 0, 0, 0, 0, 0, 0, 0, 0, 0, 0, 0, 0, 0, 0, 0, 0, 0, 0, 0, 0, 0, 0, 0, 0, 0, 0, 0, 0, 0, 0, 0, 0, 0, 0, 0, 0, 0, 0, 0, 0, 0, 0, 0, 0, 0, 0, 0, 0, 0, 0, 0, 0, 0, 0, 0, 0, 0, 0, 0, 0, 0, 0, 0, 0, 0, 0, 0, 0, 0, 0, 0, 0, 0, 0, 0, 0, 0, 0, 0, 0, 0, 0, 0, 0, 0, 0, 0, 0, 0, 0, 0, 0, 0, 0, 0, 0, 0, 0, 0, 0, 0, 0, 0, 0, 0, 0, 0, 0, 0, 0, 0, 0, 0, 0, 0, 0, 0, 0, 0, 0, 0, 0, 0, 0, 0, 0, 0, 0, 0, 0, 0, 0, 0, 0, 0, 0, 0, 0, 0, 0, 0, 0, 0, 0, 0, 0, 0, 0, 0, 0, 0, 0, 0, 0, 0, 0, 0, 0, 0, 0, 0, 0, 0, 0, 0, 0, 0, 0, 0, 0, 0, 0, 0, 0, 0, 0, 0, 0, 0, 0, 0, 0, 0, 0, 0, 0, 0, 0, 0, 0, 0, 0, 0, 0, 0, 0, 0, 0, 0, 0, 0, 0, 0, 0, 0, 0, 0, 0, 0, 1, 0, 0, 0, 0, 0, 0, 0, 0, 0, 0, 0, 0, 0, 0, 0, 0, 0, 0, 0, 0, 0, 0, 0, 0, 0, 0, 0, 0, 0, 0, 0, 0, 0, 0, 0, 2, 0, 0, 0, 0, 0, 0, 0, 0, 0, 0, 0, 0, 0, 0, 0, 0, 0, 0, 0, 0, 0, 0, 0, 0, 0, 0, 0, 0, 0, 0, 0, 0, 0, 0, 0, 0, 0, 0, 0, 0, 1, 0, 0, 0, 0, 0, 0, 0, 0, 0, 0, 0, 0, 0, 0, 0, 0, 0, 0, 0, 0, 0, 0, 0, 0, 0, 0, 0, 0, 0, 0, 0, 0, 0, 0, 0, 0, 0, 0, 0, 0, 0, 0, 0, 0, 0, 0, 0, 0, 0, 0, 0, 0, 0, 0, 0, 0, 0, 0, 0, 0, 0, 0, 0, 0, 0, 0, 0, 0, 0, 0, 0, 0, 0, 0, 0, 0, 0, 0, 0, 0, 0, 0, 0, 0, 0, 0, 0, 0, 0, 0, 0, 0, 0, 0, 0, 0, 0, 0, 0, 0, 0, 0, 0, 0, 0, 0, 0, 0, 0, 0, 0, 0, 0, 0, 0, 0, 0, 0, 0, 0, 0, 0, 0, 0, 0, 0, 0, 0, 0, 0, 0, 0, 0, 0, 0, 0, 0, 0, 0, 0, 0, 0, 0, 0, 0, 0, 0, 0, 0, 0, 0, 0, 0, 0, 0, 0, 0, 0, 0, 0, 0, 0, 0, 0, 0, 0, 0, 0, 0, 0, 0, 0, 0, 0, 0, 0, 0, 0, 0, 0, 0, 0, 0, 0, 0, 0, 0, 0, 0, 0, 0, 0, 0, 0, 0, 0, 0, 0, 0, 0, 0, 0, 0, 0, 0, 0, 0, 0, 0, 0, 0, 0, 0, 0, 0, 0, 0, 0, 0, 0, 0, 0, 0, 0, 0, 0, 0, 0, 0, 0, 0, 0, 0, 0, 0, 0, 0, 0, 0, 0, 0, 0, 0, 0, 0, 0, 0, 0, 0, 0, 0, 0, 0, 0, 0, 0, 0, 0, 0, 0, 0, 0, 0, 0, 0, 0, 0, 0, 0, 0, 0, 0, 0, 0, 0, 0, 0, 0, 0, 0, 0, 0, 0, 0, 0, 0, 0, 0, 0, 0, 0, 0, 0, 0, 0, 0, 0, 0, 0, 0, 0, 0, 0, 0, 0, 0, 0, 0, 0, 0, 0, 0, 0, 0, 0, 0, 0, 0, 0, 0, 0, 0, 0, 0, 0, 0, 0, 0, 0, 0, 0, 0, 0, 0, 0, 0, 0, 0, 0, 0, 0, 0, 0, 0, 0, 0, 0, 0, 0, 0, 0, 0, 0, 0, 0, 0, 0, 0, 0, 0, 0, 0, 0, 0, 0, 0, 0, 0, 0, 0, 0, 0, 0, 0, 0, 0, 0, 0, 0, 0, 0, 0, 0, 0, 0, 0, 0, 0, 0, 0, 0, 0, 0, 0, 0, 0, 0, 0, 0, 0, 0, 0, 0, 0, 0, 0, 0, 0, 0, 0, 0, 0, 0, 0, 0, 0, 0, 0, 0, 0, 0, 0, 0, 0, 0, 0, 0, 0, 0, 0, 0, 0, 0, 0, 0, 0, 0, 0, 0, 0, 0, 0, 0, 0, 0, 0, 0, 0, 0, 0, 0, 0, 0, 0, 0, 0, 0, 0, 0, 0, 0, 0, 0, 0, 0, 0, 0, 0, 0, 0, 0, 0, 0, 0, 0, 0, 0, 0, 0, 0, 0, 0, 0, 0, 0, 0, 0, 0, 0, 0, 0, 0, 0, 0, 0, 0, 0, 1, 0, 0, 0, 0, 0, 0, 0, 0, 0, 0, 0, 0, 0, 0, 0, 0, 0, 0, 0, 0, 0, 0, 0, 0, 0, 0, 0, 0, 0, 0, 0, 0, 0, 0, 0, 0, 0, 0, 0, 0, 0, 0, 0, 0, 0, 0, 0, 0, 0, 0, 0, 0, 0, 0, 0, 0, 0, 0, 0, 0, 0, 0, 0, 0, 0, 0, 0, 0, 0, 0, 0, 0, 0, 0, 0, 0, 0, 0, 0, 0, 0, 0, 0, 0, 0, 0, 0, 0, 0, 0, 0, 0, 0, 0, 0, 0, 0, 0, 0, 0, 0, 0, 0, 0, 0, 0, 0, 0, 0, 0, 2, 0, 0, 0, 0, 0, 0, 0, 0, 0, 0, 0, 0, 0, 0, 0, 0, 0, 0, 0, 0, 0, 0, 0, 0, 0, 0, 0, 0, 0, 0, 0, 0, 0, 0, 0, 0, 0, 0, 0, 0, 0, 0, 0, 0, 0, 0, 0, 0, 0, 0, 0, 0, 0, 0, 0, 0, 0, 0, 0, 0, 0, 0, 0, 0, 0, 0, 0, 0, 0, 0, 0, 0, 0, 0, 0, 0, 0, 0, 0, 0, 0, 0, 0, 0, 0, 0, 0, 0, 0, 0, 0, 0, 0, 0, 0, 0, 0, 0, 0, 0, 0, 0, 0, 0, 0, 0, 0, 0, 0, 0, 0, 0, 0, 0, 0, 0, 0, 0, 0, 0, 0, 0, 0, 0, 0, 0, 0, 0, 0, 0, 0, 0, 0, 0, 0, 0, 0, 0, 0, 0, 0, 0, 0, 0, 0, 0, 0, 0, 0, 0, 0, 0, 0, 0, 0, 0, 0, 0, 0, 0, 0, 0, 0, 0, 0, 0, 0, 0, 0, 0, 0, 0, 0, 0, 0, 0, 0, 0, 0, 0, 0, 0, 0, 0, 0, 0, 0, 0, 0, 0, 0, 0, 0, 0, 0, 0, 0, 0, 0, 0, 0, 0, 0, 0, 0, 0, 0, 0, 0, 0, 0, 0, 0, 0, 0, 0, 0, 0, 0, 0, 0, 0, 0, 0, 0, 0, 0, 0, 0, 0, 0, 0, 0, 0, 0, 0, 0, 0, 0, 0, 0, 0, 0, 0, 0, 0, 0, 0, 0, 0, 0, 0, 0, 0, 0, 0, 0, 0, 0, 0, 0, 0, 0, 0, 0, 0, 0, 0, 0, 0, 0, 0, 0, 0, 0, 0, 0, 0, 0, 0, 0, 0, 0, 0, 0, 0, 0, 0, 0, 0, 0, 0, 0, 0, 0, 0, 0, 0, 0, 0, 0, 0, 0, 0, 0, 0, 0, 0, 0, 0, 0, 0, 0, 0, 0, 0, 0, 0, 0, 0, 0, 0, 0, 0, 0, 0, 0, 0, 0, 0, 0, 0, 0, 0, 0, 0, 0, 0, 0, 0, 0, 0, 0, 0, 0, 0, 0, 0, 0, 0, 0, 0, 0, 0, 0, 0, 0, 0, 0, 0, 0, 0, 0, 0, 0, 0, 0, 0, 0, 0, 0, 0, 0, 0, 0, 0, 0, 0, 0, 0, 0, 0, 0, 0, 0, 0, 0, 0, 0, 0, 0, 0, 0, 0, 0, 0, 0, 0, 0, 0, 0, 0, 0, 0, 0, 0, 0, 0, 0, 0, 0, 0, 0, 0, 0, 0, 0, 0, 0, 0, 0, 0, 0, 0, 0, 0, 0, 0, 0, 0, 0, 0, 0, 0, 0, 0, 0, 0, 0, 0, 0, 0, 0, 0, 0, 0, 0, 0, 0, 0, 0, 0, 0, 0, 0, 0, 0, 0, 0, 0, 0, 0, 0, 0, 0, 0, 0, 0, 0, 0, 0, 0, 0, 0, 0, 0, 0, 0, 0, 0, 0, 0, 0, 0, 0, 0, 0, 0, 0, 0, 0, 0, 0, 0, 0, 0, 0, 0, 0, 0, 0, 0, 0, 0, 0, 0, 0, 0, 0, 0, 0, 0, 0, 0, 0, 0, 0, 0, 0, 0, 0, 0, 0, 0, 0, 0, 0, 0, 0, 0, 0, 0, 0, 0, 0, 0, 0, 0, 0, 0, 0, 0, 0, 0, 0, 0, 0, 0, 0, 0, 0, 0, 0, 0, 0, 0, 0, 0, 0, 0, 0, 0, 0, 0, 0, 0, 0, 0, 0, 0, 0, 0, 0, 0, 0, 0, 0, 0, 0, 0, 0, 0, 0, 0, 0, 0, 0, 0, 0, 0, 0, 0, 0, 0, 0, 0, 0, 0, 0, 0, 0, 0, 0, 0, 0, 0, 0, 0, 0, 0, 0, 0, 0, 0, 0, 0, 0, 0, 0, 0, 0, 0, 0, 0, 0, 0, 0, 0, 0, 0, 0, 0, 0, 0, 0, 0, 0, 0, 0, 0, 0, 0, 0, 0, 0, 0, 0, 0, 0, 0, 0, 0, 0, 0, 0, 0, 0, 0, 0, 0, 0, 0, 0, 0, 0, 0, 0, 0, 0, 0, 0, 0, 0, 0, 0, 0, 0, 0, 0, 0, 0, 0, 0, 0, 0, 0, 0, 0, 0, 0, 1, 0, 0, 0, 0, 0, 0, 0, 0, 0, 0, 0, 0, 0, 0, 0, 0, 0, 0, 0, 0, 0, 0, 0, 0, 0, 0, 0, 0, 0, 0, 0, 0, 0, 0, 0, 0, 0, 0, 0, 0, 0, 0, 0, 0, 0, 0, 0, 0, 0, 0, 0, 0, 0, 0, 0, 0, 0, 0, 0, 0, 0, 0, 0, 0, 0, 0, 0, 0, 0, 0, 0, 0, 0, 0, 0, 0, 0, 0, 0, 0, 0, 0, 0, 0, 0, 0, 0, 0, 0, 0, 0, 0, 0, 0, 0, 0, 0, 0, 0, 0, 0, 0, 0, 0, 0, 0, 0, 1, 0, 0, 0, 0, 0, 0, 0, 0, 0, 0, 0, 0, 0, 0, 0, 0, 0, 0, 0, 0, 0, 0, 0, 0, 0, 0, 0, 0, 0, 0, 0, 0, 0, 0, 0, 0, 0, 0, 0, 0, 0, 0, 0, 0, 0, 0, 0, 0, 0, 0, 0, 0, 0, 0, 0, 0, 0, 0, 0, 0, 0, 0, 0, 0, 0, 0, 0, 0, 0, 0, 0, 0, 0, 0, 0, 0, 0, 0, 0, 0, 0, 0, 0, 0, 0, 0, 0, 0, 0, 0, 0, 0, 0, 0, 0, 0, 0, 0, 0, 0, 0, 0, 0, 0, 0, 0, 0, 0, 0, 0, 0, 0, 0, 0, 0, 0, 0, 0, 0, 0, 0, 0, 0, 0, 0, 0, 0, 0, 0, 0, 0, 0, 0, 0, 0, 0, 0, 0, 0, 0, 0, 0, 0, 0, 0, 0, 0, 0, 0, 0, 0, 0, 0, 0, 0, 0, 0, 0, 0, 0, 0, 0, 0, 0, 0, 0, 0, 0, 0, 0, 0, 0, 0, 0, 0, 0, 0, 0, 0, 0, 0, 0, 0, 0, 0, 0, 0, 0, 0, 0, 0, 0, 0, 0, 0, 0, 0, 0, 0, 0, 0, 0, 0, 0, 0, 0, 0, 0, 0, 0, 0, 0, 0, 0, 0, 0, 0, 0, 0, 0, 0, 0, 0, 0, 0, 0, 0, 0, 0, 0, 0, 0, 0, 0, 0, 0, 0, 0, 0, 0, 0, 0, 0, 0, 0, 0, 0, 0, 0, 0, 0, 0, 0, 0, 0, 0, 0, 0, 0, 0, 0, 0, 0, 0, 0, 0, 0, 0, 0, 0, 0, 0, 0, 0, 0, 0, 0, 0, 0, 0, 0, 0, 0, 0, 0, 0, 0, 0, 0, 0, 0, 0, 0, 0, 0, 0, 0, 0, 0, 0, 0, 0, 0, 0, 0, 0, 0, 0, 0, 0, 0, 0, 0, 0, 0, 0, 0, 0, 0, 0, 0, 0, 0, 0, 0, 0, 0, 0, 0, 0, 0, 0, 0, 0, 0, 0, 0, 0, 0, 0, 0, 0, 0, 0, 0, 0, 0, 0, 0, 0, 0, 0, 0, 0, 0, 0, 0, 0, 0, 0, 0, 0, 0, 0, 0, 0, 0, 0, 0, 0, 0, 0, 0, 0, 0, 0, 0, 0, 0, 0, 0, 0, 0, 0, 0, 0, 0, 0, 0, 0, 0, 0, 0, 0, 0, 0, 0, 0, 0, 0, 0, 0, 0, 0, 0, 0, 0, 0, 0, 0, 0, 0, 0, 0, 0, 0, 0, 0, 0, 0, 0, 0, 0, 0, 0, 0, 0, 0, 0, 0, 0, 0, 0, 0, 0, 0, 0, 0, 0, 0, 0, 0, 0, 0, 0, 0, 0, 0, 0, 0, 0, 0, 0, 0, 0, 0, 0, 0, 0, 0, 0, 0, 0, 2, 0, 1, 0], type: <class 'list'>, valid types: <class 'bytes'>, <class 'bytearray'>, file-like object",
     "output_type": "error",
     "traceback": [
      "\u001b[0;31m---------------------------------------------------------------------------\u001b[0m",
      "\u001b[0;31mParamValidationError\u001b[0m                      Traceback (most recent call last)",
      "\u001b[0;32m<ipython-input-45-c9ab54ae3a48>\u001b[0m in \u001b[0;36m<module>\u001b[0;34m()\u001b[0m\n\u001b[1;32m      1\u001b[0m response = runtime.invoke_endpoint(EndpointName = xgb_predictor.endpoint, # The name of the endpoint we created\n\u001b[1;32m      2\u001b[0m                                        \u001b[0mContentType\u001b[0m \u001b[0;34m=\u001b[0m \u001b[0;34m'text/csv'\u001b[0m\u001b[0;34m,\u001b[0m                     \u001b[0;31m# The data format that is expected\u001b[0m\u001b[0;34m\u001b[0m\u001b[0m\n\u001b[0;32m----> 3\u001b[0;31m                                        Body = test_bow)\n\u001b[0m",
      "\u001b[0;32m~/anaconda3/envs/python3/lib/python3.6/site-packages/botocore/client.py\u001b[0m in \u001b[0;36m_api_call\u001b[0;34m(self, *args, **kwargs)\u001b[0m\n\u001b[1;32m    355\u001b[0m                     \"%s() only accepts keyword arguments.\" % py_operation_name)\n\u001b[1;32m    356\u001b[0m             \u001b[0;31m# The \"self\" in this scope is referring to the BaseClient.\u001b[0m\u001b[0;34m\u001b[0m\u001b[0;34m\u001b[0m\u001b[0m\n\u001b[0;32m--> 357\u001b[0;31m             \u001b[0;32mreturn\u001b[0m \u001b[0mself\u001b[0m\u001b[0;34m.\u001b[0m\u001b[0m_make_api_call\u001b[0m\u001b[0;34m(\u001b[0m\u001b[0moperation_name\u001b[0m\u001b[0;34m,\u001b[0m \u001b[0mkwargs\u001b[0m\u001b[0;34m)\u001b[0m\u001b[0;34m\u001b[0m\u001b[0m\n\u001b[0m\u001b[1;32m    358\u001b[0m \u001b[0;34m\u001b[0m\u001b[0m\n\u001b[1;32m    359\u001b[0m         \u001b[0m_api_call\u001b[0m\u001b[0;34m.\u001b[0m\u001b[0m__name__\u001b[0m \u001b[0;34m=\u001b[0m \u001b[0mstr\u001b[0m\u001b[0;34m(\u001b[0m\u001b[0mpy_operation_name\u001b[0m\u001b[0;34m)\u001b[0m\u001b[0;34m\u001b[0m\u001b[0m\n",
      "\u001b[0;32m~/anaconda3/envs/python3/lib/python3.6/site-packages/botocore/client.py\u001b[0m in \u001b[0;36m_make_api_call\u001b[0;34m(self, operation_name, api_params)\u001b[0m\n\u001b[1;32m    632\u001b[0m         }\n\u001b[1;32m    633\u001b[0m         request_dict = self._convert_to_request_dict(\n\u001b[0;32m--> 634\u001b[0;31m             api_params, operation_model, context=request_context)\n\u001b[0m\u001b[1;32m    635\u001b[0m \u001b[0;34m\u001b[0m\u001b[0m\n\u001b[1;32m    636\u001b[0m         \u001b[0mservice_id\u001b[0m \u001b[0;34m=\u001b[0m \u001b[0mself\u001b[0m\u001b[0;34m.\u001b[0m\u001b[0m_service_model\u001b[0m\u001b[0;34m.\u001b[0m\u001b[0mservice_id\u001b[0m\u001b[0;34m.\u001b[0m\u001b[0mhyphenize\u001b[0m\u001b[0;34m(\u001b[0m\u001b[0;34m)\u001b[0m\u001b[0;34m\u001b[0m\u001b[0m\n",
      "\u001b[0;32m~/anaconda3/envs/python3/lib/python3.6/site-packages/botocore/client.py\u001b[0m in \u001b[0;36m_convert_to_request_dict\u001b[0;34m(self, api_params, operation_model, context)\u001b[0m\n\u001b[1;32m    680\u001b[0m             api_params, operation_model, context)\n\u001b[1;32m    681\u001b[0m         request_dict = self._serializer.serialize_to_request(\n\u001b[0;32m--> 682\u001b[0;31m             api_params, operation_model)\n\u001b[0m\u001b[1;32m    683\u001b[0m         \u001b[0;32mif\u001b[0m \u001b[0;32mnot\u001b[0m \u001b[0mself\u001b[0m\u001b[0;34m.\u001b[0m\u001b[0m_client_config\u001b[0m\u001b[0;34m.\u001b[0m\u001b[0minject_host_prefix\u001b[0m\u001b[0;34m:\u001b[0m\u001b[0;34m\u001b[0m\u001b[0m\n\u001b[1;32m    684\u001b[0m             \u001b[0mrequest_dict\u001b[0m\u001b[0;34m.\u001b[0m\u001b[0mpop\u001b[0m\u001b[0;34m(\u001b[0m\u001b[0;34m'host_prefix'\u001b[0m\u001b[0;34m,\u001b[0m \u001b[0;32mNone\u001b[0m\u001b[0;34m)\u001b[0m\u001b[0;34m\u001b[0m\u001b[0m\n",
      "\u001b[0;32m~/anaconda3/envs/python3/lib/python3.6/site-packages/botocore/validate.py\u001b[0m in \u001b[0;36mserialize_to_request\u001b[0;34m(self, parameters, operation_model)\u001b[0m\n\u001b[1;32m    295\u001b[0m                                                     operation_model.input_shape)\n\u001b[1;32m    296\u001b[0m             \u001b[0;32mif\u001b[0m \u001b[0mreport\u001b[0m\u001b[0;34m.\u001b[0m\u001b[0mhas_errors\u001b[0m\u001b[0;34m(\u001b[0m\u001b[0;34m)\u001b[0m\u001b[0;34m:\u001b[0m\u001b[0;34m\u001b[0m\u001b[0m\n\u001b[0;32m--> 297\u001b[0;31m                 \u001b[0;32mraise\u001b[0m \u001b[0mParamValidationError\u001b[0m\u001b[0;34m(\u001b[0m\u001b[0mreport\u001b[0m\u001b[0;34m=\u001b[0m\u001b[0mreport\u001b[0m\u001b[0;34m.\u001b[0m\u001b[0mgenerate_report\u001b[0m\u001b[0;34m(\u001b[0m\u001b[0;34m)\u001b[0m\u001b[0;34m)\u001b[0m\u001b[0;34m\u001b[0m\u001b[0m\n\u001b[0m\u001b[1;32m    298\u001b[0m         return self._serializer.serialize_to_request(parameters,\n\u001b[1;32m    299\u001b[0m                                                      operation_model)\n",
      "\u001b[0;31mParamValidationError\u001b[0m: Parameter validation failed:\nInvalid type for parameter Body, value: [0, 0, 0, 0, 0, 0, 0, 0, 0, 0, 0, 0, 0, 0, 0, 0, 0, 0, 0, 0, 0, 0, 0, 0, 0, 0, 0, 0, 0, 0, 0, 0, 0, 0, 0, 0, 0, 0, 0, 0, 0, 0, 0, 0, 0, 0, 0, 0, 0, 0, 0, 0, 0, 0, 0, 0, 0, 0, 0, 0, 0, 0, 0, 0, 0, 0, 0, 0, 0, 0, 0, 0, 0, 0, 0, 0, 0, 0, 0, 0, 0, 0, 0, 0, 0, 0, 0, 0, 0, 0, 0, 0, 0, 0, 0, 0, 0, 0, 0, 0, 0, 0, 0, 0, 0, 0, 0, 0, 0, 0, 0, 0, 0, 0, 0, 0, 0, 0, 0, 0, 0, 0, 0, 0, 0, 0, 0, 0, 0, 0, 0, 0, 0, 0, 0, 0, 0, 0, 0, 0, 0, 0, 0, 0, 0, 0, 0, 0, 0, 0, 0, 0, 0, 0, 0, 0, 0, 0, 0, 0, 0, 0, 0, 0, 0, 0, 0, 0, 0, 0, 0, 0, 0, 0, 0, 0, 0, 0, 0, 0, 0, 0, 0, 0, 0, 0, 0, 0, 0, 0, 0, 0, 0, 0, 0, 0, 0, 0, 0, 0, 0, 0, 0, 0, 0, 0, 0, 0, 0, 0, 0, 0, 0, 0, 0, 0, 0, 0, 0, 0, 0, 0, 0, 0, 0, 0, 1, 0, 0, 0, 0, 0, 0, 0, 0, 0, 0, 0, 0, 0, 0, 0, 0, 0, 0, 0, 0, 0, 0, 0, 0, 0, 0, 0, 0, 0, 1, 0, 0, 0, 0, 0, 0, 0, 0, 0, 0, 0, 0, 0, 0, 0, 0, 0, 0, 0, 0, 0, 0, 0, 0, 0, 0, 0, 0, 0, 0, 0, 0, 0, 0, 0, 0, 0, 0, 0, 0, 0, 0, 0, 0, 0, 0, 0, 0, 0, 0, 0, 0, 0, 0, 0, 0, 0, 0, 0, 0, 0, 0, 0, 0, 0, 0, 0, 0, 0, 0, 0, 0, 0, 0, 0, 0, 0, 0, 0, 0, 0, 0, 0, 0, 0, 0, 0, 0, 0, 0, 0, 0, 0, 0, 0, 0, 0, 0, 0, 0, 0, 0, 0, 0, 0, 0, 0, 0, 0, 0, 0, 0, 0, 0, 0, 0, 0, 0, 0, 0, 0, 0, 0, 0, 0, 0, 0, 0, 0, 0, 0, 0, 0, 0, 0, 0, 0, 0, 0, 0, 0, 0, 0, 0, 0, 0, 0, 0, 0, 0, 0, 0, 0, 0, 0, 0, 0, 0, 0, 0, 0, 0, 0, 0, 0, 0, 0, 0, 0, 0, 0, 0, 0, 0, 0, 0, 0, 0, 0, 0, 0, 0, 0, 0, 0, 0, 0, 0, 0, 0, 0, 0, 0, 0, 0, 0, 0, 0, 0, 0, 0, 0, 0, 0, 0, 0, 0, 0, 0, 0, 0, 0, 0, 0, 0, 0, 0, 0, 0, 0, 0, 0, 0, 0, 0, 0, 0, 0, 0, 0, 0, 0, 0, 0, 0, 0, 0, 0, 0, 0, 0, 0, 0, 0, 0, 0, 0, 0, 0, 0, 0, 0, 0, 0, 0, 0, 0, 0, 0, 0, 0, 0, 0, 0, 0, 0, 0, 0, 0, 0, 0, 0, 0, 0, 0, 0, 0, 0, 0, 0, 0, 0, 0, 0, 0, 0, 0, 0, 0, 0, 0, 0, 0, 0, 0, 0, 0, 0, 0, 0, 0, 0, 0, 0, 0, 0, 0, 0, 0, 0, 0, 0, 0, 0, 0, 0, 0, 0, 0, 0, 0, 0, 0, 0, 0, 0, 0, 0, 0, 0, 0, 0, 0, 0, 0, 0, 0, 0, 0, 0, 0, 0, 0, 0, 0, 0, 0, 0, 0, 0, 0, 0, 0, 0, 0, 0, 0, 0, 0, 0, 0, 0, 0, 0, 0, 0, 0, 0, 0, 0, 0, 0, 0, 0, 0, 0, 0, 0, 0, 1, 0, 0, 0, 0, 0, 0, 0, 0, 0, 0, 0, 0, 0, 0, 0, 0, 0, 0, 0, 0, 0, 0, 0, 0, 0, 0, 0, 0, 0, 0, 0, 0, 0, 0, 0, 0, 0, 0, 0, 0, 0, 0, 0, 0, 0, 0, 0, 0, 0, 0, 0, 0, 0, 0, 0, 0, 0, 0, 0, 0, 0, 0, 0, 0, 0, 0, 0, 0, 0, 0, 0, 0, 0, 0, 0, 0, 0, 0, 0, 0, 0, 0, 0, 0, 0, 0, 0, 0, 0, 0, 0, 0, 0, 0, 0, 0, 0, 0, 0, 0, 0, 0, 0, 0, 0, 0, 0, 0, 0, 0, 0, 0, 0, 0, 0, 0, 0, 0, 0, 0, 0, 0, 0, 0, 0, 0, 0, 0, 0, 0, 0, 0, 0, 0, 0, 0, 0, 0, 0, 0, 0, 0, 0, 0, 0, 0, 0, 0, 0, 0, 0, 0, 0, 0, 0, 0, 0, 0, 0, 0, 0, 0, 0, 0, 0, 0, 0, 0, 0, 0, 0, 0, 0, 0, 0, 0, 0, 0, 0, 0, 0, 0, 0, 0, 0, 0, 0, 0, 0, 0, 0, 0, 0, 0, 0, 0, 0, 0, 0, 0, 0, 0, 0, 0, 0, 0, 0, 0, 0, 0, 0, 0, 0, 0, 0, 0, 0, 0, 0, 0, 0, 0, 0, 0, 0, 0, 0, 0, 0, 0, 0, 0, 0, 0, 0, 0, 0, 0, 0, 0, 0, 0, 0, 0, 0, 0, 0, 0, 0, 0, 0, 0, 0, 1, 0, 0, 0, 0, 0, 0, 0, 0, 0, 0, 0, 0, 0, 0, 0, 0, 0, 0, 0, 0, 0, 0, 0, 0, 0, 0, 0, 0, 0, 0, 0, 0, 0, 0, 0, 0, 0, 0, 0, 0, 0, 0, 0, 0, 0, 0, 0, 0, 0, 0, 0, 0, 0, 0, 0, 0, 0, 0, 0, 0, 0, 0, 0, 0, 0, 0, 0, 0, 0, 0, 0, 0, 0, 0, 0, 0, 0, 0, 0, 0, 0, 0, 0, 0, 0, 0, 1, 0, 0, 0, 0, 0, 0, 0, 0, 0, 0, 0, 0, 0, 0, 0, 0, 0, 0, 0, 0, 0, 0, 0, 0, 0, 0, 0, 0, 0, 0, 0, 0, 0, 0, 0, 0, 0, 0, 0, 0, 0, 0, 0, 0, 0, 0, 0, 0, 0, 0, 0, 0, 0, 0, 0, 0, 0, 0, 0, 0, 0, 0, 0, 0, 0, 0, 0, 0, 0, 0, 0, 0, 0, 0, 0, 0, 0, 0, 0, 0, 0, 0, 0, 0, 0, 0, 0, 0, 0, 0, 0, 0, 0, 0, 0, 0, 0, 0, 0, 0, 0, 0, 0, 0, 0, 0, 0, 0, 0, 0, 0, 0, 0, 0, 0, 0, 0, 0, 0, 0, 0, 0, 0, 0, 0, 0, 0, 0, 0, 0, 0, 0, 0, 0, 0, 0, 0, 0, 0, 0, 0, 0, 0, 0, 0, 0, 0, 0, 0, 0, 0, 0, 0, 0, 0, 0, 0, 0, 0, 0, 0, 0, 0, 0, 0, 0, 0, 0, 0, 0, 0, 0, 0, 0, 0, 0, 0, 0, 0, 0, 0, 0, 0, 0, 0, 0, 0, 0, 0, 0, 0, 0, 0, 0, 0, 0, 0, 0, 0, 0, 0, 0, 0, 0, 0, 0, 0, 0, 0, 0, 0, 0, 0, 0, 0, 0, 0, 0, 0, 0, 0, 0, 0, 0, 0, 0, 0, 0, 0, 0, 0, 0, 0, 0, 0, 0, 0, 0, 0, 0, 0, 0, 0, 0, 0, 0, 0, 0, 0, 0, 0, 0, 1, 0, 0, 0, 0, 0, 0, 0, 0, 0, 0, 0, 0, 0, 0, 0, 0, 0, 0, 0, 0, 0, 0, 0, 0, 0, 0, 0, 0, 0, 0, 0, 0, 0, 0, 0, 0, 0, 0, 0, 0, 0, 0, 0, 0, 0, 0, 0, 0, 0, 0, 0, 0, 0, 0, 0, 1, 0, 0, 0, 0, 0, 0, 0, 0, 0, 0, 0, 0, 0, 0, 0, 0, 0, 0, 0, 0, 0, 0, 0, 0, 0, 0, 0, 0, 0, 0, 0, 0, 0, 0, 0, 0, 0, 0, 0, 0, 0, 0, 0, 0, 0, 0, 0, 0, 0, 0, 0, 0, 0, 0, 0, 0, 0, 0, 0, 0, 0, 0, 0, 0, 0, 0, 0, 0, 0, 0, 0, 0, 0, 0, 0, 0, 0, 0, 0, 0, 0, 0, 0, 0, 0, 0, 0, 0, 0, 0, 0, 0, 0, 0, 0, 0, 0, 0, 0, 0, 0, 0, 0, 0, 0, 0, 0, 0, 0, 0, 0, 0, 0, 0, 0, 0, 0, 0, 0, 0, 0, 0, 0, 0, 0, 0, 0, 0, 0, 0, 0, 0, 0, 0, 0, 0, 0, 0, 0, 0, 0, 0, 0, 0, 0, 0, 0, 0, 0, 0, 0, 0, 0, 0, 0, 0, 0, 0, 0, 0, 0, 0, 0, 0, 0, 0, 0, 0, 0, 0, 0, 0, 0, 0, 0, 0, 0, 0, 0, 0, 0, 0, 0, 0, 0, 0, 0, 0, 0, 0, 0, 0, 0, 0, 0, 0, 0, 0, 0, 0, 0, 0, 0, 0, 0, 0, 0, 0, 0, 0, 0, 0, 0, 0, 0, 0, 0, 0, 0, 0, 0, 0, 0, 0, 0, 0, 0, 0, 0, 0, 0, 0, 0, 0, 0, 0, 0, 0, 0, 0, 0, 0, 0, 0, 0, 0, 0, 0, 0, 0, 0, 0, 0, 0, 0, 0, 0, 0, 0, 0, 0, 0, 0, 0, 0, 0, 0, 0, 0, 0, 0, 0, 0, 0, 0, 0, 0, 0, 0, 0, 0, 0, 0, 0, 0, 0, 0, 0, 0, 0, 0, 0, 0, 0, 0, 0, 0, 0, 0, 0, 0, 0, 0, 0, 0, 0, 0, 0, 0, 0, 0, 0, 0, 0, 0, 0, 0, 0, 0, 0, 0, 0, 0, 0, 0, 0, 0, 0, 0, 0, 0, 0, 0, 0, 0, 0, 0, 0, 0, 0, 0, 0, 0, 0, 0, 0, 0, 0, 0, 0, 0, 0, 0, 0, 0, 0, 0, 0, 0, 0, 0, 0, 0, 0, 0, 0, 0, 0, 0, 0, 0, 0, 0, 0, 0, 0, 0, 0, 0, 0, 0, 0, 0, 0, 0, 0, 0, 0, 0, 0, 0, 0, 0, 0, 0, 0, 0, 0, 0, 0, 0, 0, 0, 0, 0, 0, 0, 0, 0, 0, 0, 0, 0, 0, 0, 0, 0, 0, 0, 0, 0, 0, 0, 0, 0, 0, 0, 0, 0, 0, 0, 0, 0, 0, 0, 0, 0, 0, 0, 0, 0, 0, 0, 0, 0, 0, 0, 0, 0, 0, 0, 0, 0, 0, 0, 0, 0, 0, 0, 0, 0, 0, 0, 0, 0, 0, 0, 0, 0, 0, 0, 0, 0, 0, 0, 0, 0, 0, 0, 0, 0, 0, 0, 0, 0, 0, 0, 0, 0, 0, 0, 0, 0, 0, 0, 0, 0, 0, 0, 0, 0, 0, 0, 0, 0, 0, 0, 0, 0, 0, 0, 0, 0, 0, 0, 0, 0, 0, 0, 0, 0, 0, 0, 0, 0, 0, 0, 0, 0, 0, 0, 0, 0, 0, 0, 0, 0, 0, 0, 0, 0, 0, 0, 0, 0, 0, 0, 0, 0, 0, 0, 0, 0, 0, 0, 0, 0, 0, 0, 0, 0, 0, 0, 0, 0, 0, 0, 0, 0, 0, 0, 0, 0, 0, 0, 0, 0, 0, 0, 0, 0, 0, 0, 0, 0, 0, 0, 0, 0, 0, 0, 0, 0, 0, 0, 0, 0, 0, 0, 0, 0, 0, 0, 0, 0, 0, 0, 0, 0, 0, 0, 0, 0, 0, 0, 0, 0, 0, 0, 0, 0, 0, 0, 0, 0, 0, 0, 0, 0, 0, 0, 0, 0, 0, 0, 0, 0, 0, 0, 0, 0, 0, 0, 0, 0, 0, 0, 0, 0, 0, 0, 0, 0, 0, 0, 0, 0, 0, 0, 0, 0, 0, 0, 0, 0, 0, 0, 0, 0, 0, 0, 0, 0, 0, 0, 0, 0, 0, 0, 0, 0, 1, 0, 0, 0, 0, 0, 0, 0, 0, 0, 0, 0, 0, 0, 0, 0, 0, 0, 0, 0, 0, 0, 0, 0, 0, 0, 0, 0, 0, 0, 0, 0, 0, 0, 0, 0, 0, 0, 0, 0, 0, 0, 0, 0, 0, 0, 0, 0, 0, 0, 0, 0, 0, 0, 0, 0, 0, 0, 0, 0, 0, 0, 0, 0, 0, 0, 0, 0, 0, 0, 0, 0, 0, 0, 0, 1, 0, 0, 0, 0, 0, 0, 0, 0, 0, 0, 0, 0, 0, 0, 0, 0, 0, 0, 0, 0, 1, 0, 0, 1, 0, 0, 0, 0, 0, 0, 0, 0, 0, 0, 0, 0, 0, 0, 0, 0, 0, 0, 0, 0, 0, 0, 0, 0, 0, 0, 0, 0, 0, 0, 0, 0, 0, 0, 0, 0, 0, 0, 0, 0, 0, 0, 0, 0, 0, 0, 0, 0, 0, 0, 0, 0, 0, 0, 0, 0, 0, 0, 0, 0, 0, 0, 0, 0, 0, 0, 0, 0, 0, 0, 0, 0, 0, 0, 0, 0, 0, 0, 0, 0, 0, 0, 0, 0, 0, 0, 0, 0, 0, 0, 0, 0, 0, 0, 0, 0, 0, 0, 0, 0, 0, 0, 0, 0, 0, 0, 0, 0, 0, 0, 0, 0, 0, 0, 0, 0, 0, 0, 0, 0, 0, 0, 0, 0, 0, 0, 0, 0, 0, 0, 0, 0, 0, 0, 0, 0, 0, 0, 0, 0, 0, 0, 0, 0, 0, 0, 0, 0, 0, 0, 0, 0, 0, 0, 0, 0, 0, 0, 0, 0, 0, 0, 0, 0, 0, 0, 0, 0, 0, 0, 0, 0, 0, 0, 0, 0, 0, 0, 0, 0, 0, 0, 0, 0, 0, 0, 0, 0, 0, 0, 0, 0, 0, 0, 0, 0, 0, 0, 0, 0, 0, 0, 0, 0, 0, 0, 0, 0, 0, 0, 0, 0, 0, 0, 0, 0, 0, 0, 0, 0, 0, 0, 0, 0, 0, 0, 0, 0, 0, 0, 0, 0, 0, 0, 0, 0, 0, 0, 0, 0, 0, 0, 0, 0, 0, 0, 0, 0, 0, 0, 0, 0, 0, 0, 0, 0, 0, 0, 0, 0, 0, 0, 0, 0, 0, 0, 0, 0, 0, 0, 0, 0, 0, 0, 0, 0, 0, 0, 0, 0, 0, 0, 0, 0, 0, 0, 0, 0, 0, 0, 0, 0, 0, 0, 0, 0, 0, 0, 0, 0, 0, 0, 0, 0, 0, 0, 0, 0, 0, 0, 0, 0, 0, 0, 0, 0, 0, 0, 0, 0, 0, 0, 0, 0, 0, 0, 0, 0, 0, 0, 0, 0, 0, 0, 0, 0, 0, 0, 0, 0, 0, 0, 0, 0, 0, 0, 0, 0, 0, 0, 0, 0, 0, 0, 0, 0, 0, 0, 0, 0, 0, 0, 0, 0, 0, 0, 0, 0, 0, 0, 0, 0, 0, 0, 0, 0, 0, 0, 0, 0, 0, 0, 0, 0, 0, 0, 0, 0, 0, 0, 0, 0, 0, 0, 0, 0, 0, 0, 0, 0, 0, 0, 0, 0, 0, 0, 0, 0, 0, 0, 0, 0, 0, 0, 0, 0, 0, 0, 0, 0, 0, 0, 0, 0, 0, 0, 0, 0, 0, 0, 0, 0, 0, 0, 0, 0, 0, 0, 0, 0, 0, 0, 0, 0, 0, 0, 0, 0, 0, 0, 0, 0, 0, 0, 0, 0, 0, 0, 0, 0, 0, 0, 0, 0, 0, 0, 1, 0, 0, 0, 0, 0, 0, 0, 0, 0, 0, 0, 0, 0, 0, 0, 0, 0, 0, 0, 0, 0, 0, 0, 0, 0, 0, 0, 0, 0, 0, 0, 0, 0, 0, 0, 0, 0, 0, 0, 0, 0, 0, 0, 0, 0, 0, 0, 0, 0, 0, 0, 0, 0, 0, 0, 0, 0, 0, 0, 0, 0, 0, 0, 0, 0, 0, 0, 0, 0, 0, 0, 0, 0, 0, 0, 0, 0, 0, 0, 0, 0, 0, 0, 0, 0, 0, 0, 0, 0, 0, 0, 0, 0, 0, 0, 0, 0, 0, 0, 0, 0, 0, 0, 0, 0, 0, 0, 0, 0, 0, 0, 0, 0, 0, 0, 0, 0, 0, 0, 0, 0, 0, 0, 0, 0, 0, 0, 0, 0, 0, 0, 0, 0, 0, 0, 0, 0, 0, 0, 0, 0, 0, 0, 0, 0, 0, 0, 0, 0, 0, 0, 0, 0, 0, 0, 0, 0, 0, 0, 0, 0, 0, 0, 0, 0, 0, 0, 0, 0, 0, 0, 0, 0, 0, 0, 0, 0, 0, 0, 0, 0, 0, 0, 0, 0, 0, 0, 0, 0, 0, 0, 0, 0, 0, 0, 0, 0, 0, 0, 0, 0, 0, 0, 0, 0, 0, 0, 0, 0, 0, 0, 0, 0, 0, 0, 0, 0, 0, 0, 0, 0, 0, 0, 0, 0, 0, 0, 0, 0, 0, 0, 0, 0, 0, 0, 0, 0, 0, 0, 0, 0, 0, 0, 0, 0, 0, 0, 0, 0, 0, 0, 0, 0, 0, 0, 0, 0, 0, 0, 0, 0, 0, 0, 0, 0, 0, 0, 0, 0, 0, 0, 0, 0, 0, 0, 0, 0, 0, 0, 0, 0, 0, 0, 0, 0, 0, 0, 0, 0, 0, 0, 0, 0, 0, 0, 0, 0, 0, 0, 0, 0, 0, 0, 0, 0, 0, 0, 0, 0, 0, 0, 0, 0, 0, 0, 0, 0, 0, 0, 0, 0, 0, 0, 0, 0, 0, 0, 0, 0, 0, 0, 0, 0, 0, 0, 0, 0, 0, 0, 0, 0, 0, 0, 0, 0, 0, 0, 0, 0, 0, 0, 0, 0, 0, 0, 0, 0, 0, 0, 0, 0, 0, 0, 0, 0, 0, 0, 0, 0, 0, 0, 0, 0, 0, 0, 0, 0, 0, 0, 0, 0, 0, 0, 0, 0, 0, 0, 0, 0, 0, 0, 0, 0, 0, 0, 0, 0, 0, 0, 0, 0, 0, 0, 0, 0, 0, 0, 0, 0, 0, 0, 0, 0, 0, 0, 0, 0, 0, 0, 0, 0, 0, 0, 0, 0, 0, 0, 0, 0, 0, 0, 0, 0, 0, 0, 0, 0, 0, 0, 0, 0, 0, 0, 0, 0, 0, 0, 0, 0, 0, 0, 0, 0, 0, 0, 0, 0, 0, 0, 0, 0, 0, 0, 0, 0, 0, 0, 0, 0, 0, 0, 0, 0, 0, 0, 0, 0, 0, 0, 0, 0, 0, 0, 0, 0, 0, 0, 0, 0, 0, 0, 0, 0, 0, 0, 0, 0, 0, 0, 0, 0, 0, 0, 0, 0, 0, 0, 0, 0, 0, 0, 0, 1, 0, 0, 0, 0, 0, 0, 0, 0, 0, 0, 0, 0, 0, 0, 0, 0, 0, 0, 0, 0, 0, 0, 0, 0, 0, 0, 0, 0, 0, 0, 0, 0, 0, 0, 0, 2, 0, 0, 0, 0, 0, 0, 0, 0, 0, 0, 0, 0, 0, 0, 0, 0, 0, 0, 0, 0, 0, 0, 0, 0, 0, 0, 0, 0, 0, 0, 0, 0, 0, 0, 0, 0, 0, 0, 0, 0, 1, 0, 0, 0, 0, 0, 0, 0, 0, 0, 0, 0, 0, 0, 0, 0, 0, 0, 0, 0, 0, 0, 0, 0, 0, 0, 0, 0, 0, 0, 0, 0, 0, 0, 0, 0, 0, 0, 0, 0, 0, 0, 0, 0, 0, 0, 0, 0, 0, 0, 0, 0, 0, 0, 0, 0, 0, 0, 0, 0, 0, 0, 0, 0, 0, 0, 0, 0, 0, 0, 0, 0, 0, 0, 0, 0, 0, 0, 0, 0, 0, 0, 0, 0, 0, 0, 0, 0, 0, 0, 0, 0, 0, 0, 0, 0, 0, 0, 0, 0, 0, 0, 0, 0, 0, 0, 0, 0, 0, 0, 0, 0, 0, 0, 0, 0, 0, 0, 0, 0, 0, 0, 0, 0, 0, 0, 0, 0, 0, 0, 0, 0, 0, 0, 0, 0, 0, 0, 0, 0, 0, 0, 0, 0, 0, 0, 0, 0, 0, 0, 0, 0, 0, 0, 0, 0, 0, 0, 0, 0, 0, 0, 0, 0, 0, 0, 0, 0, 0, 0, 0, 0, 0, 0, 0, 0, 0, 0, 0, 0, 0, 0, 0, 0, 0, 0, 0, 0, 0, 0, 0, 0, 0, 0, 0, 0, 0, 0, 0, 0, 0, 0, 0, 0, 0, 0, 0, 0, 0, 0, 0, 0, 0, 0, 0, 0, 0, 0, 0, 0, 0, 0, 0, 0, 0, 0, 0, 0, 0, 0, 0, 0, 0, 0, 0, 0, 0, 0, 0, 0, 0, 0, 0, 0, 0, 0, 0, 0, 0, 0, 0, 0, 0, 0, 0, 0, 0, 0, 0, 0, 0, 0, 0, 0, 0, 0, 0, 0, 0, 0, 0, 0, 0, 0, 0, 0, 0, 0, 0, 0, 0, 0, 0, 0, 0, 0, 0, 0, 0, 0, 0, 0, 0, 0, 0, 0, 0, 0, 0, 0, 0, 0, 0, 0, 0, 0, 0, 0, 0, 0, 0, 0, 0, 0, 0, 0, 0, 0, 0, 0, 0, 0, 0, 0, 0, 0, 0, 0, 0, 0, 0, 0, 0, 0, 0, 0, 0, 0, 0, 0, 0, 0, 0, 0, 0, 0, 0, 0, 0, 0, 0, 0, 0, 0, 0, 0, 0, 0, 0, 0, 0, 0, 0, 0, 0, 0, 0, 0, 0, 0, 0, 0, 0, 0, 0, 0, 0, 0, 0, 0, 0, 0, 0, 0, 0, 0, 0, 0, 0, 0, 0, 0, 0, 0, 0, 0, 0, 0, 0, 0, 0, 0, 0, 0, 0, 0, 0, 0, 0, 0, 0, 0, 0, 0, 0, 0, 0, 0, 0, 0, 0, 0, 0, 0, 0, 0, 0, 0, 0, 0, 0, 0, 0, 0, 0, 0, 0, 0, 0, 0, 0, 0, 0, 0, 0, 0, 0, 0, 0, 0, 0, 0, 0, 0, 0, 0, 0, 0, 0, 0, 0, 0, 0, 0, 0, 0, 0, 0, 0, 0, 0, 0, 0, 0, 0, 0, 0, 0, 0, 0, 0, 0, 0, 0, 0, 0, 0, 0, 0, 0, 0, 0, 0, 0, 0, 0, 0, 0, 1, 0, 0, 0, 0, 0, 0, 0, 0, 0, 0, 0, 0, 0, 0, 0, 0, 0, 0, 0, 0, 0, 0, 0, 0, 0, 0, 0, 0, 0, 0, 0, 0, 0, 0, 0, 0, 0, 0, 0, 0, 0, 0, 0, 0, 0, 0, 0, 0, 0, 0, 0, 0, 0, 0, 0, 0, 0, 0, 0, 0, 0, 0, 0, 0, 0, 0, 0, 0, 0, 0, 0, 0, 0, 0, 0, 0, 0, 0, 0, 0, 0, 0, 0, 0, 0, 0, 0, 0, 0, 0, 0, 0, 0, 0, 0, 0, 0, 0, 0, 0, 0, 0, 0, 0, 0, 0, 0, 0, 0, 0, 2, 0, 0, 0, 0, 0, 0, 0, 0, 0, 0, 0, 0, 0, 0, 0, 0, 0, 0, 0, 0, 0, 0, 0, 0, 0, 0, 0, 0, 0, 0, 0, 0, 0, 0, 0, 0, 0, 0, 0, 0, 0, 0, 0, 0, 0, 0, 0, 0, 0, 0, 0, 0, 0, 0, 0, 0, 0, 0, 0, 0, 0, 0, 0, 0, 0, 0, 0, 0, 0, 0, 0, 0, 0, 0, 0, 0, 0, 0, 0, 0, 0, 0, 0, 0, 0, 0, 0, 0, 0, 0, 0, 0, 0, 0, 0, 0, 0, 0, 0, 0, 0, 0, 0, 0, 0, 0, 0, 0, 0, 0, 0, 0, 0, 0, 0, 0, 0, 0, 0, 0, 0, 0, 0, 0, 0, 0, 0, 0, 0, 0, 0, 0, 0, 0, 0, 0, 0, 0, 0, 0, 0, 0, 0, 0, 0, 0, 0, 0, 0, 0, 0, 0, 0, 0, 0, 0, 0, 0, 0, 0, 0, 0, 0, 0, 0, 0, 0, 0, 0, 0, 0, 0, 0, 0, 0, 0, 0, 0, 0, 0, 0, 0, 0, 0, 0, 0, 0, 0, 0, 0, 0, 0, 0, 0, 0, 0, 0, 0, 0, 0, 0, 0, 0, 0, 0, 0, 0, 0, 0, 0, 0, 0, 0, 0, 0, 0, 0, 0, 0, 0, 0, 0, 0, 0, 0, 0, 0, 0, 0, 0, 0, 0, 0, 0, 0, 0, 0, 0, 0, 0, 0, 0, 0, 0, 0, 0, 0, 0, 0, 0, 0, 0, 0, 0, 0, 0, 0, 0, 0, 0, 0, 0, 0, 0, 0, 0, 0, 0, 0, 0, 0, 0, 0, 0, 0, 0, 0, 0, 0, 0, 0, 0, 0, 0, 0, 0, 0, 0, 0, 0, 0, 0, 0, 0, 0, 0, 0, 0, 0, 0, 0, 0, 0, 0, 0, 0, 0, 0, 0, 0, 0, 0, 0, 0, 0, 0, 0, 0, 0, 0, 0, 0, 0, 0, 0, 0, 0, 0, 0, 0, 0, 0, 0, 0, 0, 0, 0, 0, 0, 0, 0, 0, 0, 0, 0, 0, 0, 0, 0, 0, 0, 0, 0, 0, 0, 0, 0, 0, 0, 0, 0, 0, 0, 0, 0, 0, 0, 0, 0, 0, 0, 0, 0, 0, 0, 0, 0, 0, 0, 0, 0, 0, 0, 0, 0, 0, 0, 0, 0, 0, 0, 0, 0, 0, 0, 0, 0, 0, 0, 0, 0, 0, 0, 0, 0, 0, 0, 0, 0, 0, 0, 0, 0, 0, 0, 0, 0, 0, 0, 0, 0, 0, 0, 0, 0, 0, 0, 0, 0, 0, 0, 0, 0, 0, 0, 0, 0, 0, 0, 0, 0, 0, 0, 0, 0, 0, 0, 0, 0, 0, 0, 0, 0, 0, 0, 0, 0, 0, 0, 0, 0, 0, 0, 0, 0, 0, 0, 0, 0, 0, 0, 0, 0, 0, 0, 0, 0, 0, 0, 0, 0, 0, 0, 0, 0, 0, 0, 0, 0, 0, 0, 0, 0, 0, 0, 0, 0, 0, 0, 0, 0, 0, 0, 0, 0, 0, 0, 0, 0, 0, 0, 0, 0, 0, 0, 0, 0, 0, 0, 0, 0, 0, 0, 0, 0, 0, 0, 0, 0, 0, 0, 0, 0, 0, 0, 0, 0, 0, 0, 0, 0, 0, 0, 0, 0, 0, 0, 0, 0, 0, 0, 0, 0, 0, 0, 0, 0, 0, 0, 0, 0, 0, 0, 0, 0, 0, 0, 0, 0, 0, 0, 0, 0, 0, 0, 0, 0, 0, 0, 0, 0, 0, 0, 0, 0, 0, 0, 0, 0, 0, 0, 0, 0, 0, 0, 0, 0, 0, 0, 0, 0, 0, 0, 0, 0, 0, 0, 0, 0, 0, 0, 0, 0, 0, 0, 0, 0, 0, 0, 0, 0, 0, 0, 0, 0, 0, 0, 0, 0, 0, 0, 0, 0, 0, 0, 0, 0, 0, 0, 0, 0, 0, 0, 0, 0, 0, 0, 0, 0, 0, 0, 0, 0, 0, 0, 0, 0, 0, 0, 0, 0, 0, 0, 0, 0, 0, 0, 0, 0, 0, 0, 0, 0, 0, 0, 0, 0, 0, 0, 0, 0, 0, 0, 0, 0, 0, 0, 0, 0, 0, 1, 0, 0, 0, 0, 0, 0, 0, 0, 0, 0, 0, 0, 0, 0, 0, 0, 0, 0, 0, 0, 0, 0, 0, 0, 0, 0, 0, 0, 0, 0, 0, 0, 0, 0, 0, 0, 0, 0, 0, 0, 0, 0, 0, 0, 0, 0, 0, 0, 0, 0, 0, 0, 0, 0, 0, 0, 0, 0, 0, 0, 0, 0, 0, 0, 0, 0, 0, 0, 0, 0, 0, 0, 0, 0, 0, 0, 0, 0, 0, 0, 0, 0, 0, 0, 0, 0, 0, 0, 0, 0, 0, 0, 0, 0, 0, 0, 0, 0, 0, 0, 0, 0, 0, 0, 0, 0, 0, 1, 0, 0, 0, 0, 0, 0, 0, 0, 0, 0, 0, 0, 0, 0, 0, 0, 0, 0, 0, 0, 0, 0, 0, 0, 0, 0, 0, 0, 0, 0, 0, 0, 0, 0, 0, 0, 0, 0, 0, 0, 0, 0, 0, 0, 0, 0, 0, 0, 0, 0, 0, 0, 0, 0, 0, 0, 0, 0, 0, 0, 0, 0, 0, 0, 0, 0, 0, 0, 0, 0, 0, 0, 0, 0, 0, 0, 0, 0, 0, 0, 0, 0, 0, 0, 0, 0, 0, 0, 0, 0, 0, 0, 0, 0, 0, 0, 0, 0, 0, 0, 0, 0, 0, 0, 0, 0, 0, 0, 0, 0, 0, 0, 0, 0, 0, 0, 0, 0, 0, 0, 0, 0, 0, 0, 0, 0, 0, 0, 0, 0, 0, 0, 0, 0, 0, 0, 0, 0, 0, 0, 0, 0, 0, 0, 0, 0, 0, 0, 0, 0, 0, 0, 0, 0, 0, 0, 0, 0, 0, 0, 0, 0, 0, 0, 0, 0, 0, 0, 0, 0, 0, 0, 0, 0, 0, 0, 0, 0, 0, 0, 0, 0, 0, 0, 0, 0, 0, 0, 0, 0, 0, 0, 0, 0, 0, 0, 0, 0, 0, 0, 0, 0, 0, 0, 0, 0, 0, 0, 0, 0, 0, 0, 0, 0, 0, 0, 0, 0, 0, 0, 0, 0, 0, 0, 0, 0, 0, 0, 0, 0, 0, 0, 0, 0, 0, 0, 0, 0, 0, 0, 0, 0, 0, 0, 0, 0, 0, 0, 0, 0, 0, 0, 0, 0, 0, 0, 0, 0, 0, 0, 0, 0, 0, 0, 0, 0, 0, 0, 0, 0, 0, 0, 0, 0, 0, 0, 0, 0, 0, 0, 0, 0, 0, 0, 0, 0, 0, 0, 0, 0, 0, 0, 0, 0, 0, 0, 0, 0, 0, 0, 0, 0, 0, 0, 0, 0, 0, 0, 0, 0, 0, 0, 0, 0, 0, 0, 0, 0, 0, 0, 0, 0, 0, 0, 0, 0, 0, 0, 0, 0, 0, 0, 0, 0, 0, 0, 0, 0, 0, 0, 0, 0, 0, 0, 0, 0, 0, 0, 0, 0, 0, 0, 0, 0, 0, 0, 0, 0, 0, 0, 0, 0, 0, 0, 0, 0, 0, 0, 0, 0, 0, 0, 0, 0, 0, 0, 0, 0, 0, 0, 0, 0, 0, 0, 0, 0, 0, 0, 0, 0, 0, 0, 0, 0, 0, 0, 0, 0, 0, 0, 0, 0, 0, 0, 0, 0, 0, 0, 0, 0, 0, 0, 0, 0, 0, 0, 0, 0, 0, 0, 0, 0, 0, 0, 0, 0, 0, 0, 0, 0, 0, 0, 0, 0, 0, 0, 0, 0, 0, 0, 0, 0, 0, 0, 0, 0, 0, 0, 0, 0, 0, 0, 0, 0, 0, 0, 0, 0, 0, 0, 0, 0, 0, 2, 0, 1, 0], type: <class 'list'>, valid types: <class 'bytes'>, <class 'bytearray'>, file-like object"
     ]
    }
   ],
   "source": [
    "response = runtime.invoke_endpoint(EndpointName = xgb_predictor.endpoint, # The name of the endpoint we created\n",
    "                                       ContentType = 'text/csv',                     # The data format that is expected\n",
    "                                       Body = test_bow)"
   ]
  },
  {
   "cell_type": "markdown",
   "metadata": {},
   "source": [
    "So why did we get an error?\n",
    "\n",
    "Because we tried to send the endpoint a list of integers but it expected us to send data of type `text/csv`. So, we need to convert it."
   ]
  },
  {
   "cell_type": "code",
   "execution_count": 46,
   "metadata": {},
   "outputs": [],
   "source": [
    "response = runtime.invoke_endpoint(EndpointName = xgb_predictor.endpoint, # The name of the endpoint we created\n",
    "                                       ContentType = 'text/csv',                     # The data format that is expected\n",
    "                                       Body = ','.join([str(val) for val in test_bow]).encode('utf-8'))"
   ]
  },
  {
   "cell_type": "code",
   "execution_count": 47,
   "metadata": {},
   "outputs": [
    {
     "name": "stdout",
     "output_type": "stream",
     "text": [
      "{'ResponseMetadata': {'RequestId': '83e1a23c-09ef-4470-bb2c-89eb8748816b', 'HTTPStatusCode': 200, 'HTTPHeaders': {'x-amzn-requestid': '83e1a23c-09ef-4470-bb2c-89eb8748816b', 'x-amzn-invoked-production-variant': 'AllTraffic', 'date': 'Wed, 1 Jan 2020 12:05:57 GMT', 'content-type': 'text/csv; charset=utf-8', 'content-length': '14'}, 'RetryAttempts': 0}, 'ContentType': 'text/csv; charset=utf-8', 'InvokedProductionVariant': 'AllTraffic', 'Body': <botocore.response.StreamingBody object at 0x7f42bd2bd2e8>}\n"
     ]
    }
   ],
   "source": [
    "print(response)"
   ]
  },
  {
   "cell_type": "markdown",
   "metadata": {},
   "source": [
    "As we can see, the response from our model is a somewhat complicated looking dict that contains a bunch of information. The bit that we are most interested in is `'Body'` object which is a streaming object that we need to `read` in order to make use of."
   ]
  },
  {
   "cell_type": "code",
   "execution_count": 48,
   "metadata": {},
   "outputs": [
    {
     "name": "stdout",
     "output_type": "stream",
     "text": [
      "0.403504490852\n"
     ]
    }
   ],
   "source": [
    "response = response['Body'].read().decode('utf-8')\n",
    "print(response)"
   ]
  },
  {
   "cell_type": "markdown",
   "metadata": {},
   "source": [
    "Now that we know how to process the incoming user data we can start setting up the infrastructure to make our simple web app work. To do this we will make use of two different services. Amazon's Lambda and API Gateway services.\n",
    "\n",
    "Lambda is a service which allows someone to write some relatively simple code and have it executed whenever a chosen trigger occurs. For example, you may want to update a database whenever new data is uploaded to a folder stored on S3.\n",
    "\n",
    "API Gateway is a service that allows you to create HTTP endpoints (url addresses) which are connected to other AWS services. One of the benefits to this is that you get to decide what credentials, if any, are required to access these endpoints.\n",
    "\n",
    "In our case we are going to set up an HTTP endpoint through API Gateway which is open to the public. Then, whenever anyone sends data to our public endpoint we will trigger a Lambda function which will send the input (in our case a review) to our model's endpoint and then return the result."
   ]
  },
  {
   "cell_type": "markdown",
   "metadata": {},
   "source": [
    "### Setting up a Lambda function\n",
    "\n",
    "The first thing we are going to do is set up a Lambda function. This Lambda function will be executed whenever our public API has data sent to it. When it is executed it will receive the data, perform any sort of processing that is required, send the data (the review) to the SageMaker endpoint we've created and then return the result.\n",
    "\n",
    "#### Part A: Create an IAM Role for the Lambda function\n",
    "\n",
    "Since we want the Lambda function to call a SageMaker endpoint, we need to make sure that it has permission to do so. To do this, we will construct a role that we can later give the Lambda function.\n",
    "\n",
    "Using the AWS Console, navigate to the **IAM** page and click on **Roles**. Then, click on **Create role**. Make sure that the **AWS service** is the type of trusted entity selected and choose **Lambda** as the service that will use this role, then click **Next: Permissions**.\n",
    "\n",
    "In the search box type `sagemaker` and select the check box next to the **AmazonSageMakerFullAccess** policy. Then, click on **Next: Review**.\n",
    "\n",
    "Lastly, give this role a name. Make sure you use a name that you will remember later on, for example `LambdaSageMakerRole`. Then, click on **Create role**."
   ]
  },
  {
   "cell_type": "markdown",
   "metadata": {},
   "source": [
    "#### Part B: Create a Lambda function\n",
    "\n",
    "Now it is time to actually create the Lambda function. Remember from earlier that in order to process the user provided input and send it to our endpoint we need to gather two pieces of information:\n",
    "\n",
    " - The name of the endpoint, and\n",
    " - the vocabulary object.\n",
    "\n",
    "We will copy these pieces of information to our Lambda function after we create it.\n",
    "\n",
    "To start, using the AWS Console, navigate to the AWS Lambda page and click on **Create a function**. When you get to the next page, make sure that **Author from scratch** is selected. Now, name your Lambda function, using a name that you will remember later on, for example `sentiment_analysis_xgboost_func`. Make sure that the **Python 3.6** runtime is selected and then choose the role that you created in the previous part. Then, click on **Create Function**.\n",
    "\n",
    "On the next page you will see some information about the Lambda function you've just created. If you scroll down you should see an editor in which you can write the code that will be executed when your Lambda function is triggered. Collecting the code we wrote above to process a single review and adding it to the provided example `lambda_handler` we arrive at the following.\n",
    "\n",
    "```python\n",
    "# We need to use the low-level library to interact with SageMaker since the SageMaker API\n",
    "# is not available natively through Lambda.\n",
    "import boto3\n",
    "\n",
    "# And we need the regular expression library to do some of the data processing\n",
    "import re\n",
    "\n",
    "REPLACE_NO_SPACE = re.compile(\"(\\.)|(\\;)|(\\:)|(\\!)|(\\')|(\\?)|(\\,)|(\\\")|(\\()|(\\))|(\\[)|(\\])\")\n",
    "REPLACE_WITH_SPACE = re.compile(\"(<br\\s*/><br\\s*/>)|(\\-)|(\\/)\")\n",
    "\n",
    "def review_to_words(review):\n",
    "    words = REPLACE_NO_SPACE.sub(\"\", review.lower())\n",
    "    words = REPLACE_WITH_SPACE.sub(\" \", words)\n",
    "    return words\n",
    "    \n",
    "def bow_encoding(words, vocabulary):\n",
    "    bow = [0] * len(vocabulary) # Start by setting the count for each word in the vocabulary to zero.\n",
    "    for word in words.split():  # For each word in the string\n",
    "        if word in vocabulary:  # If the word is one that occurs in the vocabulary, increase its count.\n",
    "            bow[vocabulary[word]] += 1\n",
    "    return bow\n",
    "\n",
    "\n",
    "def lambda_handler(event, context):\n",
    "    \n",
    "    vocab = \"*** ACTUAL VOCABULARY GOES HERE ***\"\n",
    "    \n",
    "    words = review_to_words(event['body'])\n",
    "    bow = bow_encoding(words, vocab)\n",
    "\n",
    "    # The SageMaker runtime is what allows us to invoke the endpoint that we've created.\n",
    "    runtime = boto3.Session().client('sagemaker-runtime')\n",
    "\n",
    "    # Now we use the SageMaker runtime to invoke our endpoint, sending the review we were given\n",
    "    response = runtime.invoke_endpoint(EndpointName = '***ENDPOINT NAME HERE***',# The name of the endpoint we created\n",
    "                                       ContentType = 'text/csv',                 # The data format that is expected\n",
    "                                       Body = ','.join([str(val) for val in bow]).encode('utf-8')) # The actual review\n",
    "\n",
    "    # The response is an HTTP response whose body contains the result of our inference\n",
    "    result = response['Body'].read().decode('utf-8')\n",
    "    \n",
    "    # Round the result so that our web app only gets '1' or '0' as a response.\n",
    "    result = round(float(result))\n",
    "\n",
    "    return {\n",
    "        'statusCode' : 200,\n",
    "        'headers' : { 'Content-Type' : 'text/plain', 'Access-Control-Allow-Origin' : '*' },\n",
    "        'body' : str(result)\n",
    "    }\n",
    "```"
   ]
  },
  {
   "cell_type": "markdown",
   "metadata": {},
   "source": [
    "Once you have copy and pasted the code above into the Lambda code editor, replace the `**ENDPOINT NAME HERE**` portion with the name of the endpoint that we deployed earlier. You can determine the name of the endpoint using the code cell below."
   ]
  },
  {
   "cell_type": "code",
   "execution_count": 49,
   "metadata": {},
   "outputs": [
    {
     "data": {
      "text/plain": [
       "'xgboost-2020-01-01-11-11-04-008'"
      ]
     },
     "execution_count": 49,
     "metadata": {},
     "output_type": "execute_result"
    }
   ],
   "source": [
    "xgb_predictor.endpoint"
   ]
  },
  {
   "cell_type": "markdown",
   "metadata": {},
   "source": [
    "In addition, you will need to copy the vocabulary dict to the appropriate place in the code at the beginning of the `lambda_handler` method. The cell below prints out the vocabulary dict in a way that is easy to copy and paste."
   ]
  },
  {
   "cell_type": "code",
   "execution_count": 50,
   "metadata": {},
   "outputs": [
    {
     "name": "stdout",
     "output_type": "stream",
     "text": [
      "{'this': 4457, 'is': 2360, 'not': 3040, 'as': 311, 'funny': 1852, 'and': 226, 'gory': 1943, 'the': 4426, 'dvd': 1391, 'box': 555, 'claims': 830, 'really': 3556, 'love': 2669, 'twisted': 4618, 'movies': 2927, 'but': 636, 'one': 3107, 'just': 2437, 'dull': 1384, 'its': 2370, 'hour': 2176, 'of': 3083, 'ripped': 3701, 'off': 3084, 'flying': 1764, 'baby': 376, 'born': 544, 'dolls': 1316, 'lot': 2661, 'rape': 3521, 'think': 4452, 'intention': 2319, 'with': 4911, 'amateur': 206, 'was': 4805, 'to': 4507, 'make': 2713, 'so': 4046, 'bad': 382, 'good': 1937, 'it': 2366, 'fails': 1628, 'few': 1700, 'scenes': 3811, 'are': 285, 'ok': 3098, 'in': 2257, 'whole': 4873, 'mess': 2818, 'if': 2222, 'you': 4986, 'like': 2599, 'splatter': 4118, 'only': 3110, 'way': 4820, 'better': 472, 'would': 4957, 'recommend': 3571, 'violent': 4748, 'film': 1716, 'had': 2003, 'much': 2934, 'promise': 3430, 'very': 4723, 'excited': 1561, 'about': 67, 'end': 1468, 'laughable': 2530, 'at': 331, 'best': 469, 'painful': 3171, 'worst': 4952, 'acting': 99, 'styles': 4250, 'ran': 3513, 'from': 1840, 'flat': 1748, 'angels': 234, 'wife': 4884, 'daughter': 1121, 'over': 3148, 'animated': 241, 'character': 758, 'felt': 1692, 'that': 4424, 'dialogue': 1234, 'an': 223, 'attempt': 340, 'transfer': 4559, 'information': 2288, 'audience': 352, 'instead': 2307, 'real': 3547, 'people': 3221, 'trying': 4601, 'talk': 4358, 'each': 1395, 'other': 3135, 'pay': 3216, 'special': 4097, 'attention': 345, 'scene': 3809, 'regarding': 3589, 'pretty': 3384, 'insult': 2309, 'audiences': 353, 'ability': 65, 'figure': 1711, 'things': 4451, 'out': 3141, 'defense': 1159, 'though': 4461, 'got': 1944, 'biggest': 480, 'laugh': 2529, 'movie': 2926, 'read': 3543, 'they': 4442, 'spent': 4108, 'money': 2888, 'traveling': 4568, 'various': 4715, 'locations': 2636, 'too': 4522, 'didnt': 1242, 'use': 4692, 'feel': 1684, 'exotic': 1574, 'anybody': 257, 'could': 1007, 'stock': 4193, 'footage': 1782, 'however': 2183, 'on': 3105, 'positive': 3346, 'note': 3044, 'thought': 4462, 'sets': 3899, 'were': 4848, 'liked': 2600, 'graphics': 1959, 'displayed': 1292, 'my': 2951, 'thats': 4425, 'all': 187, 'factor': 1622, 'have': 2052, 'been': 438, 'lower': 2677, 'action': 100, 'greatly': 1967, 'judge': 2424, 'far': 1653, 'there': 4438, 'hasnt': 2044, 'anything': 260, 'close': 853, 'thing': 4450, 'can': 665, 'say': 3799, 'after': 143, 'watching': 4815, 'know': 2489, 'seen': 3865, 'will': 4886, 'ever': 1538, 'see': 3855, 'guess': 1989, 'everyone': 1542, 'has': 2043, 'some': 4061, 'point': 3316, 'exactly': 1551, 'what': 4858, 'embarrassed': 1453, 'resident': 3647, 'jack': 2373, 'robin': 3715, 'williams': 4888, 'do': 1302, 'times': 4497, 'man': 2721, 'who': 4871, 'went': 4847, 'crazy': 1035, 'radio': 3504, 'morning': 2906, 'vietnam': 4735, 'playing': 3300, 'football': 1783, 'case': 707, 'he': 2056, 'seeks': 3860, 'game': 1864, 'cost': 1003, 'his': 2118, 'high': 2100, 'school': 3813, 'title': 4504, 'ex': 1549, 'kurt': 2499, 'russell': 3761, 'isnt': 2362, 'going': 1931, 'go': 1924, 'along': 195, 'easily': 1406, 'granted': 1957, 'for': 1784, 'either': 1438, 'actually': 109, 'comedy': 890, 'team': 4378, 'names': 2963, 'likely': 2601, 'give': 1912, 'least': 2554, 'check': 777, 'giallo': 1904, 'early': 1400, '70s': 56, 'genre': 1888, 'explosion': 1596, 'results': 3662, 'million': 2847, 'dollars': 1315, 'by': 642, 'black': 493, 'series': 3890, 'brutal': 603, 'murders': 2943, 'follow': 1772, 'plays': 3301, 'mystery': 2956, 'element': 1442, 'written': 4972, 'fairly': 1631, 'straight': 4210, 'being': 448, 'themselves': 4435, 'memorable': 2802, 'well': 4843, 'staged': 4140, 'fact': 1621, 'violence': 4747, 'strong': 4229, 'places': 3284, 'broken': 594, 'bottle': 550, 'particularly': 3195, 'graphic': 1958, 'emphasis': 1463, 'no': 3020, 'doubt': 1332, 'move': 2921, 'into': 2332, 'more': 2904, 'extreme': 1609, 'territory': 4411, 'films': 1721, 'score': 3822, 'attractive': 351, 'photography': 3260, 'music': 2946, 'reminiscent': 3621, 'work': 4940, 'bird': 484, 'also': 199, 'own': 3158, 'right': 3696, 'helped': 2080, 'nice': 3008, 'foreign': 1790, 'london': 2641, 'where': 4864, 'manages': 2725, 'get': 1899, 'houses': 2180, 'inventive': 2341, 'camera': 659, 'most': 2909, 'effective': 1429, 'slow': 4031, 'motion': 2913, 'sequence': 3887, 'woman': 4921, 'runs': 3757, 'towards': 4540, 'door': 1328, 'outside': 3146, 'particular': 3194, 'killer': 2470, 'through': 4477, 'knife': 2487, 'manner': 2729, 'influenced': 2287, 'flick': 1754, 'open': 3112, 'blade': 495, 'which': 4867, 'something': 4066, 'repeated': 3631, 'later': 2525, 'solid': 4057, 'both': 547, 'non': 3027, 'fans': 1650, 'appreciate': 279, 'performances': 3229, 'production': 3419, 'values': 4710, 'fine': 1729, 'although': 201, 'plane': 3288, 'shall': 3916, 'we': 4823, 'somewhat': 4068, 'low': 2676, 'budget': 610, 'release': 3602, 'english': 1483, 'italian': 2367, 'language': 2516, 'bonus': 534, 'worth': 4953, 'need': 2987, 'be': 418, 'fast': 1661, 'fully': 1847, 'documentary': 1307, 'extras': 1608, 'minor': 2857, 'worthy': 4956, 'addition': 118, 'any': 256, 'collection': 874, 'seeing': 3857, 'finally': 1724, 'australia': 356, 'made': 2697, 'wrong': 4973, 'pathetic': 3210, 'slasher': 4020, 'sorry': 4076, 'molly': 2884, 'having': 2054, 'come': 886, 'awful': 372, 'terrible': 4407, 'especially': 1520, 'australian': 357, 'guy': 2000, 'speak': 4094, 'american': 213, 'accent': 78, 'plot': 3309, 'when': 4862, 'first': 1736, 'heard': 2062, 'coming': 896, 'because': 432, 'sounds': 4084, 'cheesy': 781, 'scream': 3826, 'willing': 4889, 'let': 2579, 'warning': 4800, 'major': 2711, 'spoilers': 4124, 'probably': 3407, 'ending': 1471, 'expecting': 1578, 'big': 478, 'surprise': 4312, 'wasnt': 4807, 'even': 1533, 'human': 2188, 'turned': 4606, 'realistic': 3550, 'horror': 2168, 'dont': 1324, 'youll': 4988, 'disappointed': 1273, 'hoping': 2160, 'boy': 557, 'great': 1964, 'story': 4207, 'novel': 3052, 'original': 3129, 'smart': 4035, 'michael': 2829, 'douglas': 1334, 'sutherland': 4333, 'hard': 2033, 'him': 2110, 'role': 3726, '24': 39, 'eventually': 1537, 'different': 1248, 'than': 4420, 'another': 250, 'person': 3238, 'their': 4431, 'tv': 4610, 'back': 378, 'seat': 3845, 'entire': 1502, 'saw': 3798, 'constant': 957, 'dreams': 1355, 'couldnt': 1008, 'typical': 4623, 'two': 4620, 'sort': 4077, 'tragedy': 4551, 'manage': 2722, 'together': 4511, 'despite': 1211, 'odds': 3082, 'wouldnt': 4958, 'call': 651, 'spoiler': 4123, 'anyone': 259, 'knows': 2493, 'how': 2181, 'want': 4788, 'keep': 2449, 'reading': 3544, 'french': 1830, 'decent': 1147, 'lost': 2660, 'her': 2085, 'husband': 2204, 'son': 4070, 'accident': 84, 'needs': 2990, 'stop': 4201, 'doing': 1312, 'she': 3923, 'required': 3641, 'otherwise': 3137, 'actress': 105, 'cannot': 670, 'pull': 3461, 'kind': 2476, 'brad': 560, 'johnson': 2411, 'excellent': 1555, 'actor': 103, 'matt': 2768, 'rather': 3528, 'nasty': 2968, 'divorce': 1301, 'gentle': 1890, 'convincing': 985, 'compelling': 916, 'meet': 2793, 'beach': 419, 'initially': 2291, 'child': 789, 'talked': 4359, 'art': 304, 'kid': 2464, 'them': 4432, 'become': 433, 'friends': 1837, 'episode': 1507, 'then': 4436, 'couple': 1016, 'falls': 1640, 'chemistry': 782, 'between': 475, 'leads': 2548, 'talent': 4354, 'these': 4441, 'opinion': 3118, 'question': 3487, 'did': 1241, 'predictable': 3367, 'script': 3834, 'stereotypical': 4180, 'bigger': 479, 'secret': 3849, 'revealed': 3671, 'wish': 4904, 'wanted': 4789, 'mindless': 2851, 'entertainment': 1500, 'regard': 3588, 'romantic': 3733, 'affair': 135, 'turner': 4607, 'superior': 4300, 'book': 535, 'earlier': 1399, 'books': 536, 'roger': 3724, 'moore': 2901, 'screen': 3829, 'british': 589, 'actors': 104, 'future': 1856, 'starring': 4154, 'opposite': 3123, 'cousin': 1021, 'sexy': 3911, 'unseen': 4678, 'such': 4268, 'hopefully': 2157, 'uk': 4626, 'european': 1530, 'co': 867, 'productions': 3420, 'quite': 3495, 'clever': 841, 'seemed': 3862, 'enjoyed': 1486, 'nevertheless': 3002, 'reminded': 3619, 'me': 2778, 'little': 2624, 'city': 825, 'children': 792, 'mostly': 2910, 'quality': 3484, 'ups': 4686, 'characters': 760, 'set': 3898, 'prison': 3401, 'cell': 730, 'put': 3480, 'seemingly': 3863, 'goes': 1930, 'further': 1853, 'many': 2732, 'multi': 2935, 'blockbuster': 509, 'always': 203, 'interesting': 2325, 'arts': 310, 'making': 2718, 'believable': 453, 'scary': 3807, 'gore': 1941, 'viewing': 4740, 'offers': 3090, 'nothing': 3047, 'doesnt': 1309, 'succeed': 4262, 'level': 2584, 'horrible': 2163, 'long': 2644, 'obviously': 3072, 'length': 2569, 'sex': 3907, 'shocking': 3940, 'ended': 1470, 'up': 4683, 'parody': 3192, 'complete': 921, 'garbage': 1870, 'cant': 671, 'believe': 454, 'im': 2232, 'sure': 4308, 'dawson': 1128, 'cause': 723, 'break': 569, 'away': 369, 'hit': 2122, '17': 9, 'problem': 3408, 'adult': 125, 'stick': 4185, 'uninteresting': 4660, 'or': 3124, 'aimed': 162, 'teens': 4392, 'girls': 1911, 'never': 3001, 'met': 2822, 'before': 440, 'accidentally': 85, 'purpose': 3474, 'continued': 970, 'moments': 2887, 'intrigued': 2334, 'phone': 3255, 'police': 3322, 'yeah': 4977, 'idea': 2213, 'putting': 3482, 'hill': 2108, 'mild': 2839, 'dumb': 1385, 'murdered': 2940, 'revolves': 3682, 'around': 297, 'massive': 2756, 'logic': 2638, 'here': 2086, 'seem': 3861, 'ignored': 2225, 'murder': 2939, 'why': 4878, 'does': 1308, 'trial': 4580, 'rest': 3657, 'time': 4495, 'memory': 2804, 'someone': 4064, 'winter': 4900, 'crap': 1031, 'downhill': 1336, 'power': 3359, 'house': 2178, 'performance': 3228, 'lord': 2652, 'wealthy': 4827, 'greedy': 1969, 'type': 4621, 'terror': 4412, 'insane': 2296, 'wonderful': 4928, 'piece': 3272, 'should': 3951, 'watch': 4811, 'beautiful': 428, 'john': 2409, 'masterpiece': 2759, 'less': 2575, 'today': 4508, '35': 45, 'years': 4979, 'ago': 154, 'life': 2592, 'history': 2121, 'taking': 4352, 'place': 3282, 'late': 2523, '1960s': 15, 'final': 1722, 'west': 4852, 'war': 4792, 'social': 4049, 'variety': 4714, 'midnight': 2834, 'cowboy': 1025, 'widely': 4881, 'known': 2492, 'academy': 77, 'award': 366, 'winning': 4898, 'rating': 3529, 'behind': 447, 'fame': 1642, 'while': 4868, 'james': 2378, 'leo': 2571, '60s': 54, 'politics': 3326, 'looking': 2648, 'hidden': 2096, 'friendship': 1838, 'dealing': 1136, 'themes': 4434, 'familiar': 1643, 'main': 2707, 'standard': 4144, 'men': 2805, 'grand': 1953, 'offer': 3087, 'plenty': 3307, 'our': 3139, 'world': 4946, 'initial': 2290, 'focus': 1766, 'year': 4978, 'old': 3100, 'joe': 2407, 'buck': 605, 'physically': 3263, 'texas': 4418, 'native': 2972, 'played': 3297, 'jon': 2416, 'voight': 4764, 'opening': 3114, 'bus': 631, 'trip': 4588, 'new': 3003, 'york': 4985, 'plans': 3292, 'using': 4698, 'genuine': 1891, 'talents': 4356, 'pleasure': 3306, 'women': 4923, 'fortune': 1806, 'learn': 2550, 'upon': 4684, 'arrival': 299, 'laughably': 2531, 'trade': 4547, 'himself': 2111, 'hell': 2077, 'young': 4989, 'tricks': 4583, 'hoffman': 2128, 'con': 928, 'petty': 3249, 'thief': 4448, 'short': 3946, 'thin': 4449, 'proves': 3447, 'help': 2079, 'quickly': 3491, 'run': 3755, 'cash': 709, 'grows': 1985, 'severe': 3906, 'months': 2897, 'manhattan': 2726, 'apartment': 265, 'building': 615, 'hardly': 2036, 'dollar': 1314, 'square': 4136, 'period': 3236, 'develops': 1226, 'battle': 414, 'tremendous': 4579, 'throughout': 4478, 'including': 2264, 'grandmother': 1955, 'sally': 3776, 'ruth': 3763, 'white': 4870, 'served': 3894, 'relationship': 3597, 'annie': 247, 'jennifer': 2392, 'notorious': 3051, 'local': 2634, 'girl': 1909, 'event': 1535, 'town': 4541, 'folk': 1770, 'wild': 4885, 'flashbacks': 1747, 'dream': 1354, 'sequences': 3888, 'imagery': 2234, 'shed': 3924, 'light': 2595, 'backgrounds': 381, 'every': 1539, 'moment': 2886, 'understanding': 4645, 'gain': 1863, 'questions': 3489, 'lives': 2628, 'generated': 1882, 'clear': 839, 'sense': 3877, 'direction': 1261, 'until': 4680, 'illness': 2230, 'alive': 186, 'revelation': 3674, 'conclusion': 936, 'grim': 1974, 'badly': 383, 'luck': 2681, 'clearly': 840, 'uses': 4697, 'gritty': 1977, 'atmosphere': 333, 'screenplay': 3831, 'allowing': 191, 'look': 2646, 'extremely': 1610, 'natural': 2973, 'supporting': 4304, 'cast': 710, 'features': 1680, 'miles': 2843, 'brenda': 575, 'members': 2801, 'andy': 230, 'itself': 2371, 'essential': 1522, 'part': 3193, 'storyline': 4208, 'flashback': 1746, 'involving': 2349, 'impressive': 2253, 'wondering': 4930, 'era': 1513, 'thanks': 4423, 'cinematography': 820, 'adam': 111, 'fly': 1763, 'smoke': 4039, 'editing': 1421, 'hugh': 2186, 'visuals': 4759, 'soundtrack': 4085, 'barry': 401, 'unit': 4663, 'sometimes': 4067, 'videos': 4734, 'past': 3207, 'decades': 1145, 'lead': 2545, 'song': 4071, 'talking': 4360, 'used': 4693, 'track': 4544, 'during': 1387, 'theme': 4433, 'jean': 2389, 'released': 3603, 'disc': 1278, 'edition': 1422, 'mgm': 2828, 'contains': 964, 'commentary': 899, 'available': 361, 'review': 3676, 'format': 1799, 'digital': 1251, 'sound': 4081, 'three': 4469, 'subtitles': 4259, 'closed': 854, 'dubbing': 1380, 'theatrical': 4430, 're': 3535, 'trailer': 4554, 'eight': 1436, 'page': 3167, 'contain': 962, 'restored': 3659, 'version': 4720, 'showing': 3958, 'brilliance': 582, 'oscars': 3134, 'picture': 3269, 'hold': 2129, 'list': 2617, 'classics': 837, 'add': 115, 'previous': 3387, 'comments': 901, 'havent': 2053, 'already': 197, 'said': 3774, 'star': 4150, 'wars': 4804, 'tribute': 4581, 'believed': 455, 'genius': 1887, 'now': 3054, 'again': 146, 'rick': 3689, 'baker': 385, 'gave': 1875, 'rated': 3527, 'cool': 989, 'sucks': 4271, 'laughed': 2532, 'seconds': 3848, 'whats': 4860, 'gay': 1876, 'those': 4460, 'adding': 117, 'called': 652, 'absolutely': 72, 'director': 1264, 'advice': 133, 'waste': 4808, 'rent': 3626, 'youve': 4995, 'mother': 2911, 'lousy': 2667, 'total': 4531, 'highlight': 2103, 'able': 66, 'brief': 579, 'jump': 2429, 'potential': 3355, 'several': 3905, 'lived': 2626, 'area': 286, 'portrayed': 3342, 'racial': 3501, 'basketball': 409, 'meant': 2784, 'everything': 1544, 'culture': 1079, 'mediocre': 2791, 'poor': 3328, 'job': 2405, 'left': 2561, 'desired': 1206, 'events': 1536, 'billy': 482, 'wins': 4899, 'loses': 2657, 'returns': 3668, 'home': 2142, 'girlfriend': 1910, 'process': 3412, 'stories': 4205, 'build': 614, 'climax': 849, 'order': 3126, 'develop': 1222, 'must': 2950, 'apparently': 270, 'writers': 4969, 'forgot': 1796, 'rule': 3753, 'appreciated': 280, 'change': 749, 'pace': 3161, 'formulaic': 1803, 'sports': 4130, 'plain': 3286, 'cared': 685, 'successful': 4266, 'writing': 4971, 'others': 3136, 'leading': 2547, 'roles': 3727, 'leaves': 2556, 'wonder': 4926, 'replaced': 3634, 'entirely': 1503, 'previously': 3388, 'unknown': 4668, 'bothered': 549, 'ill': 2228, 'stars': 4155, 'ten': 4399, 'extra': 1606, 'kept': 2456, 'awake': 365, 'minutes': 2859, 'show': 3953, 'university': 4667, 'students': 4239, 'speech': 4102, 'media': 2789, 'law': 2538, 'lessons': 2578, 'timeless': 4496, 'speaking': 4095, 'against': 147, 'important': 2247, 'bring': 585, 'changes': 751, 'freedom': 1828, 'press': 3379, 'brought': 600, 'steven': 4182, 'donald': 1321, 'woods': 4935, 'gives': 1914, 'lesson': 2577, 'free': 1827, 'blow': 514, 'fire': 1734, 'once': 3106, 'begins': 444, 'catch': 714, 'wind': 4893, 'higher': 2101, 'peter': 3247, 'gabriel': 1859, 'tree': 4576, 'davies': 1125, 'understand': 4643, 'appeal': 271, 'dance': 1103, 'sing': 3992, 'hadnt': 2004, 'silent': 3975, 'comedies': 889, 'kidding': 2465, 'image': 2233, 'suggested': 4281, 'seems': 3864, 'satire': 3788, 'start': 4156, 'slapstick': 4019, 'highly': 2105, 'emotional': 1459, 'womens': 4924, 'pictures': 3270, 'count': 1010, 'top': 4525, 'rabbit': 3498, 'imitation': 2241, 'whenever': 4863, 'spot': 4131, 'colonel': 876, 'hollywood': 2137, 'determined': 1221, 'prove': 3445, 'greatest': 1966, 'hope': 2155, 'down': 1335, 'last': 2521, '40': 48, 'william': 4887, 'works': 4945, 'studios': 4241, 'promises': 3432, 'thinks': 4454, 'dramatic': 1348, 'studio': 4240, 'fantastic': 1651, 'comic': 893, 'convince': 983, 'preview': 3386, 'success': 4265, 'charlie': 765, 'chaplin': 756, 'asks': 319, 'treats': 4575, 'finds': 1728, 'suddenly': 4273, 'sees': 3866, 'gets': 1900, 'chance': 747, 'cry': 1073, 'hilarious': 2106, 'tries': 4585, 'succeeds': 4264, 'paul': 3214, 'forget': 1793, 'sophisticated': 4075, 'name': 2960, 'forgotten': 1797, 'dad': 1095, 'developed': 1223, 'personality': 3242, 'picks': 3268, 'same': 3778, 'location': 2635, 'attitude': 346, 'calls': 654, 'cheap': 774, 'clown': 862, 'knew': 2486, 'magnificent': 2705, 'shot': 3949, 'day': 1129, 'boss': 546, 'flop': 1760, 'public': 3460, 'tired': 4501, 'decide': 1148, 'married': 2744, 'says': 3801, 'serve': 3893, 'wedding': 4836, 'visits': 4756, 'pie': 3271, 'fight': 1707, 'amazing': 209, 'guest': 1992, 'wrote': 4974, 'whose': 4877, 'timing': 4498, 'harry': 2039, 'giving': 1915, '10': 0, 'recommended': 3572, 'ive': 2372, 'came': 656, 'almost': 193, 'everybody': 1540, 'agrees': 157, '11': 2, 'added': 116, 'narrative': 2966, 'weak': 4824, 'agree': 155, 'unnecessary': 4672, 'brothers': 599, 'finding': 1727, 'disaster': 1276, 'cliff': 847, 'tony': 4521, 'narration': 2965, 'living': 2629, 'tell': 4395, 'form': 1798, 'sum': 4289, 'facts': 1624, 'birth': 486, 'childhood': 790, 'etc': 1527, 'create': 1036, 'live': 2625, 'identify': 2216, 'ourselves': 3140, 'happened': 2027, 'told': 4513, 'worried': 4949, 'sick': 3963, 'brother': 598, 'second': 3846, 'true': 4596, 'recent': 3566, 'subject': 4253, 'none': 3028, 'view': 4736, 'totally': 4532, 'remember': 3616, 'cried': 1054, 'class': 833, 'fiction': 1702, 'telling': 4396, 'makes': 2716, 'us': 4690, 'conversation': 980, 'simple': 3983, 'struggling': 4236, 'folks': 1771, 'take': 4349, 'notch': 3043, 'directing': 1260, 'evening': 1534, 'italy': 2368, 'england': 1482, 'days': 1130, 'terrific': 4409, 'alfred': 181, 'joan': 2404, 'walker': 4778, 'lawrence': 2539, 'jim': 2402, 'richardson': 3688, 'under': 4639, 'mike': 2838, 'photographed': 3258, 'subtle': 4260, 'eye': 1611, 'bedroom': 437, 'farce': 1654, 'turn': 4605, 'century': 736, 'might': 2835, 'becomes': 434, 'worthwhile': 4955, 'experience': 1580, 'nature': 2975, 'within': 4912, 'viewer': 4738, 'artistic': 308, 'importance': 2246, 'caring': 691, 'zero': 4996, 'personal': 3240, 'scale': 3802, 'since': 3990, 'theater': 4427, 'rate': 3526, 'took': 4523, 'four': 1812, 'aged': 149, '15': 7, 'kids': 2467, 'site': 4005, 'amazed': 208, 'getting': 1901, 'overall': 3150, 'animation': 242, 'dinosaurs': 1256, 'looked': 2647, 'amateurish': 207, 'worse': 4951, 'sean': 3840, 'atrocious': 335, 'line': 2610, 'simply': 3986, 'silly': 3976, '30': 42, 'realize': 3552, 'knock': 2488, 'taken': 4350, 'massacre': 2754, 'hills': 2109, 'eyes': 1613, 'theyre': 4445, 'side': 3965, 'stupid': 4247, 'care': 684, 'happens': 2029, 'guys': 2001, 'blood': 512, 'executed': 1565, 'poorly': 3329, 'points': 3319, 'technology': 4385, 'fill': 1714, 'background': 380, 'grace': 1950, 'witness': 4914, 'kings': 2481, 'execution': 1566, 'striking': 4226, 'strangely': 4212, 'video': 4733, 'failing': 1627, 'sheer': 3925, 'creates': 1038, 'effect': 1428, 'frank': 1821, 'lady': 2507, 'duke': 1383, 'regret': 3591, 'lucy': 2684, 'virtually': 4751, 'emotion': 1458, 'friend': 1835, 'de': 1131, 'head': 2057, 'caused': 724, 'laughter': 2535, 'hands': 2020, 'disappointing': 1274, 'given': 1913, 'reviews': 3679, 'tried': 4584, 'bear': 420, 'minded': 2850, 'cliché': 844, 'ridden': 3691, 'boring': 543, 'annoying': 249, 'indeed': 2271, 'remains': 3611, 'afraid': 140, 'often': 3095, 'write': 4967, 'warn': 4797, 'premise': 3370, 'colour': 880, 'gender': 1878, 'whatever': 4859, 'enough': 1491, 'done': 1322, 'actual': 108, 'transformation': 4560, 'chicks': 787, 'specific': 4099, 'guessed': 1990, 'fail': 1625, 'completely': 922, 'drag': 1342, 'without': 4913, 'makeup': 2717, 'effects': 1431, 'provide': 3448, 'appalling': 268, 'mix': 2876, 'player': 3298, 'built': 618, 'holes': 2133, 'course': 1019, 'hits': 2125, 'avoid': 363, 'plague': 3285, 'unfortunately': 4654, 'across': 96, 'found': 1811, 'incredibly': 2270, 'suck': 4269, 'mean': 2779, 'orange': 3125, 'hat': 2045, 'creative': 1041, 'definitely': 1162, 'costumes': 1006, 'interviews': 2330, 'basically': 407, 'charisma': 762, 'wrestling': 4966, 'idiots': 2220, 'weapons': 4829, 'audio': 354, 'fan': 1648, 'huge': 2185, 'rush': 3759, 'feels': 1687, 'usually': 4700, 'corny': 997, 'ordinary': 3128, 'powerful': 3360, 'california': 650, 'body': 527, 'super': 4295, 'bodies': 526, 'machines': 2694, 'complexity': 924, '50': 51, 'minute': 2858, 'hours': 2177, 'still': 4188, 'working': 4944, 'listen': 2619, 'inside': 2297, 'heart': 2064, 'looks': 2649, 'alien': 183, 'your': 4991, 'tiny': 4500, 'development': 1225, 'mothers': 2912, 'surprisingly': 4316, 'shy': 3962, 'stomach': 4196, 'style': 4249, 'apart': 264, 'documentaries': 1306, 'instance': 2304, 'weve': 4856, 'tune': 4602, 'lets': 2580, 'health': 2060, 'fun': 1848, 'tonight': 4519, 'nyc': 3065, 'sunshine': 4294, 'expect': 1575, 'id': 2212, 'matter': 2769, 'anti': 254, 'soldiers': 4054, 'mainly': 2708, 'spoke': 4125, 'training': 4558, 'boot': 538, 'camp': 662, 'returned': 3666, 'surviving': 4323, 'command': 897, 'mistake': 2871, 'souls': 4080, 'watched': 4813, 'sunday': 4293, 'family': 1645, 'festival': 1697, 'enjoyable': 1485, 'suitable': 4285, 'songs': 4072, 'outstanding': 3147, 'words': 4938, 'describe': 1194, 'anyways': 262, 'else': 1448, 'akshay': 169, 'half': 2007, 'unexpected': 4650, 'perfect': 3224, 'twice': 4613, 'sad': 3767, 'bollywood': 530, 'chooses': 800, 'ya': 4976, 'father': 1666, 'pity': 3281, 'season': 3843, 'producers': 3416, 'classic': 835, 'chris': 806, 'carter': 703, 'night': 3013, 'shows': 3960, 'viewers': 4739, 'comes': 891, 'appear': 273, 'agent': 150, 'arthur': 305, 'helping': 2081, 'favorite': 1671, 'cases': 708, 'paying': 3217, 'homage': 2141, 'bringing': 586, 'david': 1124, 'deliver': 1169, 'brings': 587, 'self': 3869, 'cusack': 1088, 'garden': 1872, 'evil': 1548, 'difference': 1246, 'supposed': 4306, 'southern': 4088, 'al': 170, 'pacino': 3164, 'walking': 4779, 'hes': 2093, 'usual': 4699, 'throw': 4479, 'female': 1693, 'interest': 2323, 'convoluted': 987, 'cares': 690, 'tale': 4353, 'search': 3841, 'act': 97, 'credibility': 1047, 'revealing': 3672, 'profound': 3423, 'wont': 4932, 'numbers': 3061, 'pile': 3275, 'junk': 2436, 'am': 204, 'burt': 629, 'reynolds': 3684, 'stinks': 4192, 'twist': 4617, 'five': 1743, 'westerns': 4854, 'stands': 4147, 'practically': 3362, 'alone': 194, 'dialog': 1232, 'western': 4853, 'consistently': 954, 'maybe': 2776, 'exception': 1557, 'bunch': 623, 'junior': 2435, 'perhaps': 3235, 'drew': 1360, 'truly': 4597, 'kills': 2474, 'sheriff': 3929, 'stuff': 4243, 'rare': 3523, 'whether': 4866, 'gone': 1935, 'brain': 562, 'hurt': 2202, 'definite': 1161, 'filmed': 1717, '1999': 27, 'mark': 2739, 'hamilton': 2012, 'julia': 2427, 'jerry': 2396, 'jeremy': 2394, 'leonard': 2572, 'roberts': 3714, 'bill': 481, 'charles': 764, 'mini': 2854, 'full': 1846, 'feature': 1678, 'driven': 1365, 'taylor': 4372, 'families': 1644, 'killed': 2469, 'halfway': 2008, 'incoherent': 2265, 'downright': 1337, '2nd': 41, 'pg': 3250, '13': 4, 'endless': 1473, 'quest': 3486, 'recently': 3567, 'reason': 3557, 'due': 1382, 'abandoned': 62, 'wasted': 4809, 'beer': 439, 'slaughter': 4021, 'starts': 4159, 'pick': 3265, 'picked': 3266, 'group': 1980, 'ultra': 4629, 'ugly': 4625, 'losers': 2656, 'hot': 2174, 'arent': 288, 'picking': 3267, 'assume': 328, 'casting': 711, 'choices': 798, 'horrendous': 2162, 'thirty': 4456, 'reviewers': 3678, 'pointed': 3317, 'accents': 79, 'numerous': 3062, 'reunion': 3669, 'shown': 3959, 'lame': 2510, 'scooby': 3820, 'doo': 1325, 'lines': 2612, 'skip': 4016, 'unless': 4669, 'wanna': 4786, 'bay': 416, '14': 6, 'heck': 2071, 'dawn': 1127, 'burning': 627, 'vhs': 4725, 'incomprehensible': 2267, 'growing': 1983, 'menace': 2806, 'visual': 4757, 'landscape': 2513, 'ancient': 225, 'authentic': 358, 'franco': 1820, '1968': 16, 'equally': 1510, 'became': 431, 'screens': 3832, 'maria': 2736, 'may': 2775, 'broadcast': 591, '2001': 31, 'ways': 4822, 'certainly': 738, 'pride': 3391, 'myself': 2953, 'movement': 2923, 'ears': 1402, 'reveal': 3670, 'ear': 1397, 'somewhere': 4069, 'shouldnt': 3952, 'table': 4346, 'letting': 2583, 'decides': 1150, 'twin': 4615, 'sister': 4001, 'find': 1726, 'zombie': 4997, 'ghost': 1902, 'directly': 1263, 'deal': 1135, 'suspect': 4327, 'plan': 3287, 'pretend': 3381, 'idiot': 2218, 'herself': 2092, 'spirits': 4115, 'water': 4816, 'innocent': 2294, 'die': 1243, 'drawn': 1351, 'grade': 1951, 'nostalgic': 3039, 'journey': 2421, 'ones': 3108, 'forth': 1804, 'lion': 2614, 'latter': 2528, 'brady': 561, 'saturday': 3792, 'sea': 3838, 'land': 2511, 'marie': 2737, 'aka': 168, 'halloween': 2010, 'beyond': 476, 'keeps': 2451, 'moving': 2928, 'expectations': 1576, 'march': 2734, 'monsters': 2893, 'recall': 3562, 'marty': 2749, 'steve': 4181, 'cover': 1022, 'honestly': 2147, 'store': 4204, 'advertising': 132, 'goofy': 1939, 'figured': 1712, 'glad': 1916, 'charming': 768, 'meets': 2795, 'dead': 1132, 'concept': 930, 'happen': 2026, 'attack': 337, 'zombies': 4998, 'overlooked': 3154, 'blown': 516, '1950s': 14, 'alternate': 200, 'universe': 4666, 'space': 4090, 'humanity': 2189, 'continue': 969, 'normal': 3033, 'named': 2961, 'provides': 3450, 'remote': 3622, 'control': 977, 'flesh': 1753, 'helen': 2075, 'spite': 4117, 'next': 3007, 'neighbor': 2992, 'turns': 4609, 'pair': 3176, 'missing': 2869, 'capture': 676, 'try': 4600, 'neighbors': 2994, 'destroyed': 1214, 'learns': 2553, 'factory': 1623, 'rescue': 3643, 'hopes': 2159, 'intended': 2315, 'attacked': 338, 'werent': 4849, 'mention': 2810, 'disturbing': 1300, 'laughs': 2534, 'leave': 2555, '40s': 49, 'clothes': 860, 'grey': 1973, 'margaret': 2735, 'eccentric': 1414, 'yes': 4982, 'nobody': 3022, 'shes': 3930, 'earth': 1403, 'joke': 2414, 'females': 1694, 'retired': 3664, 'contrast': 975, 'wacky': 4769, 'beliefs': 452, 'americans': 214, 'stiff': 4187, 'upper': 4685, 'oh': 3096, 'lose': 2654, 'constantly': 958, 'remarks': 3615, '2000': 30, 'filmmaker': 1719, 'desperately': 1209, 'wants': 4791, 'win': 4892, 'car': 680, 'record': 3573, 'doors': 1329, 'reporter': 3636, 'news': 3005, 'newspaper': 3006, 'ironically': 2356, 'planned': 3290, 'compared': 912, 'humour': 2194, 'darker': 1116, 'tone': 4517, 'depressing': 1188, 'happy': 2032, 'absurd': 73, 'unbelievable': 4634, 'stunning': 4244, 'images': 2235, 'bleak': 503, 'settings': 3901, 'artificial': 306, 'brilliant': 583, 'cult': 1077, 'charismatic': 763, 'ben': 463, 'small': 4033, 'interview': 2329, 'convinced': 984, 'offered': 3088, 'return': 3665, 'anymore': 258, 'misery': 2865, 'torn': 4528, 'feeling': 1685, 'dr': 1340, 'composed': 926, 'sat': 3786, 'sit': 4003, 'pet': 3246, 'dolph': 1317, 'la': 2500, 'van': 4713, 'certain': 737, 'degree': 1164, 'career': 686, 'strange': 4211, 'tied': 4489, 'seriously': 3892, 'serious': 3891, 'thriller': 4472, 'imdb': 2240, 'campy': 664, 'complex': 923, 'intelligent': 2314, 'shallow': 3917, 'confusing': 942, 'gratuitous': 1961, 'range': 3516, 'limited': 2606, 'yet': 4984, 'immediately': 2242, 'porn': 3336, 'former': 1800, 'cop': 991, 'alcoholic': 177, 'play': 3296, 'detective': 1220, 'aside': 315, 'investigate': 2342, 'crime': 1055, 'witnesses': 4916, 'lack': 2502, 'widow': 4883, 'considering': 952, 'negative': 2991, 'victor': 4731, 'villain': 4744, 'closely': 855, 'ridiculous': 3693, 'games': 1865, 'ridiculously': 3694, 'nearly': 2981, 'naked': 2959, 'explain': 1586, 'listed': 2618, 'wilson': 4891, 'somehow': 4063, 'watchable': 4812, 'face': 1616, 'anthony': 253, 'infamous': 2284, 'flicks': 1755, 'core': 995, 'suspense': 4330, 'sadly': 3769, 'unlike': 4670, 'modern': 2882, 'saying': 3800, 'exciting': 1563, 'consider': 949, 'excessive': 1560, 'nudity': 3059, 'topless': 4527, 'showed': 3956, 'youre': 4992, 'desperate': 1208, 'stay': 4166, '2007': 37, 'choose': 799, 'allow': 189, 'flow': 1762, 'credit': 1049, 'tension': 4404, 'awkward': 374, 'tender': 4401, 'sadness': 3770, 'learned': 2551, 'setting': 3900, 'wow': 4962, 'carpenter': 694, 'celluloid': 731, 'utter': 4701, 'porno': 3337, 'sub': 4252, 'par': 3184, 'normally': 3034, 'ron': 3734, 'thinking': 4453, 'somebody': 4062, 'fed': 1682, 'rolled': 3729, 'whatsoever': 4861, 'central': 735, 'religious': 3608, 'devils': 1229, 'chose': 804, 'terribly': 4408, 'acted': 98, 'kill': 2468, 'horribly': 2164, 'doctors': 1305, 'calm': 655, 'pregnant': 3369, 'single': 3996, 'god': 1926, 'please': 3304, 'mind': 2849, 'started': 4157, 'consists': 955, 'unrealistic': 4677, 'cat': 713, 'bored': 541, 'suicide': 4283, 'mission': 2870, 'bother': 548, 'shock': 3938, 'involved': 2346, 'arrested': 298, 'absence': 70, 'agreed': 156, 'trek': 4578, 'reviewer': 3677, 'millions': 2848, 'waiting': 4772, 'forced': 1787, 'bland': 500, 'beat': 423, 'lacks': 2505, 'nose': 3037, 'heads': 2059, 'versions': 4721, '2003': 33, 'reputation': 3640, 'scottish': 3825, 'whos': 4876, 'nowhere': 3056, 'jobs': 2406, 'quirky': 3493, 'obsessed': 3069, 'bits': 490, 'banned': 395, 'sleeping': 4025, 'sounded': 4082, '16': 8, 'drama': 1346, 'project': 3427, 'wandering': 4785, 'round': 3742, 'nights': 3016, 'walk': 4775, 'changed': 750, 'via': 4726, 'program': 3424, 'overrated': 3156, 'danny': 1112, 'headed': 2058, 'rubber': 3747, 'gun': 1996, 'actions': 101, 'standards': 4145, 'veteran': 4724, 'theyve': 4446, 'murderer': 2941, 'race': 3499, 'frame': 1815, 'street': 4216, 'naturally': 2974, 'rich': 3685, 'committed': 905, 'propaganda': 3435, 'commit': 904, '80s': 59, '90s': 61, 'crimes': 1056, '60': 53, 'da': 1094, 'push': 3477, 'means': 2783, 'state': 4160, 'stuck': 4237, 'medical': 2790, 'kick': 2460, 'favor': 1670, 'criminals': 1058, 'figures': 1713, 'nazis': 2978, 'careers': 687, 'von': 4765, 'independent': 2272, 'resources': 3651, 'marriage': 2743, 'views': 4742, 'fell': 1690, 'longer': 2645, 'wondered': 4927, 'thrown': 4481, 'express': 1600, 'mtv': 2933, 'crowd': 1067, 'contrived': 976, 'twists': 4619, 'issues': 2365, 'slight': 4027, 'ends': 1474, 'filled': 1715, 'hotel': 2175, 'discovers': 1281, 'room': 3735, 'attend': 344, 'shorts': 3948, 'discovered': 1280, 'blew': 505, 'accomplished': 87, 'fish': 1738, 'cats': 721, 'mouth': 2920, 'stand': 4143, 'symbolism': 4341, 'substance': 4258, 'heres': 2087, 'craft': 1028, 'turning': 4608, 'mysterious': 2955, 'developing': 1224, 'resort': 3650, 'closest': 857, 'caught': 722, 'visually': 4758, 'distance': 1294, 'material': 2766, 'bit': 488, 'imagine': 2238, 'scenario': 3808, 'washington': 4806, 'weekend': 4838, 'finished': 1733, 'sarah': 3785, 'engage': 1479, 'sold': 4052, 'bank': 394, 'prom': 3429, 'fancy': 1649, 'office': 3091, 'stranger': 4213, 'ask': 316, 'punch': 3466, 'cut': 1089, 'intelligence': 2313, 'laughing': 2533, 'loud': 2664, 'robots': 3718, 'dogs': 1311, 'possibly': 3351, 'hate': 2046, 'spell': 4104, 'titles': 4506, 'summary': 4290, 'library': 2589, 'food': 1778, 'author': 359, 'average': 362, 'nicely': 3009, 'directed': 1259, 'beginning': 443, 'middle': 2833, 'serial': 3889, 'delivered': 1170, 'wrap': 4963, 'theres': 4440, 'missed': 2867, 'obvious': 3071, 'understood': 4647, 'meaning': 2780, 'holding': 2130, 'peace': 3219, 'easy': 1410, 'situation': 4008, 'solution': 4059, 'revenge': 3675, 'sides': 3967, 'tales': 4357, 'justify': 2439, 'partly': 3197, 'naive': 2958, 'tells': 4397, 'related': 3594, 'problems': 3409, 'brave': 567, 'writer': 4968, 'lovers': 2673, 'troubled': 4593, 'male': 2719, 'honest': 2146, 'hearts': 2066, 'peoples': 3222, 'sexuality': 3909, 'inevitable': 2282, 'watches': 4814, 'silence': 3974, 'continues': 971, 'train': 4556, 'wreck': 4965, 'thoughts': 4464, 'green': 1971, 'user': 4696, 'introduce': 2336, 'laurel': 2537, 'hardy': 2037, 'everywhere': 1545, 'commented': 900, 'based': 404, 'beloved': 461, 'rocky': 3723, 'ad': 110, 'taught': 4370, 'abraham': 69, 'stage': 4139, 'trouble': 4592, 'television': 4394, 'trash': 4565, 'superman': 4301, 'includes': 2263, 'disappointment': 1275, 'mentally': 2809, 'kirk': 2482, 'george': 1893, 'odd': 3080, 'clip': 851, 'hey': 2095, 'ho': 2127, 'episodes': 1508, 'cinema': 816, 'advance': 127, 'choice': 797, 'reasons': 3560, 'age': 148, 'surprises': 4314, 'concerns': 934, 'population': 3335, 'worlds': 4947, 'oil': 3097, 'opens': 3115, 'wells': 4845, 'steps': 4177, 'conflicts': 940, 'lane': 2515, 'report': 3635, 'company': 910, 'clark': 832, 'expressions': 1603, 'faces': 1618, 'deep': 1154, 'breath': 573, 'remaining': 3610, 'scare': 3803, 'jeff': 2390, 'creatures': 1046, 'catches': 715, 'takes': 4351, 'hospital': 2172, 'burn': 625, 'fellow': 1691, 'escapes': 1519, 'legs': 2566, 'lynch': 2691, 'mob': 2879, 'hang': 2022, 'stops': 4203, 'weapon': 4828, 'sole': 4055, 'saves': 3796, 'saving': 3797, 'amount': 219, 'following': 1774, 'engaged': 1480, 'creepy': 1052, 'eyed': 1612, 'reaction': 3541, 'hair': 2005, 'improvement': 2256, 'strike': 4224, 'finger': 1731, 'running': 3756, 'flight': 1757, 'bullets': 621, 'vision': 4754, 'present': 3374, 'effort': 1432, 'reference': 3582, 'thankfully': 4422, 'example': 1553, 'awfully': 373, 'hence': 2083, 'kinda': 2477, 'competition': 918, 'presents': 3377, 'lie': 2590, 'third': 4455, 'ruin': 3750, 'breasts': 572, 'heavy': 2070, 'drinking': 1362, 'presence': 3373, 'nude': 3058, 'courage': 1018, 'led': 2558, 'vote': 4766, 'errors': 1516, 'viewed': 4737, 'dramas': 1347, 'produced': 3414, 'anywhere': 263, 'raw': 3532, 'situations': 4009, 'cops': 993, 'victims': 4730, 'seasons': 3844, 'sell': 3871, 'loss': 2659, 'alex': 179, 'ted': 4386, 'becoming': 435, 'near': 2979, 'rock': 3720, 'popular': 3333, 'likes': 2602, 'destroy': 1213, 'sent': 3880, 'travel': 4567, 'heaven': 2068, 'save': 3794, 'tom': 4514, 'sequel': 3885, 'entertaining': 1499, 'redemption': 3578, 'steals': 4172, 'amusing': 221, 'sequels': 3886, 'briefly': 580, 'appears': 278, 'fantasy': 1652, 'extent': 1605, 'nonsense': 3030, 'improved': 2255, 'anyway': 261, 'rubbish': 3748, 'enjoy': 1484, 'deeper': 1155, 'introduction': 2339, 'anna': 245, 'german': 1896, 'except': 1556, 'garbo': 1871, 'usa': 4691, 'primarily': 3393, 'europe': 1529, 'compare': 911, 'analysis': 224, 'common': 906, 'similar': 3978, 'scripts': 3836, 'presented': 3376, 'humorous': 2193, 'park': 3190, 'curiosity': 1082, 'speaks': 4096, 'occurred': 3077, 'created': 1037, 'talks': 4361, 'perfectly': 3226, 'therefore': 4439, 'comment': 898, 'issue': 2364, 'portrayal': 3341, 'captivating': 675, 'differences': 1247, 'todays': 4509, 'perspective': 3245, 'stood': 4199, 'test': 4416, 'claim': 828, 'questionable': 3488, 'carries': 699, 'truth': 4599, 'sympathetic': 4342, 'shines': 3932, 'vs': 4767, 'portrays': 3344, 'alcohol': 176, 'fears': 1677, 'meeting': 2794, 'facial': 1619, 'flawless': 1751, 'whom': 4875, 'slightly': 4029, 'accurate': 90, 'discover': 1279, 'pure': 3471, 'boredom': 542, 'dark': 1115, 'suspenseful': 4331, 'poster': 3353, 'suppose': 4305, 'lena': 2568, 'richard': 3686, 'reasonable': 3558, 'above': 68, 'boyfriend': 558, 'sisters': 4002, 'filmmakers': 1720, 'couldve': 1009, '20': 29, 'mirror': 2861, 'empty': 1465, 'visible': 4753, 'hanging': 2023, 'wall': 4781, 'thrill': 4471, 'lit': 2621, 'begin': 442, 'threatening': 4468, 'darkness': 1117, 'thrills': 4475, 'expected': 1577, 'blank': 501, 'killing': 2472, 'touches': 4535, 'dare': 1113, 'fashion': 1659, 'genuinely': 1892, 'stylish': 4251, 'hire': 2116, 'imaginative': 2237, 'screenwriter': 3833, 'powers': 3361, 'surreal': 4317, 'singing': 3995, 'greek': 1970, 'chorus': 803, 'wit': 4908, 'romance': 3732, 'werewolf': 4850, 'wolf': 4920, 'dennis': 1179, 'priceless': 3390, 'quotes': 3497, 'section': 3853, 'blond': 510, 'surprised': 4313, 'liners': 2611, 'packed': 3166, 'tons': 4520, 'explosions': 1597, 'till': 4493, 'buff': 611, 'spend': 4105, 'sam': 3777, 'glorious': 1921, 'falk': 1636, 'vehicle': 4718, 'elizabeth': 1445, 'youd': 4987, 'impression': 2252, 'giant': 1905, 'appropriate': 283, 'actresses': 106, 'pointless': 3318, 'road': 3709, 'cute': 1090, 'precious': 3366, 'psychological': 3458, 'insight': 2298, 'restaurant': 3658, 'hoped': 2156, 'false': 1641, 'brand': 565, 'protagonist': 3441, 'cage': 645, 'unlikely': 4671, 'johnny': 2410, 'sings': 3997, 'blonde': 511, 'depiction': 1185, 'jesus': 2399, 'jewish': 2401, 'presentation': 3375, 'air': 164, 'friday': 1834, 'nine': 3017, 'network': 3000, 'simon': 3982, 'reached': 3537, 'hand': 2015, 'combat': 882, 'supernatural': 4302, 'vampires': 4712, 'ghosts': 1903, 'possible': 3350, 'spirit': 4113, 'indian': 2274, 'chief': 788, 'current': 1084, 'showdown': 3955, 'beast': 422, 'energy': 1478, 'enthusiasm': 1501, 'deserves': 1201, 'hall': 2009, 'quote': 3496, 'noticed': 3049, 'album': 175, 'death': 1141, 'mainstream': 2709, 'comics': 895, 'candy': 668, 'east': 1407, 'heroes': 2089, 'word': 4937, 'wrapped': 4964, 'filming': 1718, '2002': 32, 'according': 88, 'website': 4834, 'safe': 3771, 'stayed': 4167, 'rotten': 3740, 'number': 3060, 'talented': 4355, 'comedian': 887, 'persona': 3239, 'owner': 3159, 'parker': 3191, 'cuts': 1091, 'sends': 3876, 'rob': 3710, 'frequently': 1832, 'jokes': 2415, 'mr': 2929, 'respect': 3652, 'oscar': 3133, 'nominated': 3025, 'ed': 1415, 'jr': 2423, 'smith': 4038, 'countless': 1012, 'afford': 138, 'member': 2800, 'ensemble': 1492, 'irony': 2357, 'insulting': 2310, 'physical': 3262, 'gags': 1862, 'monkey': 2890, 'jumps': 2432, 'gag': 1861, 'direct': 1258, 'slightest': 4028, 'excuse': 1564, '90': 60, 'forgettable': 1794, 'unusual': 4681, 'bbc': 417, 'witty': 4917, 'gary': 1873, 'relatively': 3600, 'pleasantly': 3303, 'gross': 1978, 'pacing': 3163, 'content': 966, 'attempts': 343, 'allowed': 190, 'share': 3920, 'protagonists': 3442, 'ie': 2221, 'reflection': 3585, 'generally': 1881, 'likable': 2598, 'apparent': 269, 'ruthless': 3764, 'scripted': 3835, 'brilliantly': 584, 'superbly': 4297, 'thoroughly': 4459, 'pleasant': 3302, 'smile': 4036, 'loved': 2670, 'howard': 2182, 'checking': 778, 'buy': 640, 'haunting': 2051, 'remake': 3612, 'equal': 1509, 'speed': 4103, 'cruise': 1071, 'adequate': 120, 'doctor': 1304, 'pretending': 3382, 'sleep': 4024, 'capable': 672, 'catherine': 719, 'jones': 2418, 'rise': 3702, 'handed': 2016, 'edge': 1418, 'whoever': 4872, 'wooden': 4934, 'expression': 1602, 'ahead': 159, 'worked': 4941, 'haunted': 2050, 'result': 3660, 'mental': 2808, 'leaving': 2557, 'imagination': 2236, 'blair': 497, 'witch': 4909, 'cgi': 740, 'fake': 1635, 'underrated': 4642, 'jackson': 2375, 'providing': 3451, 'relief': 3605, 'demon': 1177, 'bed': 436, 'unintentionally': 4659, 'uninspired': 4657, 'painting': 3175, 'dragged': 1343, 'orson': 3132, 'welles': 4844, 'citizen': 824, 'kane': 2442, 'eg': 1434, 'unforgettable': 4652, 'pieces': 3273, 'featuring': 1681, 'beautifully': 429, 'mentioned': 2811, 'miss': 2866, 'gorgeous': 1942, 'bizarre': 492, 'closing': 859, '1940s': 13, 'noir': 3023, 'red': 3576, 'treat': 4572, 'term': 4405, 'neo': 2998, 'impact': 2244, 'deserved': 1200, 'described': 1195, 'tight': 4492, 'hooked': 2153, 'fifteen': 1706, 'contemporary': 965, 'passionate': 3206, 'crafted': 1029, 'damn': 1100, 'relation': 3595, 'popcorn': 3331, 'ticket': 4487, 'dear': 1140, 'theatre': 4429, 'redeeming': 3577, 'college': 875, 'dog': 1310, 'spiritual': 4116, 'succeeded': 4263, 'match': 2762, 'hip': 2114, 'musical': 2947, 'pop': 3330, 'knowing': 2490, 'among': 217, 'cinematic': 818, 'daddy': 1096, 'christopher': 811, 'lee': 2559, 'passed': 3202, 'victim': 4729, 'wallace': 4782, 'renting': 3629, 'cable': 644, 'melodrama': 2797, 'barbara': 397, 'stanwyck': 4149, 'dies': 1245, 'france': 1816, 'danger': 1109, 'losing': 2658, 'sacrifice': 3766, 'secretly': 3851, 'estate': 1525, 'tear': 4379, 'passes': 3203, 'court': 1020, 'assumed': 329, 'famous': 1647, 'interested': 2324, 'copy': 994, 'reed': 3580, 'luke': 2687, 'walter': 4784, 'died': 1244, 'computer': 927, 'value': 4709, 'impossible': 2249, 'thank': 4421, 'scenery': 3810, 'connect': 944, 'fox': 1814, 'fashioned': 1660, 'childrens': 793, 'nowadays': 3055, 'prefer': 3368, 'toy': 4542, 'introduced': 2337, 'beauty': 430, 'ages': 152, 'complicated': 925, 'suffice': 4279, 'sweet': 4336, 'robert': 3713, 'enjoying': 1487, 'ryan': 3765, 'mary': 2751, 'sentimental': 3882, 'highlights': 2104, 'semi': 3874, 'grew': 1972, 'showcase': 3954, 'campbell': 663, 'shop': 3945, 'wouldve': 4959, 'finale': 1723, 'onto': 3111, 'admit': 122, 'planet': 3289, 'suggest': 4280, 'pulled': 3462, 'joseph': 2419, 'eric': 1514, 'fits': 1741, 'forward': 1808, 'sci': 3815, 'fi': 1701, 'gotta': 1946, 'taste': 4369, 'types': 4622, 'scarecrow': 3804, 'ring': 3698, 'emily': 1456, 'rose': 3739, 'childish': 791, 'pass': 3201, 'remind': 3618, 'suit': 4284, 'america': 212, 'lewis': 2586, 'sidney': 3968, 'size': 4012, 'united': 4664, 'kingdom': 2480, 'government': 1948, 'society': 4050, 'crisis': 1060, 'capital': 673, 'clothing': 861, 'kinds': 2478, 'chasing': 772, 'oliver': 3102, 'potentially': 3356, 'chase': 769, 'sign': 3970, 'fever': 1699, 'cruel': 1070, 'amy': 222, 'adams': 112, 'fool': 1779, 'intentions': 2321, 'prime': 3395, 'heavily': 2069, 'aware': 368, 'emma': 1457, 'diana': 1237, 'prince': 3396, 'costume': 1005, 'superhero': 4299, 'teen': 4388, 'incredible': 2269, 'ideas': 2215, 'epic': 1506, 'spy': 4135, 'elements': 1443, 'intriguing': 2335, 'needed': 2988, 'drawing': 1350, 'board': 522, 'faithful': 1634, 'comparison': 914, 'historical': 2119, 'gene': 1879, 'sake': 3775, 'inspiration': 2300, 'sentence': 3881, 'breaking': 570, 'chain': 741, 'gang': 1867, 'mexican': 2826, 'border': 539, 'jail': 2376, 'safety': 3772, 'officer': 3092, 'heston': 2094, 'explains': 1589, 'fired': 1735, 'proud': 3444, 'hero': 2088, 'blows': 517, 'bright': 581, 'touch': 4533, 'morgan': 2905, 'larry': 2520, 'andrew': 228, 'originally': 3131, 'influence': 2286, 'liberal': 2588, 'relevant': 3604, 'system': 4345, 'realized': 3553, 'happiness': 2031, 'mature': 2773, '25': 40, 'humor': 2192, 'message': 2819, 'split': 4120, 'coherent': 871, 'logical': 2639, 'roots': 3738, 'ah': 158, 'crew': 1053, 'asleep': 320, 'praise': 3364, 'awesome': 371, 'bore': 540, 'fond': 1776, 'post': 3352, 'metal': 2823, 'pool': 3327, 'drink': 1361, 'scared': 3805, 'mask': 2752, 'rocks': 3722, 'crappy': 1032, 'nostalgia': 3038, 'purposes': 3475, 'hunt': 2198, 'dust': 1388, 'queen': 3485, 'whereas': 4865, 'masterful': 2758, 'lacking': 2504, 'firstly': 1737, 'saga': 3773, 'superficial': 4298, 'marks': 2742, 'parts': 3199, 'prepared': 3371, 'inspired': 2301, 'iii': 2227, 'lengthy': 2570, 'generations': 1884, 'kudos': 2497, 'japanese': 2382, 'duo': 1386, 'angel': 231, 'belong': 459, 'elderly': 1440, 'reduced': 3579, 'desperation': 1210, 'jimmy': 2403, 'stewart': 4184, 'gotten': 1947, 'henry': 2084, '100': 1, 'ties': 4490, 'deceased': 1146, 'basic': 406, 'accepted': 82, 'moved': 2922, 'foster': 1809, 'conflict': 939, 'starting': 4158, 'nomination': 3026, 'irish': 2353, 'hear': 2061, 'carry': 700, 'faith': 1633, 'stellar': 4174, 'adventure': 130, 'directors': 1266, 'mountain': 2917, 'demand': 1174, 'san': 3780, 'francisco': 1819, 'complain': 919, 'yourself': 4993, 'thomas': 4458, 'convey': 982, 'transition': 4561, 'struggles': 4235, 'survive': 4321, 'dirty': 1268, 'formula': 1802, 'pushing': 3479, 'political': 3324, 'correct': 1000, 'seek': 3858, 'neat': 2982, 'lighting': 2596, 'husbands': 2205, 'stooges': 4200, 'cook': 988, 'fit': 1740, 'fresh': 1833, 'dress': 1357, 'princess': 3397, 'wonderfully': 4929, 'suspicious': 4332, 'guard': 1988, 'nicholas': 3010, 'bat': 410, 'credits': 1050, 'appeared': 276, 'dynamic': 1394, 'spider': 4109, 'polished': 3323, 'rage': 3505, 'bought': 552, '2005': 35, 'adapted': 114, 'soldier': 4053, 'understated': 4646, 'uncle': 4636, 'nor': 3032, 'vegas': 4717, 'dickens': 1240, 'blue': 518, 'critics': 1064, 'hype': 2207, 'revolutionary': 3681, 'upset': 4687, 'kicked': 2461, 'contact': 961, 'countries': 1013, 'theaters': 4428, 'rights': 3697, 'advise': 134, 'kate': 2446, 'ashley': 313, 'guilt': 1994, 'liking': 2604, 'shark': 3921, 'monster': 2892, 'island': 2361, 'channels': 754, 'creating': 1039, 'creature': 1045, 'hunter': 2199, 'misses': 2868, 'military': 2844, 'thugs': 4484, 'primary': 3394, 'arrives': 302, 'aforementioned': 139, 'eat': 1411, 'greater': 1965, 'experiments': 1584, 'placed': 3283, 'large': 2517, 'ass': 323, 'criminal': 1057, 'survived': 4322, 'per': 3223, 'albeit': 173, 'portion': 3338, 'trailers': 4555, 'versus': 4722, 'gas': 1874, 'station': 4164, 'deadly': 1133, 'drops': 1372, 'floor': 1759, 'suffers': 4278, 'calling': 653, 'feminist': 1695, 'hates': 2048, 'basis': 408, 'suspend': 4329, 'disbelief': 1277, 'shadows': 3913, 'hurts': 2203, 'cold': 872, 'shower': 3957, 'shame': 3918, 'soon': 4074, 'double': 1331, 'rings': 3699, 'rules': 3754, 'vaguely': 4706, 'display': 1291, 'lots': 2662, 'philosophy': 3254, 'presumably': 3380, 'intentionally': 2320, 'dimensional': 1253, 'mysteries': 2954, 'streisand': 4218, 'raised': 3508, 'industry': 2280, 'signed': 3971, 'manager': 2724, 'specifically': 4100, 'alice': 182, 'chair': 742, 'lily': 2605, 'crocodile': 1065, 'elegant': 1441, 'surrounded': 4318, 'tap': 4364, 'ii': 2226, 'tape': 4365, 'lucky': 2683, 'club': 863, 'sun': 4292, 'followed': 1773, 'quick': 3490, 'lover': 2672, 'ultimately': 4628, '12': 3, 'gem': 1877, 'moves': 2925, 'em': 1452, 'arguably': 289, 'finest': 1730, 'successfully': 4267, 'inspector': 2299, 'adaptation': 113, 'pages': 3168, 'abuse': 74, 'suffered': 4276, 'soul': 4079, 'touching': 4536, 'bond': 532, 'grandfather': 1954, 'connection': 946, 'established': 1524, 'belongs': 460, 'afternoon': 144, 'awards': 367, 'carol': 693, 'mel': 2796, 'brooks': 596, 'tradition': 4549, 'falling': 1639, 'science': 3816, '3000': 43, 'underground': 4640, 'friendly': 1836, 'department': 1182, 'kicks': 2463, 'inevitably': 2283, 'opera': 3116, 'task': 4368, 'explicit': 1591, 'terms': 4406, 'loads': 2633, 'covers': 1024, 'aspects': 322, 'desire': 1205, 'holy': 2140, 'acts': 107, 'necessarily': 2983, 'legend': 2564, 'personally': 3243, 'saved': 3795, 'magic': 2703, 'vivid': 4760, 'inner': 2292, 'stays': 4169, 'weird': 4841, 'creep': 1051, 'causing': 726, 'dressing': 1359, 'multiple': 2936, 'surface': 4310, 'realism': 3549, 'narrator': 2967, 'strength': 4219, 'dignity': 1252, 'wound': 4960, 'constructed': 959, 'sexual': 3908, 'accept': 80, 'passion': 3205, 'recording': 3575, 'unique': 4662, 'enormous': 1490, 'crude': 1069, 'code': 869, 'kiss': 2483, 'curse': 1086, 'sounding': 4083, 'staying': 4168, 'satisfied': 3789, 'crack': 1027, 'league': 2549, 'hal': 2006, 'clean': 838, 'fear': 1676, 'lol': 2640, 'kennedy': 2454, 'dorothy': 1330, 'channel': 753, 'tim': 4494, 'burton': 630, 'batman': 413, 'trademark': 4548, 'bar': 396, 'nightmare': 3014, 'concert': 935, '2006': 36, 'decided': 1149, 'photos': 3261, 'neck': 2985, 'remotely': 3623, 'dropped': 1370, 'access': 83, 'defined': 1160, 'absolute': 71, 'lonely': 2643, 'perry': 3237, 'summer': 4291, 'mad': 2696, 'asked': 317, 'robbins': 3712, 'treatment': 4574, 'bet': 470, 'involvement': 2347, 'loving': 2675, 'student': 4238, 'defend': 1158, 'cameo': 657, 'opportunity': 3121, 'unfunny': 4655, 'robot': 3717, 'stale': 4141, 'snl': 4044, 'throws': 4482, 'inducing': 2279, 'ken': 2453, 'swear': 4334, 'funnier': 1850, 'unreal': 4676, 'boys': 559, 'sneak': 4043, 'dancing': 1107, 'streets': 4217, 'dances': 1106, 'beats': 426, 'offensive': 3086, 'bathroom': 412, 'demented': 1176, 'homer': 2144, 'simpson': 3987, 'church': 813, 'decision': 1151, 'surprising': 4315, 'soap': 4047, 'clichés': 846, 'impress': 2250, 'cardboard': 682, 'qualities': 3483, 'stereotypes': 4179, 'considered': 951, 'parents': 3188, 'began': 441, 'online': 3109, 'purchased': 3470, 'disney': 1289, 'fascinating': 1658, 'draws': 1352, 'struggle': 4234, 'japan': 2381, 'wise': 4903, 'funniest': 1851, 'existence': 1571, 'performers': 3232, 'anime': 243, 'drug': 1373, 'generation': 1883, 'clue': 864, 'attached': 336, 'punk': 3468, 'gonna': 1936, 'stopped': 4202, 'removed': 3624, 'reality': 3551, 'bottom': 551, 'cartoon': 704, 'warned': 4798, 'descent': 1193, 'performer': 3231, 'critic': 1061, 'sharp': 3922, 'technique': 4383, 'technical': 4381, 'merit': 2816, 'cia': 814, 'angle': 236, 'agents': 151, 'approach': 282, 'ultimate': 4627, 'consequences': 947, 'conventional': 979, 'morality': 2903, 'justice': 2438, 'attracted': 349, 'portrait': 3339, 'ford': 1789, 'lawyer': 2541, 'accused': 91, 'stephen': 4176, 'intent': 2318, 'portray': 3340, 'lincoln': 2608, 'satisfying': 3791, 'scope': 3821, 'fonda': 1777, 'effectively': 1430, 'displays': 1293, 'quiet': 3492, 'combined': 885, 'occasionally': 3075, 'include': 2261, 'regular': 3592, 'ward': 4793, 'believes': 456, 'overcome': 3151, 'happening': 2028, 'utterly': 4702, 'tea': 4373, 'trite': 4589, 'tedious': 4387, 'slowly': 4032, 'pot': 3354, 'outer': 3143, 'santa': 3783, 'jaw': 2384, 'roll': 3728, 'dressed': 1358, 'comedic': 888, 'currently': 1085, 'vacation': 4704, 'highest': 2102, 'thumbs': 4485, 'goal': 1925, 'shots': 3950, 'smooth': 4041, 'party': 3200, 'lies': 2591, 'details': 1219, 'experiences': 1582, 'breaks': 571, 'band': 391, 'flaw': 1749, 'sitting': 4007, 'week': 4837, 'polanski': 3321, 'madness': 2698, 'explored': 1595, 'responsible': 3656, 'difficult': 1249, 'notably': 3042, 'shelley': 3928, 'winters': 4901, 'miscast': 2862, 'vampire': 4711, 'killers': 2471, 'sudden': 4272, 'raise': 3507, 'psycho': 3457, 'handful': 2017, 'exceptionally': 1559, 'chilling': 794, 'uncomfortable': 4637, 'alas': 172, 'okay': 3099, 'miller': 2846, 'marvelous': 2750, 'general': 1880, 'mine': 2853, 'drunk': 1375, 'color': 877, 'noise': 3024, 'areas': 287, 'memories': 2803, 'mom': 2885, 'christmas': 810, 'judy': 2426, 'barely': 399, 'voice': 4761, 'wendy': 4846, 'waited': 4771, 'spoil': 4121, 'spoken': 4126, 'pilot': 3276, 'explanation': 1590, 'gods': 1928, 'belief': 451, 'promising': 3433, 'doubts': 1333, 'dvds': 1392, 'bruce': 602, 'willis': 4890, 'terry': 4415, 'twelve': 4611, 'monkeys': 2891, 'extraordinary': 1607, 'commercial': 902, 'fate': 1665, 'brazil': 568, 'tend': 4400, 'suffer': 4275, 'maintain': 2710, 'tour': 4538, 'force': 1786, 'pitt': 3280, 'decade': 1144, 'fitting': 1742, 'warren': 4801, 'superb': 4296, 'failure': 1629, 'abysmal': 76, 'max': 2774, 'futuristic': 1857, 'sword': 4340, 'bo': 521, 'forty': 1807, 'defeat': 1157, 'forces': 1788, 'army': 295, 'paper': 3183, 'string': 4227, 'attacks': 339, 'eaten': 1412, 'dragon': 1344, 'cutting': 1092, 'properly': 3437, 'dropping': 1371, 'fx': 1858, 'confused': 941, 'destroying': 1215, 'hint': 2112, 'storytelling': 4209, 'dreadful': 1353, 'levels': 2585, 'below': 462, 'cliche': 843, 'screaming': 3827, 'kicking': 2462, 'turkey': 4604, 'mate': 2765, 'disneys': 1290, 'outcome': 3142, 'escape': 1517, 'delight': 1167, 'prevent': 3385, 'month': 2896, 'racist': 3503, 'ship': 3934, 'chased': 770, 'wwii': 4975, 'handle': 2018, 'failed': 1626, 'spoof': 4127, 'plastic': 3294, 'introduces': 2338, 'curious': 1083, 'aliens': 184, '45': 50, 'endearing': 1469, 'blend': 504, 'spectacular': 4101, 'conversations': 981, 'technically': 4382, 'daily': 1097, 'north': 3036, 'triumph': 4590, 'theory': 4437, 'thousands': 4466, 'represents': 3639, 'icon': 2211, 'instantly': 2306, 'forms': 1801, 'blatant': 502, 'incompetent': 2266, 'mistakes': 2873, 'stone': 4197, 'letters': 2582, 'bob': 524, 'soft': 4051, 'exploitation': 1592, 'obsession': 3070, 'international': 2326, 'drive': 1363, 'rat': 3525, 'painfully': 3172, 'photo': 3257, 'shoot': 3942, 'wannabe': 4787, 'sympathy': 4343, 'davis': 1126, 'lyrics': 2692, 'ladies': 2506, 'vulnerable': 4768, 'authority': 360, 'flynn': 1765, 'charm': 767, 'inept': 2281, 'thus': 4486, 'risk': 3704, 'hide': 2097, 'follows': 1775, 'bette': 471, 'susan': 4326, 'indians': 2275, 'grant': 1956, 'buddy': 609, 'hired': 2117, 'rid': 3690, 'karen': 2444, 'clint': 850, 'puts': 3481, 'wearing': 4831, 'guns': 1998, 'charge': 761, 'methods': 2825, 'carried': 698, 'bitter': 491, 'lively': 2627, 'atmospheric': 334, 'worthless': 4954, 'drivel': 1364, 'trust': 4598, 'worn': 4948, 'scrooge': 3837, 'musicals': 2948, 'unintentional': 4658, 'involves': 2348, 'floating': 1758, 'albert': 174, 'meanwhile': 2785, 'hideous': 2098, 'costs': 1004, 'thrillers': 4473, 'guessing': 1991, 'featured': 1679, 'hopper': 2161, 'riveting': 3708, 'broke': 593, 'mistaken': 2872, 'contract': 973, 'shocked': 3939, 'wayne': 4821, 'brown': 601, 'trapped': 4564, 'matters': 2770, 'everyones': 1543, 'favourite': 1673, 'spending': 4106, 'exceptional': 1558, 'jumped': 2430, 'disagree': 1269, 'columbo': 881, 'frankly': 1823, 'ray': 3533, 'cheating': 776, 'scheme': 3812, 'anger': 235, 'elsewhere': 1449, 'harris': 2038, 'resemblance': 3645, 'fault': 1668, 'complaint': 920, 'domestic': 1318, 'feelings': 1686, 'feed': 1683, 'rip': 3700, 'focuses': 1768, 'annoyed': 248, 'nicholson': 3011, 'canadian': 667, 'remarkable': 3613, 'literally': 2622, 'evident': 1547, 'ground': 1979, 'account': 89, 'country': 1014, 'leader': 2546, 'greed': 1968, 'corporate': 998, 'combine': 884, 'unfolds': 4651, 'splendid': 4119, 'occur': 3076, 'ready': 3546, 'commercials': 903, 'pain': 3170, 'fighting': 1709, 'escaped': 1518, 'patient': 3211, 'myers': 2952, 'franchise': 1817, 'date': 1118, 'debut': 1143, 'jamie': 2379, 'curtis': 1087, 'streep': 4215, 'inspiring': 2302, 'mrs': 2930, 'largely': 2518, 'yesterday': 4983, 'pursuit': 3476, 'jackie': 2374, 'chan': 746, 'fights': 1710, 'plots': 3310, 'entertained': 1498, 'stunts': 4246, 'stunt': 4245, 'deals': 1137, 'senseless': 3878, 'study': 4242, 'blake': 498, 'ease': 1404, 'scott': 3824, 'personalities': 3241, 'opportunities': 3120, 'explore': 1594, 'merely': 2815, 'received': 3564, 'handled': 2019, 'wear': 4830, 'comparing': 913, 'intense': 2316, 'noted': 3045, 'switch': 4339, 'ruined': 3751, 'frankenstein': 1822, 'unfortunate': 4653, 'twins': 4616, 'business': 633, 'decisions': 1152, 'karloff': 2445, 'scientist': 3818, 'mountains': 2918, 'dracula': 1341, 'bela': 450, 'lugosi': 2686, 'scientists': 3819, 'nonsensical': 3031, 'generous': 1886, 'machine': 2693, 'bound': 553, 'universal': 4665, 'pre': 3365, 'strip': 4228, 'step': 4175, 'sin': 3988, 'combination': 883, 'mood': 2898, 'surely': 4309, 'ms': 2931, 'definition': 1163, 'patrick': 3213, '75': 57, 'environment': 1505, 'parties': 3196, 'womans': 4922, 'dreary': 1356, 'basement': 405, 'colors': 879, 'proceeds': 3411, 'necessary': 2984, 'drugs': 1374, 'confusion': 943, 'emotions': 1461, 'younger': 4990, 'rough': 3741, 'performing': 3233, 'explained': 1587, 'cheek': 779, 'fabulous': 1615, 'discussion': 1284, 'fred': 1825, 'forest': 1791, 'rangers': 3517, 'chick': 786, 'photographer': 3259, 'wears': 4832, 'professional': 3421, 'ape': 266, 'mentions': 2813, 'animal': 239, 'angry': 238, 'dislike': 1288, 'chases': 771, 'aunt': 355, 'inane': 2258, 'harsh': 2040, 'useful': 4694, 'solo': 4058, 'trilogy': 4586, 'official': 3094, 'majority': 2712, 'claire': 831, 'danes': 1108, 'mummy': 2937, 'stress': 4220, 'description': 1197, 'relate': 3593, 'king': 2479, 'spooky': 4128, 'rented': 3628, 'religion': 3607, 'separate': 3883, 'creator': 1043, 'proper': 3436, 'context': 968, 'exist': 1569, 'ought': 3138, 'hated': 2047, 'ignore': 2224, 'testament': 4417, 'youth': 4994, 'satisfy': 3790, 'union': 4661, 'enjoyment': 1488, 'wives': 4918, 'teaching': 4377, 'christian': 808, 'paid': 3169, 'christ': 807, 'alright': 198, 'wisdom': 4902, 'homeless': 2143, 'valuable': 4708, 'exaggerated': 1552, 'nazi': 2977, 'ice': 2210, 'cube': 1076, 'innovative': 2295, 'prize': 3405, 'forbidden': 1785, 'iran': 2350, 'cultural': 1078, 'distinct': 1296, 'laws': 2540, 'comical': 894, 'cup': 1080, 'urge': 4689, 'aspect': 321, 'conceived': 929, 'kelly': 2452, 'sinatra': 3989, 'fall': 1637, 'catching': 716, 'magical': 2704, 'mouse': 2919, 'dean': 1139, 'tough': 4537, 'segment': 3867, 'beaten': 424, 'retarded': 3663, 'kevin': 2457, 'field': 1704, 'reads': 3545, 'loves': 2674, 'root': 3737, 'allows': 192, 'affect': 136, 'voices': 4763, 'listening': 2620, 'surrounding': 4319, 'wing': 4896, 'remain': 3609, 'paris': 3189, 'norman': 3035, 'welcome': 4842, 'le': 2544, 'references': 3583, 'judging': 2425, 'louis': 2665, 'notice': 3048, 'front': 1841, 'mansion': 2731, 'connected': 945, 'makers': 2715, 'paced': 3162, 'twilight': 4614, 'zone': 4999, 'butler': 637, 'snake': 4042, 'provided': 3449, 'weight': 4840, 'managed': 2723, 'aired': 165, 'expensive': 1579, 'intrigue': 2333, 'jumping': 2431, 'tiger': 4491, 'bomb': 531, 'dub': 1378, 'gerard': 1895, 'tense': 4403, 'truck': 4595, 'angles': 237, 'vengeance': 4719, 'reaching': 3539, 'mid': 2832, 'don': 1320, 'ann': 244, 'experiment': 1583, 'dinosaur': 1255, 'unoriginal': 4673, 'drunken': 1376, 'hunters': 2200, 'plus': 3311, 'wasting': 4810, 'enter': 1494, 'virginia': 4750, 'causes': 725, 'overdone': 3152, 'jake': 2377, 'staring': 4152, 'buddies': 608, 'key': 2458, 'cooper': 990, 'laura': 2536, 'teacher': 4375, 'edward': 1426, 'embarrassment': 1455, 'eva': 1531, 'psychic': 3456, 'dating': 1120, 'lake': 2509, 'bell': 458, 'abilities': 64, 'jason': 2383, 'titanic': 4503, 'projects': 3428, 'vast': 4716, 'amounts': 220, 'francis': 1818, 'godfather': 1927, 'travels': 4569, 'generic': 1885, 'wanting': 4790, 'popularity': 3334, 'creators': 1044, 'won': 4925, 'river': 3707, 'cannibal': 669, 'artist': 307, 'intimate': 2331, 'relationships': 3598, 'appreciation': 281, 'achieve': 92, 'faced': 1617, 'national': 2970, 'pushed': 3478, 'critical': 1062, 'balance': 387, 'ride': 3692, 'join': 2412, 'typically': 4624, 'funeral': 1849, 'dry': 1377, 'bone': 533, 'wait': 4770, 'excitement': 1562, 'dude': 1381, 'base': 402, 'unable': 4631, 'moral': 2902, 'whilst': 4869, 'examples': 1554, 'receive': 3563, 'treated': 4573, 'realise': 3548, 'target': 4366, 'armed': 293, 'individuals': 2278, 'enemy': 1477, 'closer': 856, 'trained': 4557, 'returning': 3667, 'legal': 2563, 'responsibility': 3655, 'argument': 291, 'opinions': 3119, 'wake': 4774, 'terrifying': 4410, 'hop': 2154, 'miserably': 2864, 'subtlety': 4261, 'pan': 3180, 'delivery': 1173, 'overacting': 3149, 'butt': 638, 'cheated': 775, 'guilty': 1995, 'depression': 1189, 'lights': 2597, 'nuclear': 3057, 'conspiracy': 956, 'hysterical': 2208, 'delightful': 1168, 'eating': 1413, 'pants': 3182, 'messages': 2820, 'reach': 3536, 'adults': 126, 'teenagers': 4391, 'atlantis': 332, 'empire': 1464, 'cleverly': 842, 'morris': 2908, 'wonders': 4931, 'worry': 4950, 'scares': 3806, 'guide': 1993, 'threat': 4467, 'struck': 4232, 'impressed': 2251, 'entertain': 1497, 'topic': 4526, 'chinese': 796, 'operation': 3117, 'bath': 411, 'older': 3101, 'believing': 457, 'visit': 4755, 'discuss': 1283, 'besides': 468, 'loyal': 2679, 'chuck': 812, 'blind': 506, 'fat': 1663, 'satan': 3787, 'lowest': 2678, 'limits': 2607, 'walks': 4780, 'swedish': 4335, 'arrive': 300, 'serves': 3895, 'museum': 2945, 'eager': 1396, 'settle': 3902, 'pal': 3177, 'realizing': 3555, 'frightening': 1839, 'kitchen': 2485, 'sadistic': 3768, 'winds': 4895, 'resolution': 3649, 'rolling': 3730, 'humble': 2191, 'kay': 2447, 'village': 4743, 'deeply': 1156, 'buried': 624, 'savage': 3793, 'spends': 4107, 'sons': 4073, 'buying': 641, 'meat': 2787, 'tongue': 4518, 'occurs': 3078, 'martin': 2748, 'tiresome': 4502, 'wave': 4818, 'exploration': 1593, 'produce': 3413, 'provoking': 3452, 'eerie': 1427, 'everyday': 1541, 'exists': 1573, 'imagined': 2239, 'remembered': 3617, 'path': 3209, 'answers': 252, 'doom': 1326, 'rain': 3506, 'strongly': 4231, 'alan': 171, 'service': 3896, 'outfit': 3144, 'teenager': 4390, 'ratings': 3530, 'niro': 3019, 'taxi': 4371, 'driver': 1366, 'frustrated': 1842, 'bobby': 525, 'baseball': 403, 'minds': 2852, 'flawed': 1750, '1990s': 25, 'entry': 1504, 'pleased': 3305, 'blob': 507, 'sucked': 4270, 'huh': 2187, 'del': 1165, 'nurse': 3063, 'aging': 153, 'mario': 2738, 'motives': 2916, 'ironic': 2355, 'erotic': 1515, 'finish': 1732, 'rival': 3706, 'mildly': 2840, 'standing': 4146, 'encounter': 1466, 'swimming': 4338, 'advantage': 129, 'ruins': 3752, 'pitch': 3279, '3rd': 47, 'regardless': 3590, 'random': 3514, 'states': 4163, 'exact': 1550, 'facing': 1620, 'hearing': 2063, 'clumsy': 866, 'performed': 3230, 'meaningless': 2782, 'coach': 868, 'championship': 745, 'subplot': 4255, 'paint': 3173, 'lying': 2690, 'detail': 1217, 'emotionally': 1460, 'competent': 917, 'wishes': 4906, 'hardcore': 2034, 'conservative': 948, 'model': 2880, 'christians': 809, 'warming': 4795, 'intensity': 2317, 'included': 2262, 'fay': 1674, 'hints': 2113, 'neither': 2996, 'characterization': 759, 'pulls': 3464, 'notes': 3046, 'south': 4087, 'parallel': 3185, 'sink': 3999, 'guarantee': 1987, 'lisa': 2616, 'shooting': 3943, 'arm': 292, 'producer': 3415, 'associated': 327, '50s': 52, 'price': 3389, 'gold': 1932, 'wed': 4835, 'toys': 4543, 'edited': 1420, 'blowing': 515, 'players': 3299, 'recorded': 3574, 'rachel': 3500, 'load': 2631, 'breathtaking': 574, 'repeatedly': 3632, 'supposedly': 4307, 'plausible': 3295, 'fbi': 1675, 'trail': 4553, 'card': 681, 'investigation': 2343, 'benefit': 465, 'counter': 1011, 'props': 3439, 'gradually': 1952, 'hook': 2152, 'reactions': 3542, 'killings': 2473, 'fair': 1630, 'internet': 2327, 'virgin': 4749, 'comfortable': 892, 'source': 4086, 'security': 3854, 'device': 1227, 'cross': 1066, 'birds': 485, '2004': 34, 'tall': 4362, 'mst3k': 2932, 'dig': 1250, 'mitchell': 2875, 'favorites': 1672, 'survivors': 4325, 'recognized': 3570, 'hammer': 2014, 'warner': 4799, 'closet': 858, 'sight': 3969, 'teenage': 4389, 'education': 1424, 'un': 4630, 'essentially': 1523, 'fictional': 1703, 'toward': 4539, 'smaller': 4034, 'proof': 3434, 'larger': 2519, 'joey': 2408, 'beating': 425, 'refuses': 3587, 'denzel': 1181, 'passing': 3204, 'mafia': 2700, 'thrilling': 4474, 'unpredictable': 4675, 'intellectual': 2312, 'hbo': 2055, 'perfection': 3225, 'occasion': 3073, 'adds': 119, 'staff': 4138, 'matthew': 2772, 'considerable': 950, 'edie': 1419, 'matches': 2764, 'mixed': 2877, 'lifestyle': 2593, 'corrupt': 1001, 'wide': 4880, 'six': 4010, 'nancy': 2964, 'panic': 3181, 'gruesome': 1986, 'paulie': 3215, 'stereotype': 4178, 'bacall': 377, 'appearances': 275, 'notable': 3041, 'subplots': 4256, 'irrelevant': 2358, 'achievement': 94, 'screening': 3830, 'gangsters': 1869, 'foul': 1810, 'african': 142, 'refreshing': 3586, 'careful': 688, 'practice': 3363, 'knowledge': 2491, 'cinderella': 815, 'hank': 2024, 'forgive': 1795, 'faults': 1669, 'macy': 2695, 'design': 1202, 'treasure': 4571, 'assigned': 325, 'gothic': 1945, 'couples': 1017, 'earl': 1398, 'roy': 3745, 'chaos': 755, 'lay': 2542, 'blame': 499, 'sitcom': 4004, 'idiotic': 2219, 'pops': 3332, 'prostitute': 3440, 'harvey': 2042, 'executive': 1567, 'dire': 1257, 'weeks': 4839, 'concerned': 932, 'drives': 1367, 'vicious': 4728, 'alert': 178, 'evidence': 1546, 'creativity': 1042, 'stilted': 4190, 'doomed': 1327, 'subsequent': 4257, 'kim': 2475, 'describes': 1196, 'plight': 3308, 'designs': 1204, 'appearing': 277, 'sorts': 4078, 'enters': 1496, 'chosen': 805, 'laid': 2508, 'master': 2757, 'medium': 2792, 'admire': 121, 'todd': 4510, 'obnoxious': 3067, 'beneath': 464, 'brian': 576, 'relies': 3606, 'delivers': 1172, 'irritating': 2359, 'unconvincing': 4638, 'deserve': 1199, 'dave': 1123, 'kissing': 2484, 'improve': 2254, 'product': 3418, 'hung': 2197, 'distracting': 1297, 'korean': 2495, 'translation': 4562, 'miike': 2837, 'proved': 3446, 'lesser': 2576, 'mixture': 2878, 'designed': 1203, 'samurai': 3779, 'flaws': 1752, 'sensitive': 3879, 'companion': 909, 'contained': 963, 'heights': 2073, 'hundreds': 2196, 'ball': 388, 'fury': 1855, 'tragic': 4552, 'spots': 4132, 'dedicated': 1153, 'crucial': 1068, 'map': 2733, 'pat': 3208, 'traditional': 4550, 'ludicrous': 2685, 'unbelievably': 4635, 'ethan': 1528, 'jerk': 2395, 'starred': 4153, 'gray': 1963, 'tracks': 4545, 'newly': 3004, 'hed': 2072, 'shell': 3927, 'steal': 4170, 'dangerous': 1110, 'riding': 3695, 'goodness': 1938, 'quit': 3494, 'pro': 3406, 'depicted': 1183, 'homosexual': 2145, 'hitler': 2124, 'happily': 2030, 'meaningful': 2781, 'skill': 4013, 'brooklyn': 595, '1990': 24, 'persons': 3244, 'burns': 628, 'amongst': 218, 'grown': 1984, 'realizes': 3554, 'brains': 563, 'horrid': 2165, 'los': 2653, 'angeles': 233, 'bargain': 400, 'golden': 1934, 'torture': 4529, 'ranks': 3519, 'poetic': 3313, 'suspects': 4328, 'gordon': 1940, 'che': 773, 'cuba': 1075, 'battles': 415, 'wounded': 4961, 'revolution': 3680, 'alike': 185, 'empathy': 1462, 'motivation': 2914, 'warm': 4794, 'hole': 2132, 'marry': 2745, 'principal': 3398, 'ramones': 3512, 'vincent': 4746, 'instant': 2305, '1980s': 21, 'juvenile': 2441, 'theyll': 4444, 'repeat': 3630, 'anderson': 227, 'stargate': 4151, 'spin': 4112, 'keaton': 2448, 'partner': 3198, 'protect': 3443, 'bloody': 513, 'sticks': 4186, 'prior': 3400, 'attraction': 350, 'holds': 2131, 'proceedings': 3410, 'answer': 251, 'category': 718, 'dozen': 1338, 'dancers': 1105, 'cards': 683, 'nervous': 2999, 'possibility': 3349, 'host': 2173, 'occasional': 3074, 'sexually': 3910, 'suffering': 4277, 'sandler': 3781, 'disgusting': 1286, 'stolen': 4195, 'president': 3378, 'nail': 2957, 'hart': 2041, 'witches': 4910, 'bands': 392, 'condition': 937, 'magazine': 2701, 'fare': 1655, 'mall': 2720, 'exposed': 1598, 'stretch': 4221, 'terrorists': 4414, 'spirited': 4114, 'bud': 607, 'lou': 2663, 'explaining': 1588, 'shape': 3919, 'attempting': 342, 'stones': 4198, 'web': 4833, 'centered': 733, 'support': 4303, 'increasingly': 2268, 'reminds': 3620, 'urban': 4688, 'wes': 4851, 'craven': 1034, 'chicago': 785, 'poverty': 3357, 'row': 3744, 'invisible': 2344, 'secrets': 3852, 'structure': 4233, 'attitudes': 347, 'position': 3345, 'identity': 2217, 'grasp': 1960, 'hopeless': 2158, 'menacing': 2807, 'sinister': 3998, 'hello': 2078, 'searching': 3842, 'skills': 4014, 'throwing': 4480, 'viewings': 4741, 'florida': 1761, 'luckily': 2682, 'winner': 4897, 'rarely': 3524, 'dutch': 1389, 'concern': 931, 'thick': 4447, 'illegal': 2229, 'fatal': 1664, 'distant': 1295, 'asian': 314, 'corner': 996, 'bold': 528, 'corruption': 1002, 'vague': 4705, 'philosophical': 3253, 'easier': 1405, 'pretentious': 3383, 'thoughtful': 4463, 'credible': 1048, 'animals': 240, 'shadow': 3912, 'humans': 2190, 'interaction': 2322, 'babe': 375, 'villains': 4745, 'ninja': 3018, 'freak': 1824, 'melodramatic': 2798, 'cox': 1026, 'moody': 2899, 'receives': 3565, 'jane': 2380, 'cameron': 661, 'patients': 3212, 'focusing': 1769, 'existent': 1572, 'research': 3644, 'print': 3399, 'uneven': 4649, 'kapoor': 2443, 'canada': 666, 'india': 2273, 'terrorist': 4413, 'needless': 2989, 'likewise': 2603, 'khan': 2459, 'helps': 2082, 'feet': 1688, 'gripping': 1976, 'directorial': 1265, 'sloppy': 4030, 'cd': 728, 'royal': 3746, 'serving': 3897, 'seeking': 3859, 'september': 3884, 'innocence': 2293, 'originality': 3130, 'cinemas': 817, 'civil': 826, 'ideal': 2214, 'appearance': 274, 'lacked': 2503, 'opened': 3113, 'community': 908, 'appealing': 272, 'swim': 4337, 'marketing': 2741, 'dancer': 1104, 'understandable': 4644, 'abusive': 75, 'learning': 2552, 'reel': 3581, 'screams': 3828, 'spanish': 4092, 'spain': 4091, 'schools': 3814, '20th': 38, 'remarkably': 3614, 'signs': 3973, 'farm': 1656, 'wholly': 4874, 'useless': 4695, 'fields': 1705, 'window': 4894, 'educational': 1425, 'directs': 1267, 'holmes': 2139, 'sleazy': 4023, 'fallen': 1638, 'wicked': 4879, 'center': 732, 'walls': 4783, 'trio': 4587, 'lucas': 2680, 'timothy': 4499, 'nelson': 2997, 'suggests': 4282, 'daughters': 1122, 'enterprise': 1495, 'inferior': 2285, 'overly': 3155, 'covered': 1023, 'bush': 632, 'immensely': 2243, 'sappy': 3784, 'burned': 626, 'kong': 2494, 'godzilla': 1929, 'linda': 2609, 'trick': 4582, 'nation': 2969, 'builds': 617, 'heroic': 2090, 'demands': 1175, 'experienced': 1581, 'suits': 4287, 'admittedly': 123, 'clips': 852, 'seven': 3903, 'editor': 1423, 'fathers': 1667, 'captain': 674, 'boom': 537, 'weakest': 4825, 'hearted': 2065, 'theyd': 4443, 'relations': 3596, 'models': 2881, 'depth': 1190, 'carrie': 697, 'michelle': 2830, 'fascinated': 1657, 'status': 4165, 'shoots': 3944, 'reveals': 3673, 'smoking': 4040, 'react': 3540, 'ensues': 1493, 'accompanied': 86, 'hanks': 2025, 'iraq': 2351, 'bourne': 554, 'damon': 1101, 'block': 508, 'latest': 2526, 'link': 2613, 'awe': 370, 'bite': 489, 'brosnan': 597, 'drags': 1345, 'overlook': 3153, 'survival': 4320, 'colorful': 878, 'expressed': 1601, 'civilization': 827, 'ned': 2986, 'beatty': 427, 'strikes': 4225, 'disease': 1285, 'disappear': 1270, 'cure': 1081, 'tame': 4363, 'challenge': 743, 'bears': 421, 'behavior': 446, 'hunting': 2201, 'carrying': 701, 'captured': 677, 'et': 1526, 'trees': 4577, 'trap': 4563, 'steel': 4173, '30s': 44, 'shake': 3914, 'georges': 1894, 'simplicity': 3984, 'painted': 3174, 'touched': 4534, 'der': 1191, 'forever': 1792, 'afterwards': 145, 'circumstances': 822, 'coffee': 870, 'selfish': 3870, 'possessed': 3347, 'teeth': 4393, 'glenn': 1918, 'jazz': 2387, 'poignant': 3315, 'changing': 752, 'communist': 907, 'dialogues': 1235, 'text': 4419, 'relative': 3599, 'keeping': 2450, 'interpretation': 2328, 'busy': 635, 'singer': 3993, 'lovely': 2671, 'ignorant': 2223, 'ships': 3935, 'shortly': 3947, 'depressed': 1187, 'heroine': 2091, 'crying': 1074, 'smiling': 4037, 'tarzan': 4367, 'spring': 4134, 'significant': 3972, 'altogether': 202, 'offended': 3085, 'buildings': 616, 'cars': 702, 'kidnapped': 2466, 'loser': 2655, 'letter': 2581, 'psychotic': 3459, 'send': 3875, 'frequent': 1831, 'flies': 1756, 'hiding': 2099, 'corpse': 999, 'shut': 3961, 'assistant': 326, 'unaware': 4632, 'grow': 1982, 'undoubtedly': 4648, 'masters': 2761, 'boat': 523, 'loosely': 2651, 'stated': 4161, 'pseudo': 3454, 'elvis': 1451, 'criticism': 1063, 'dubbed': 1379, 'creation': 1040, 'modesty': 2883, 'novels': 3053, 'financial': 1725, 'professor': 3422, 'martial': 2747, 'importantly': 2248, 'integrity': 2311, 'driving': 1368, 'cabin': 643, 'activities': 102, 'enjoys': 1489, 'dan': 1102, 'adventures': 131, 'represented': 3638, 'represent': 3637, 'joined': 2413, 'dick': 1239, 'derek': 1192, 'leg': 2562, 'whale': 4857, '1930s': 11, 'lloyd': 2630, 'surfing': 4311, 'hundred': 2195, 'sport': 4129, 'resembles': 3646, 'fest': 1696, 'sid': 3964, 'engaging': 1481, 'ocean': 3079, 'pearl': 3220, 'helicopter': 2076, 'devil': 1228, 'anne': 246, 'hatred': 2049, 'richards': 3687, 'guts': 1999, 'essence': 1521, 'someones': 4065, 'ralph': 3510, 'overwhelming': 3157, 'sir': 4000, 'racism': 3502, 'abc': 63, 'hollow': 2135, 'pulling': 3463, 'wood': 4933, 'delivering': 1171, 'equivalent': 1512, 'amitabh': 216, 'shoes': 3941, 'joy': 2422, 'teachers': 4376, 'offering': 3089, 'cynical': 1093, 'jonathan': 2417, 'encounters': 1467, 'amanda': 205, 'recognize': 3569, 'loaded': 2632, 'miserable': 2863, 'deaths': 1142, '1970s': 17, 'chances': 748, 'rank': 3518, 'extended': 1604, 'disjointed': 1287, 'thousand': 4465, 'mile': 2842, 'purple': 3473, 'skin': 4015, 'daniel': 1111, 'castle': 712, 'waters': 4817, 'lately': 2524, 'oz': 3160, 'underlying': 4641, 'china': 795, 'fooled': 1780, 'rental': 3627, 'rocket': 3721, 'consistent': 953, 'spoiled': 4122, 'lazy': 2543, 'waitress': 4773, 'eddie': 1416, 'subjects': 4254, 'ha': 2002, 'confidence': 938, 'bucks': 606, 'witnessed': 4915, 'wealth': 4826, 'mere': 2814, 'sincere': 3991, 'tracy': 4546, 'tears': 4380, 'robbery': 3711, 'lips': 2615, 'hudson': 2184, 'lasted': 2522, 'arrogant': 303, 'pink': 3277, 'mann': 2728, 'punishment': 3467, 'ritter': 3705, 'horrific': 2166, 'elm': 1447, 'freddy': 1826, 'draw': 1349, 'hitchcock': 2123, 'carl': 692, 'boxing': 556, 'ian': 2209, 'suited': 4286, 'contrary': 974, 'parent': 3187, 'nations': 2971, 'discovery': 1282, 'airplane': 166, 'maggie': 2702, 'exposure': 1599, 'statement': 4162, 'stinker': 4191, 'shelf': 3926, 'indie': 2276, 'bag': 384, 'freeman': 1829, 'market': 2740, 'iron': 2354, 'progress': 3425, '80': 58, 'directions': 1262, 'fighter': 1708, 'catchy': 717, 'dozens': 1339, 'inappropriate': 2259, 'grave': 1962, 'dying': 1393, 'amazingly': 210, 'hamlet': 2013, 'ham': 2011, 'nearby': 2980, 'masterpieces': 2760, 'dated': 1119, 'cringe': 1059, 'craig': 1030, 'unpleasant': 4674, 'felix': 1689, 'antics': 255, 'capturing': 679, 'workers': 4943, 'cameras': 660, 'spike': 4111, 'earned': 1401, 'piano': 3264, 'pulp': 3465, 'raped': 3522, 'strictly': 4223, 'uwe': 4703, 'nuts': 3064, 'boll': 529, 'stealing': 4171, 'rushed': 3760, 'hollywoods': 2138, 'spielberg': 4110, 'lifetime': 2594, 'june': 2433, 'eastwood': 1409, 'drop': 1369, 'valley': 4707, 'endure': 1475, 'wishing': 4907, 'writes': 4970, 'catholic': 720, 'priest': 3392, 'asking': 318, 'broadway': 592, 'brando': 566, 'jungle': 2434, 'dinner': 1254, 'wished': 4905, 'unhappy': 4656, 'fairy': 1632, 'motivations': 2915, 'honor': 2150, 'claimed': 829, 'copies': 992, 'lees': 2560, 'dialogs': 1233, 'teach': 4374, 'psychiatrist': 3455, 'roman': 3731, 'portraying': 3343, 'edgar': 1417, 'sue': 4274, 'tie': 4488, 'toilet': 4512, 'nightmares': 3015, 'mans': 2730, 'julie': 2428, 'chapter': 757, 'selling': 3873, 'routine': 3743, 'moon': 2900, 'neil': 2995, 'matthau': 2771, 'heat': 2067, 'eastern': 1408, 'africa': 141, 'reflect': 3584, 'efforts': 1433, 'promised': 3431, 'rambo': 3511, 'loose': 2650, 'sidekick': 3966, 'jet': 2400, 'li': 2587, 'argue': 290, 'jealous': 2388, 'ellen': 1446, 'mistress': 2874, 'bible': 477, 'crush': 1072, 'itll': 2369, 'holly': 2136, 'alongside': 196, 'stronger': 4230, 'cheese': 780, 'justin': 2440, 'rex': 3683, 'lovable': 2668, 'lone': 2642, 'focused': 1767, 'movements': 2924, 'pays': 3218, 'perform': 3227, 'glass': 1917, 'equipment': 1511, 'private': 3404, 'clues': 865, 'pamela': 3179, 'cameos': 658, 'rural': 3758, 'object': 3066, 'clichéd': 845, 'andrews': 229, 'wet': 4855, 'hitting': 2126, 'repetitive': 3633, 'domino': 1319, 'olivier': 3103, 'wore': 4939, 'sky': 4017, 'embarrassing': 1454, 'incident': 2260, 'concerning': 933, 'centers': 734, 'attorney': 348, 'storm': 4206, 'isolated': 2363, 'depicts': 1186, 'synopsis': 4344, 'involve': 2345, 'maker': 2714, 'choreography': 802, 'groups': 1981, 'gangster': 1868, 'sullivan': 4288, 'respected': 3653, 'stanley': 4148, 'hyde': 2206, 'disappeared': 1271, 'manipulative': 2727, 'familys': 1646, 'tunes': 4603, 'madonna': 2699, 'frustration': 1843, 'tends': 4402, 'convincingly': 986, 'tortured': 4530, 'despair': 1207, 'donna': 1323, 'russian': 3762, 'lesbian': 2573, 'choreographed': 801, 'artists': 309, 'jay': 2386, 'yellow': 4981, 'leslie': 2574, 'circle': 821, 'montage': 2894, 'twenty': 4612, 'arnold': 296, 'celebrity': 729, 'landing': 2512, 'aids': 161, 'fetched': 1698, 'harder': 2035, 'britain': 588, 'compelled': 915, '70': 55, '3d': 46, 'ashamed': 312, 'advanced': 128, 'silver': 3977, 'lab': 2501, 'devoid': 1230, 'reasonably': 3559, 'peters': 3248, '1980': 20, 'avoided': 364, 'hilariously': 2107, 'measure': 2786, 'arms': 294, 'honesty': 2148, 'poetry': 3314, 'foot': 1781, 'minimum': 2856, 'assault': 324, 'held': 2074, 'rats': 3531, 'seventies': 3904, 'broad': 590, 'plant': 3293, 'individual': 2277, 'secretary': 3850, 'phantom': 3251, 'murderous': 2942, 'ireland': 2352, 'virus': 4752, 'jeffrey': 2391, 'cary': 706, 'locked': 2637, 'lemmon': 2567, 'americas': 215, 'horse': 2170, 'eve': 1532, 'shining': 3933, 'destruction': 1216, 'purely': 3472, 'mill': 2845, 'distribution': 1298, 'relatives': 3601, 'murphy': 2944, 'depicting': 1184, 'titled': 4505, 'global': 1920, 'journalist': 2420, 'carrey': 696, 'gifted': 1907, 'gift': 1906, 'bride': 577, 'legendary': 2565, 'carefully': 689, '1st': 28, 'businessman': 634, 'nick': 3012, 'stan': 4142, 'devoted': 1231, 'kung': 2498, 'fu': 1844, 'soccer': 4048, 'bare': 398, 'matrix': 2767, 'diane': 1238, 'destiny': 1212, 'randomly': 3515, 'opposed': 3122, 'unbearable': 4633, 'exercise': 1568, 'warmth': 4796, 'jenny': 2393, 'hippie': 2115, 'techniques': 4384, 'vice': 4727, 'tommy': 4516, 'achieved': 93, 'ingredients': 2289, 'victoria': 4732, 'blunt': 520, 'birthday': 487, 'chess': 783, 'captures': 678, 'shakespeare': 3915, 'stupidity': 4248, 'damage': 1099, 'louise': 2666, 'fisher': 1739, 'masses': 2755, 'horrors': 2169, 'disappoint': 1272, 'endings': 1472, 'solely': 4056, 'kenneth': 2455, 'branagh': 564, 'monk': 2889, 'similarly': 3980, 'desert': 1198, 'bergman': 466, 'oddly': 3081, 'bin': 483, 'latin': 2527, 'omen': 3104, 'reaches': 3538, 'blues': 519, 'pack': 3165, 'troubles': 4594, 'sixties': 4011, 'threw': 4470, 'glover': 1923, 'politically': 3325, 'glory': 1922, 'countryside': 1015, 'powell': 3358, 'apes': 267, 'mail': 2706, 'aid': 160, 'sellers': 3872, 'similarities': 3979, 'disturbed': 1299, 'prequel': 3372, 'producing': 3417, 'namely': 2962, 'possibilities': 3348, 'rebel': 3561, 'construction': 960, 'warrior': 4802, 'crash': 1033, 'germany': 1898, 'strangers': 4214, 'handsome': 2021, 'enemies': 1476, 'hong': 2149, 'duty': 1390, 'tad': 4347, 'performs': 3234, 'april': 284, 'mechanical': 2788, 'cities': 823, 'simplistic': 3985, 'shine': 3931, 'doc': 1303, 'continuity': 972, 'bridge': 578, 'demons': 1178, 'detailed': 1218, '1984': 23, 'rendition': 3625, 'aint': 163, 'warriors': 4803, 'worker': 4942, 'snow': 4045, 'jesse': 2397, 'borrowed': 545, 'mundane': 2938, '1973': 19, 'nonetheless': 3029, 'deliberately': 1166, 'widmark': 4882, 'affected': 137, 'unwatchable': 4682, 'muslim': 2949, 'prisoner': 3402, 'officers': 3093, 'prisoners': 3403, 'noble': 3021, 'lust': 2689, 'tomatoes': 4515, 'progresses': 3426, 'segments': 3868, 'acid': 95, 'jaws': 2385, 'notion': 3050, 'response': 3654, 'rising': 3703, 'rooms': 3736, 'controversial': 978, 'slap': 4018, 'adorable': 124, 'fortunately': 1805, 'voiced': 4762, 'acceptable': 81, 'literature': 2623, 'jessica': 2398, 'climactic': 848, 'household': 2179, 'grinch': 1975, 'holiday': 2134, 'trashy': 4566, 'cartoons': 705, 'classical': 836, 'kubrick': 2496, 'blacks': 494, 'travesty': 4570, 'goldberg': 1933, 'paltrow': 3178, 'mexico': 2827, 'caine': 647, '1996': 26, 'horses': 2171, 'recognition': 3568, 'furthermore': 1854, 'messed': 2821, 'neighborhood': 2993, 'cake': 648, 'obscure': 3068, 'dentist': 1180, 'spare': 4093, 'cave': 727, 'resist': 3648, 'gandhi': 1866, 'fourth': 1813, 'seed': 3856, 'st': 4137, 'alexander': 180, 'bullet': 620, 'germans': 1897, 'eyre': 1614, 'mentioning': 2812, 'existed': 1570, 'yelling': 4980, 'tag': 4348, 'spread': 4133, 'grab': 1949, 'temple': 4398, 'throat': 4476, 'minimal': 2855, 'miracle': 2860, 'attempted': 341, 'hood': 2151, 'slave': 4022, 'mass': 2753, 'troops': 4591, 'expert': 1585, 'purchase': 3469, 'solve': 4060, 'challenging': 744, 'faster': 1662, 'cole': 873, 'secondly': 3847, 'scientific': 3817, 'ego': 1435, 'scores': 3823, 'dealt': 1138, 'daring': 1114, 'navy': 2976, 'bakshi': 386, 'philip': 3252, '1983': 22, 'rochester': 3719, 'matched': 2763, 'installment': 2303, 'implausible': 2245, 'ginger': 1908, 'arrived': 301, 'classes': 834, 'paranoia': 3186, 'eighties': 1437, 'fix': 1744, 'seagal': 3839, 'resulting': 3661, 'montana': 2895, 'flash': 1745, 'requires': 3642, 'planning': 3291, 'beings': 449, 'berlin': 467, 'orders': 3127, 'genres': 1889, 'balls': 390, 'doll': 1313, 'backdrop': 379, 'elvira': 1450, 'rogers': 3725, 'cg': 739, 'ambitious': 211, 'elephant': 1444, 'unsettling': 4679, 'cinematographer': 819, 'blah': 496, 'chest': 784, 'woody': 4936, 'allen': 188, 'shirt': 3937, 'thru': 4483, 'airport': 167, 'slick': 4026, '1972': 18, 'buffs': 612, 'bugs': 613, 'walked': 4776, 'raising': 3509, 'instinct': 2308, 'mighty': 2836, 'betty': 474, 'poem': 3312, 'raymond': 3534, 'merits': 2817, 'property': 3438, 'caliber': 649, 'outrageous': 3145, 'stevens': 4183, 'phony': 3256, 'survivor': 4324, 'method': 2824, 'stole': 4194, 'angela': 232, '1933': 12, 'tooth': 4524, 'historically': 2120, 'sits': 4006, 'walken': 4777, 'pig': 3274, 'invasion': 2340, 'soviet': 4089, '18': 10, 'glimpse': 1919, 'waves': 4819, 'mildred': 2841, 'pokemon': 3320, 'button': 639, 'contest': 967, 'landscapes': 2514, 'rap': 3520, 'bang': 393, 'robinson': 3716, 'elaborate': 1439, 'simmons': 3981, 'gadget': 1860, 'illogical': 2231, 'mars': 2746, 'singers': 3994, 'cagney': 646, 'stiller': 4189, 'ps': 3453, 'wizard': 4919, 'moronic': 2907, 'bull': 619, '13th': 5, 'horrifying': 2167, 'ruby': 3749, 'lumet': 2688, 'behave': 445, 'fulci': 1845, 'gundam': 1997, 'brutally': 604, 'shirley': 3936, 'carradine': 695, 'astaire': 330, 'stretched': 4222, 'ballet': 389, 'bumbling': 622, 'diamond': 1236, 'deaf': 1134, 'bettie': 473, 'species': 4098, 'mickey': 2831, 'mayor': 2777, 'pit': 3278, 'dalton': 1098, 'sandra': 3782, 'charlotte': 766, 'melting': 2799}\n"
     ]
    }
   ],
   "source": [
    "print(str(vocabulary))"
   ]
  },
  {
   "cell_type": "markdown",
   "metadata": {},
   "source": [
    "Once you have added the endpoint name to the Lambda function, click on **Save**. Your Lambda function is now up and running. Next we need to create a way for our web app to execute the Lambda function."
   ]
  },
  {
   "cell_type": "markdown",
   "metadata": {},
   "source": [
    "### Setting up API Gateway\n",
    "\n",
    "Now that our Lambda function is set up, it is time to create a new API using API Gateway that will trigger the Lambda function we have just created.\n",
    "\n",
    "Using AWS Console, navigate to **Amazon API Gateway** and then click on **Get started**.\n",
    "\n",
    "On the next page, make sure that **New API** is selected and give the new api a name, for example, `sentiment_analysis_web_app`. Then, click on **Create API**.\n",
    "\n",
    "Now we have created an API, however it doesn't currently do anything. What we want it to do is to trigger the Lambda function that we created earlier.\n",
    "\n",
    "Select the **Actions** dropdown menu and click **Create Method**. A new blank method will be created, select its dropdown menu and select **POST**, then click on the check mark beside it.\n",
    "\n",
    "For the integration point, make sure that **Lambda Function** is selected and click on the **Use Lambda Proxy integration**. This option makes sure that the data that is sent to the API is then sent directly to the Lambda function with no processing. It also means that the return value must be a proper response object as it will also not be processed by API Gateway.\n",
    "\n",
    "Type the name of the Lambda function you created earlier into the **Lambda Function** text entry box and then click on **Save**. Click on **OK** in the pop-up box that then appears, giving permission to API Gateway to invoke the Lambda function you created.\n",
    "\n",
    "The last step in creating the API Gateway is to select the **Actions** dropdown and click on **Deploy API**. You will need to create a new Deployment stage and name it anything you like, for example `prod`.\n",
    "\n",
    "You have now successfully set up a public API to access your SageMaker model. Make sure to copy or write down the URL provided to invoke your newly created public API as this will be needed in the next step. This URL can be found at the top of the page, highlighted in blue next to the text **Invoke URL**."
   ]
  },
  {
   "cell_type": "markdown",
   "metadata": {},
   "source": [
    "## Step 7: Deploying our web app\n",
    "\n",
    "Now that we have a publicly available API, we can start using it in a web app. For our purposes, we have provided a simple static html file which can make use of the public api you created earlier.\n",
    "\n",
    "In the `website` folder there should be a file called `index.html`. Download the file to your computer and open that file up in a text editor of your choice. There should be a line which contains **\\*\\*REPLACE WITH PUBLIC API URL\\*\\***. Replace this string with the url that you wrote down in the last step and then save the file.\n",
    "\n",
    "Now, if you open `index.html` on your local computer, your browser will behave as a local web server and you can use the provided site to interact with your SageMaker model.\n",
    "\n",
    "If you'd like to go further, you can host this html file anywhere you'd like, for example using github or hosting a static site on Amazon's S3. Once you have done this you can share the link with anyone you'd like and have them play with it too!\n",
    "\n",
    "> **Important Note** In order for the web app to communicate with the SageMaker endpoint, the endpoint has to actually be deployed and running. This means that you are paying for it. Make sure that the endpoint is running when you want to use the web app but that you shut it down when you don't need it, otherwise you will end up with a surprisingly large AWS bill."
   ]
  },
  {
   "cell_type": "markdown",
   "metadata": {},
   "source": [
    "### Delete the endpoint\n",
    "\n",
    "Remember to always shut down your endpoint if you are no longer using it. You are charged for the length of time that the endpoint is running so if you forget and leave it on you could end up with an unexpectedly large bill."
   ]
  },
  {
   "cell_type": "code",
   "execution_count": 51,
   "metadata": {},
   "outputs": [],
   "source": [
    "xgb_predictor.delete_endpoint()"
   ]
  },
  {
   "cell_type": "markdown",
   "metadata": {},
   "source": [
    "## Optional: Clean up\n",
    "\n",
    "The default notebook instance on SageMaker doesn't have a lot of excess disk space available. As you continue to complete and execute notebooks you will eventually fill up this disk space, leading to errors which can be difficult to diagnose. Once you are completely finished using a notebook it is a good idea to remove the files that you created along the way. Of course, you can do this from the terminal or from the notebook hub if you would like. The cell below contains some commands to clean up the created files from within the notebook."
   ]
  },
  {
   "cell_type": "code",
   "execution_count": null,
   "metadata": {},
   "outputs": [],
   "source": [
    "# First we will remove all of the files contained in the data_dir directory\n",
    "!rm $data_dir/*\n",
    "\n",
    "# And then we delete the directory itself\n",
    "!rmdir $data_dir\n",
    "\n",
    "# Similarly we remove the files in the cache_dir directory and the directory itself\n",
    "!rm $cache_dir/*\n",
    "!rmdir $cache_dir"
   ]
  }
 ],
 "metadata": {
  "kernelspec": {
   "display_name": "conda_python3",
   "language": "python",
   "name": "conda_python3"
  },
  "language_info": {
   "codemirror_mode": {
    "name": "ipython",
    "version": 3
   },
   "file_extension": ".py",
   "mimetype": "text/x-python",
   "name": "python",
   "nbconvert_exporter": "python",
   "pygments_lexer": "ipython3",
   "version": "3.6.5"
  }
 },
 "nbformat": 4,
 "nbformat_minor": 2
}
